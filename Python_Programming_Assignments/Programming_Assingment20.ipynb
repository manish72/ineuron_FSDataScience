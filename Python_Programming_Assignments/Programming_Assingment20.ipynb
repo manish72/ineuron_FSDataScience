{
 "cells": [
  {
   "cell_type": "markdown",
   "id": "7b4f8a3f-0a8e-44f7-bb1e-0e98894a3ef8",
   "metadata": {},
   "source": [
    "### 1. Create a function that takes a list of strings and integers, and filters out the list so that it returns a list of integers only"
   ]
  },
  {
   "cell_type": "code",
   "execution_count": 3,
   "id": "65ab141d-4314-4316-8ee7-c4acee997352",
   "metadata": {},
   "outputs": [
    {
     "name": "stdout",
     "output_type": "stream",
     "text": [
      "[1, 2, 3, 4]\n",
      "[0, 1729]\n"
     ]
    }
   ],
   "source": [
    "def filter_list(list1):\n",
    "    return [c for c in list1 if type(c) == int]\n",
    "\n",
    "print(filter_list([1, 2, 3, \"a\", \"b\", 4]))\n",
    "print(filter_list([\"A\", 0, \"Edabit\", 1729, \"Python\", \"1729\"])) "
   ]
  },
  {
   "cell_type": "markdown",
   "id": "1e797393-df2c-4dba-aae2-89e796b8f6c7",
   "metadata": {},
   "source": [
    "### 2. Given a list of numbers, create a function which returns the list but with each element's index in the list added to itself. This means you add 0 to the number at index 0, add 1 to the number at index 1, etc..."
   ]
  },
  {
   "cell_type": "code",
   "execution_count": 5,
   "id": "7140d597-6ac9-4a71-b5dc-165438dc350a",
   "metadata": {},
   "outputs": [
    {
     "name": "stdout",
     "output_type": "stream",
     "text": [
      "[0, 1, 2, 3, 4]\n",
      "[1, 3, 5, 7, 9]\n",
      "[5, 5, 5, 5, 5]\n"
     ]
    }
   ],
   "source": [
    "def add_indexes(list1):\n",
    "    return [list1[i] + i for i in range(len(list1))]\n",
    "\n",
    "print(add_indexes([0, 0, 0, 0, 0]))\n",
    "print(add_indexes([1, 2, 3, 4, 5]))\n",
    "print(add_indexes([5, 4, 3, 2, 1]))"
   ]
  },
  {
   "cell_type": "markdown",
   "id": "c3c3fe58-bf09-412d-84db-6c98c1152947",
   "metadata": {},
   "source": [
    "### 3. Create a function that takes the height and radius of a cone as arguments and returns the volume of the cone rounded to the nearest hundredth. See the resources tab for the formula."
   ]
  },
  {
   "cell_type": "code",
   "execution_count": 12,
   "id": "93ffbdf1-0aaf-4155-a587-21a954b41805",
   "metadata": {},
   "outputs": [
    {
     "name": "stdin",
     "output_type": "stream",
     "text": [
      "Enter height 3\n",
      "Enter radius 2\n"
     ]
    },
    {
     "name": "stdout",
     "output_type": "stream",
     "text": [
      "13\n"
     ]
    }
   ],
   "source": [
    "def cone_volume(h,r):\n",
    "    return round(3.14 * (r ** 2) * (h//3))\n",
    "\n",
    "h = int(input('Enter height'))\n",
    "r = int(input('Enter radius'))\n",
    "print(cone_volume(h,r))"
   ]
  },
  {
   "cell_type": "markdown",
   "id": "171ef444-eb54-4032-8aea-2dc60129255e",
   "metadata": {},
   "source": [
    "### 4. This Triangular Number Sequence is generated from a pattern of dots that form a triangle. The first 5 numbers of the sequence, or dots, are: "
   ]
  },
  {
   "cell_type": "code",
   "execution_count": 14,
   "id": "ca4930f3-4364-491c-9893-2a7c54fbd972",
   "metadata": {},
   "outputs": [
    {
     "name": "stdin",
     "output_type": "stream",
     "text": [
      "Enter number 215\n"
     ]
    },
    {
     "name": "stdout",
     "output_type": "stream",
     "text": [
      "23220\n"
     ]
    }
   ],
   "source": [
    "def triangle(n):\n",
    "    return round(n*(n+1)*0.5)\n",
    "\n",
    "n = int(input('Enter number'))\n",
    "print(triangle(n))"
   ]
  },
  {
   "cell_type": "markdown",
   "id": "03097093-4e57-449e-a356-a4bc9d3c9e42",
   "metadata": {},
   "source": [
    "### 5. Create a function that takes a list of numbers between 1 and 10 (excluding one number) and returns the missing number."
   ]
  },
  {
   "cell_type": "code",
   "execution_count": 17,
   "id": "4442ce1b-46aa-48ea-b9b6-7b5abb9e09ab",
   "metadata": {},
   "outputs": [
    {
     "name": "stdout",
     "output_type": "stream",
     "text": [
      "5\n",
      "10\n",
      "7\n"
     ]
    }
   ],
   "source": [
    "def missing_num(list1):\n",
    "    total_sum = sum(list(range(1,11)))\n",
    "    return total_sum - sum(list1)\n",
    "print(missing_num([1,2,3,4,6,7,8,9,10]))\n",
    "print(missing_num([7, 2, 3, 6, 5, 9, 1, 4, 8]))\n",
    "print(missing_num([10, 5, 1, 2, 4, 6, 8, 3, 9]))"
   ]
  }
 ],
 "metadata": {
  "kernelspec": {
   "display_name": "Python 3 (ipykernel)",
   "language": "python",
   "name": "python3"
  },
  "language_info": {
   "codemirror_mode": {
    "name": "ipython",
    "version": 3
   },
   "file_extension": ".py",
   "mimetype": "text/x-python",
   "name": "python",
   "nbconvert_exporter": "python",
   "pygments_lexer": "ipython3",
   "version": "3.10.6"
  }
 },
 "nbformat": 4,
 "nbformat_minor": 5
}
