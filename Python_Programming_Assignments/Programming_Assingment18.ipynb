{
 "cells": [
  {
   "cell_type": "markdown",
   "id": "ac18ede0-5ecd-459a-b6df-4dd0da7ebdef",
   "metadata": {},
   "source": [
    "### 1. Create a function that takes a list of non-negative integers and strings and return a new list without the strings"
   ]
  },
  {
   "cell_type": "code",
   "execution_count": 4,
   "id": "21b530bd-8765-4fd7-8b5a-04fccc362bfe",
   "metadata": {},
   "outputs": [
    {
     "name": "stdout",
     "output_type": "stream",
     "text": [
      "Filtered list is [1, 2, 123]\n"
     ]
    }
   ],
   "source": [
    "def filter_list(list1):\n",
    "    fin_list = list()\n",
    "    for i in list1:\n",
    "        if type(i) == int:\n",
    "            fin_list.append(i)\n",
    "    return fin_list\n",
    "\n",
    "list1 = [1, 2, \"aasf\", \"1\", \"123\", 123]\n",
    "print(f'Filtered list is {filter_list(list1)}')"
   ]
  },
  {
   "cell_type": "markdown",
   "id": "d422cdcd-735f-4721-88f2-252cccf9d28f",
   "metadata": {},
   "source": [
    "### 2. The \"Reverser\" takes a string as input and returns that string in reverse order, with the opposite case."
   ]
  },
  {
   "cell_type": "code",
   "execution_count": 8,
   "id": "df920b57-7d3d-41a7-a7f6-bdea03247cf4",
   "metadata": {},
   "outputs": [
    {
     "name": "stdin",
     "output_type": "stream",
     "text": [
      "Enter string Hello World\n"
     ]
    },
    {
     "name": "stdout",
     "output_type": "stream",
     "text": [
      "String reverse order with opposite case is DLROw OLLEh\n"
     ]
    }
   ],
   "source": [
    "def reverse1(string):\n",
    "    return string.swapcase()[::-1]\n",
    "\n",
    "str1 = input('Enter string')\n",
    "print(f\"String reverse order with opposite case is {reverse1(str1)}\")"
   ]
  },
  {
   "cell_type": "markdown",
   "id": "625e5333-2fee-426c-ae08-530885f2e6ed",
   "metadata": {},
   "source": [
    "### 3. Create variables first, middle and last from the given list using destructuring assignment "
   ]
  },
  {
   "cell_type": "code",
   "execution_count": 11,
   "id": "fc3db42d-76b6-49cb-aa29-6ae203c17bb3",
   "metadata": {},
   "outputs": [
    {
     "name": "stdout",
     "output_type": "stream",
     "text": [
      "First : 1\n",
      "Middle : [2, 3, 4, 5]\n",
      "Last : 6\n"
     ]
    }
   ],
   "source": [
    "lst = [1, 2, 3, 4, 5, 6]\n",
    "first,*middle,last = lst\n",
    "print(f\"First : {first}\")\n",
    "print(f\"Middle : {middle}\")\n",
    "print(f\"Last : {last}\")"
   ]
  },
  {
   "cell_type": "markdown",
   "id": "a986708b-9063-42a4-a6b0-734022c0d4a0",
   "metadata": {},
   "source": [
    "### 4. Write a function that calculates the factorial of a number recursively."
   ]
  },
  {
   "cell_type": "code",
   "execution_count": 12,
   "id": "4a3abd8c-c76f-4277-a263-fb9af3bf87df",
   "metadata": {},
   "outputs": [
    {
     "name": "stdin",
     "output_type": "stream",
     "text": [
      "Enter number: 5\n"
     ]
    },
    {
     "name": "stdout",
     "output_type": "stream",
     "text": [
      "Factorial of a given number is 120\n"
     ]
    }
   ],
   "source": [
    "def factorial(num):\n",
    "    if num == 1 or num == 0:\n",
    "        return 1\n",
    "    else:\n",
    "        return num * factorial(num-1)\n",
    "\n",
    "num = int(input('Enter number:'))\n",
    "print(f'Factorial of a given number is {factorial(num)}')"
   ]
  },
  {
   "cell_type": "markdown",
   "id": "30ed21fa-0c4f-4117-95db-c84a06b61a3a",
   "metadata": {},
   "source": [
    "### 5. Write a function that moves all elements of one type to the end of the list."
   ]
  },
  {
   "cell_type": "code",
   "execution_count": 19,
   "id": "6045db43-c43f-42ef-9c4f-1b3c10f6a532",
   "metadata": {},
   "outputs": [
    {
     "name": "stdin",
     "output_type": "stream",
     "text": [
      "Enter string to move 4\n"
     ]
    },
    {
     "name": "stdout",
     "output_type": "stream",
     "text": [
      "['1', '3', '2', '1', '4', '4']\n"
     ]
    }
   ],
   "source": [
    "def move_to_end(list1,spec_char):\n",
    "    count = list1.count(spec_char)\n",
    "    for i in range(count):\n",
    "        list1.remove(spec_char)\n",
    "        list1.append(spec_char)\n",
    "    return list1\n",
    "\n",
    "lst = ['1', '3', '2', '4','4', '1']\n",
    "char = input('Enter string to move')\n",
    "print(move_to_end(lst,char))"
   ]
  }
 ],
 "metadata": {
  "kernelspec": {
   "display_name": "Python 3 (ipykernel)",
   "language": "python",
   "name": "python3"
  },
  "language_info": {
   "codemirror_mode": {
    "name": "ipython",
    "version": 3
   },
   "file_extension": ".py",
   "mimetype": "text/x-python",
   "name": "python",
   "nbconvert_exporter": "python",
   "pygments_lexer": "ipython3",
   "version": "3.10.6"
  }
 },
 "nbformat": 4,
 "nbformat_minor": 5
}
