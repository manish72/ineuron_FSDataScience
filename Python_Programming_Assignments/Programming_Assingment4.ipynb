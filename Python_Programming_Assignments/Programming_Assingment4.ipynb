{
 "cells": [
  {
   "cell_type": "code",
   "execution_count": 38,
   "id": "fee2cbe9-3ecd-4bb9-9938-59abd85b12dd",
   "metadata": {},
   "outputs": [
    {
     "name": "stdin",
     "output_type": "stream",
     "text": [
      "Enter number:  10\n"
     ]
    },
    {
     "name": "stdout",
     "output_type": "stream",
     "text": [
      "Factorial of 10 is 3628800\n"
     ]
    }
   ],
   "source": [
    "#1.\tWrite a Python Program to Find the Factorial of a Number?\n",
    "num = int(input(\"Enter number: \"))\n",
    "fac = 1\n",
    "for i in range(1, num+1):\n",
    "    fac*=i\n",
    "print(f\"Factorial of {num} is {fac}\")"
   ]
  },
  {
   "cell_type": "code",
   "execution_count": 39,
   "id": "f3f4bec6-492e-4a24-a3da-e5c144a52567",
   "metadata": {},
   "outputs": [
    {
     "name": "stdin",
     "output_type": "stream",
     "text": [
      "Enter number:  25\n"
     ]
    },
    {
     "name": "stdout",
     "output_type": "stream",
     "text": [
      "1 * 25 = 25\n",
      "2 * 25 = 50\n",
      "3 * 25 = 75\n",
      "4 * 25 = 100\n",
      "5 * 25 = 125\n",
      "6 * 25 = 150\n",
      "7 * 25 = 175\n",
      "8 * 25 = 200\n",
      "9 * 25 = 225\n",
      "10 * 25 = 250\n"
     ]
    }
   ],
   "source": [
    "#2.\tWrite a Python Program to Display the multiplication Table?\n",
    "num = int(input(\"Enter number: \"))\n",
    "for i in range(1, 11):\n",
    "    print(f\"{i} * {num} = {i*num}\")"
   ]
  },
  {
   "cell_type": "code",
   "execution_count": 40,
   "id": "993f5e42-6db9-40a2-ac37-b84f357d8c76",
   "metadata": {},
   "outputs": [
    {
     "name": "stdin",
     "output_type": "stream",
     "text": [
      "Enter range:  10\n"
     ]
    },
    {
     "name": "stdout",
     "output_type": "stream",
     "text": [
      "0 1 1 2 3 5 8 13 21 34 "
     ]
    }
   ],
   "source": [
    "#3.\tWrite a Python Program to Print the Fibonacci sequence?\n",
    "num = int(input(\"Enter range: \"))\n",
    "a = 0\n",
    "b = 1\n",
    "print(a, b , end=\" \")\n",
    "for i in range(0,num-2):\n",
    "    c = a + b\n",
    "    print(c, end=\" \")\n",
    "    a = b\n",
    "    b = c"
   ]
  },
  {
   "cell_type": "code",
   "execution_count": 41,
   "id": "a5750b6c-e299-45e7-ae38-078b86f29ae0",
   "metadata": {},
   "outputs": [
    {
     "name": "stdin",
     "output_type": "stream",
     "text": [
      "Enter number:  153\n"
     ]
    },
    {
     "name": "stdout",
     "output_type": "stream",
     "text": [
      "153 is an Armstrong number\n"
     ]
    }
   ],
   "source": [
    "#4.\tWrite a Python Program to Check Armstrong Number?\n",
    "import math\n",
    "num = input(\"Enter number: \")\n",
    "num_len = len(num)\n",
    "temp = 0\n",
    "for i in num:\n",
    "    temp = temp + math.pow(int(i), num_len)\n",
    "if int(num) == temp:\n",
    "    print(f\"{num} is an Armstrong number\")\n",
    "else:\n",
    "    print(f\"{num} is a not Armstrong number\")"
   ]
  },
  {
   "cell_type": "code",
   "execution_count": 44,
   "id": "07727753-d3d2-487a-bbf0-49c72610b50e",
   "metadata": {},
   "outputs": [
    {
     "name": "stdout",
     "output_type": "stream",
     "text": [
      "Enter your range to check armstrong numbers in a given range\n"
     ]
    },
    {
     "name": "stdin",
     "output_type": "stream",
     "text": [
      "Enter number to starts from:  150\n",
      "Enter number where to end the range:  155\n"
     ]
    },
    {
     "name": "stdout",
     "output_type": "stream",
     "text": [
      "150 is a not Armstrong number\n",
      "151 is a not Armstrong number\n",
      "152 is a not Armstrong number\n",
      "153 is an Armstrong number\n",
      "154 is a not Armstrong number\n"
     ]
    }
   ],
   "source": [
    "#5.\tWrite a Python Program to Find Armstrong Number in an Interval?\n",
    "import math\n",
    "print(\"Enter your range to check armstrong numbers in a given range\")\n",
    "a = int(input(\"Enter number to starts from: \"))\n",
    "b = int(input(\"Enter number where to end the range: \"))\n",
    "for i in range(a,b):\n",
    "    num_len = len(str(i))\n",
    "    temp = 0\n",
    "    for j in str(i):\n",
    "        temp = temp + math.pow(int(j), num_len)\n",
    "    if int(i) == temp:\n",
    "        print(f\"{i} is an Armstrong number\")\n",
    "    else:\n",
    "        print(f\"{i} is a not Armstrong number\")"
   ]
  },
  {
   "cell_type": "code",
   "execution_count": 43,
   "id": "e5f49d49-3f07-4ed6-a933-4ab441728926",
   "metadata": {},
   "outputs": [
    {
     "name": "stdin",
     "output_type": "stream",
     "text": [
      "Enter your range:  10\n"
     ]
    },
    {
     "name": "stdout",
     "output_type": "stream",
     "text": [
      "Sum of natural numbers upto range 10 is 55\n"
     ]
    }
   ],
   "source": [
    "#6.\tWrite a Python Program to Find the Sum of Natural Numbers?\n",
    "rang = int(input(\"Enter your range: \"))\n",
    "print(f\"Sum of natural numbers upto range {rang} is {int((rang*(rang+1))/2)}\")    "
   ]
  }
 ],
 "metadata": {
  "kernelspec": {
   "display_name": "Python 3 (ipykernel)",
   "language": "python",
   "name": "python3"
  },
  "language_info": {
   "codemirror_mode": {
    "name": "ipython",
    "version": 3
   },
   "file_extension": ".py",
   "mimetype": "text/x-python",
   "name": "python",
   "nbconvert_exporter": "python",
   "pygments_lexer": "ipython3",
   "version": "3.10.6"
  }
 },
 "nbformat": 4,
 "nbformat_minor": 5
}
