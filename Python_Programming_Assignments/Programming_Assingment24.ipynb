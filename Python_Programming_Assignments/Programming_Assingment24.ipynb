{
 "cells": [
  {
   "cell_type": "markdown",
   "id": "7f452572-b1ae-4a80-8880-b308687dcdc5",
   "metadata": {},
   "source": [
    "### 1. Create a function that takes an integer and returns a list from 1 to the given number"
   ]
  },
  {
   "cell_type": "code",
   "execution_count": 8,
   "id": "637c87a7-aedd-4e5a-bd74-9dc861b5062b",
   "metadata": {},
   "outputs": [
    {
     "name": "stdout",
     "output_type": "stream",
     "text": [
      "[1, 2, 3, 40]\n",
      "[1, 2, 3]\n",
      "[1, 2, 3, 40, 5, 6, 7, 80, 9, 10, 11, 120, 13, 14, 15, 160, 17, 18, 19, 200, 21, 22, 23, 240, 25]\n"
     ]
    }
   ],
   "source": [
    "def amplify(num):      \n",
    "    return [ i * 10 if i % 4 == 0 else i for i in range(1,num+1)]\n",
    "print(amplify(4))\n",
    "print(amplify(3))\n",
    "print(amplify(25))"
   ]
  },
  {
   "cell_type": "markdown",
   "id": "114447f0-e5ab-4c8f-a624-8f080f26dc15",
   "metadata": {},
   "source": [
    "### 2. Create a function that takes a list of numbers and return the number that's unique."
   ]
  },
  {
   "cell_type": "code",
   "execution_count": 11,
   "id": "181729d1-0dc5-4b0b-8d01-ed6d9ae6a68a",
   "metadata": {},
   "outputs": [
    {
     "name": "stdout",
     "output_type": "stream",
     "text": [
      "7\n",
      "0.77\n",
      "0\n"
     ]
    }
   ],
   "source": [
    "def unique(list1):\n",
    "    fin_dict = dict()\n",
    "    for i in list1:\n",
    "        fin_dict[i] = fin_dict.get(i,0) + 1\n",
    "    for i in fin_dict:\n",
    "        if fin_dict[i] == 1:\n",
    "            return i\n",
    "        \n",
    "print(unique([3, 3, 3, 7, 3, 3]))\n",
    "print(unique([0, 0, 0.77, 0, 0]))\n",
    "print(unique([0, 1, 1, 1, 1, 1, 1, 1]))"
   ]
  },
  {
   "cell_type": "markdown",
   "id": "5874e57b-69d2-44b8-b27c-baf459244ceb",
   "metadata": {},
   "source": [
    "### 3. Your task is to create a Circle constructor that creates a circle with a radius provided by an argument. The circles constructed must have two getters getArea() (PIr^2) and getPerimeter() (2PI*r) which give both respective areas and perimeter (circumference)."
   ]
  },
  {
   "cell_type": "code",
   "execution_count": 14,
   "id": "f0407d8c-ce5e-4585-9e00-e1ac05961c8e",
   "metadata": {},
   "outputs": [
    {
     "name": "stdout",
     "output_type": "stream",
     "text": [
      "380\n",
      "28\n"
     ]
    }
   ],
   "source": [
    "class Circle:\n",
    "    def __init__(self,radius):\n",
    "        self.radius = radius\n",
    "    def getArea(self):\n",
    "        return round(3.14 * (self.radius ** 2))\n",
    "    def getPerimeter(self):\n",
    "        return round(2 * 3.14 * self.radius)\n",
    "\n",
    "circy = Circle(11)\n",
    "print(circy.getArea())\n",
    "\n",
    "# Should return 380.132711084365\n",
    "\n",
    "circy = Circle(4.44)\n",
    "print(circy.getPerimeter())\n",
    "\n",
    "# Should return 27.897342763877365"
   ]
  },
  {
   "cell_type": "markdown",
   "id": "d7c94a91-8dea-4740-9f79-07f1ac6a4219",
   "metadata": {},
   "source": [
    "### 4. Create a function that takes a list of strings and return a list, sorted from shortest to longest."
   ]
  },
  {
   "cell_type": "code",
   "execution_count": 15,
   "id": "31a6f92a-baff-4183-8e84-2cf43806bc92",
   "metadata": {},
   "outputs": [
    {
     "name": "stdout",
     "output_type": "stream",
     "text": [
      "['Apple', 'Google', 'Microsoft']\n",
      "['Raphael', 'Leonardo', 'Donatello', 'Michelangelo']\n",
      "['Jung', 'Turing', 'Einstein']\n"
     ]
    }
   ],
   "source": [
    "def sort_by_length(list1):\n",
    "    return sorted(list1,key = len)\n",
    "\n",
    "print(sort_by_length([\"Google\", \"Apple\", \"Microsoft\"]))\n",
    "print(sort_by_length([\"Leonardo\", \"Michelangelo\", \"Raphael\", \"Donatello\"]))\n",
    "print(sort_by_length([\"Turing\", \"Einstein\", \"Jung\"]))"
   ]
  },
  {
   "cell_type": "markdown",
   "id": "35405ce5-27e9-46de-85bb-a7cab1c5030c",
   "metadata": {},
   "source": [
    "### 5. Create a function that validates whether three given integers form a Pythagorean triplet. The sum of the squares of the two smallest integers must equal the square of the largest number to be validated."
   ]
  },
  {
   "cell_type": "code",
   "execution_count": 19,
   "id": "ad6ddb5a-12ce-41d5-9cde-212fbf40f77a",
   "metadata": {},
   "outputs": [
    {
     "name": "stdout",
     "output_type": "stream",
     "text": [
      "True\n",
      "True\n",
      "False\n"
     ]
    }
   ],
   "source": [
    "def is_triplet(a,b,c):\n",
    "    list1 = [a,b,c]\n",
    "    list1 = sorted(list1)\n",
    "    return list1[0] ** 2 + list1[1] ** 2 == list1[2] ** 2\n",
    "    \n",
    "print(is_triplet(3, 4, 5))\n",
    "print(is_triplet(13, 5, 12))\n",
    "print(is_triplet(1, 2, 3))"
   ]
  }
 ],
 "metadata": {
  "kernelspec": {
   "display_name": "Python 3 (ipykernel)",
   "language": "python",
   "name": "python3"
  },
  "language_info": {
   "codemirror_mode": {
    "name": "ipython",
    "version": 3
   },
   "file_extension": ".py",
   "mimetype": "text/x-python",
   "name": "python",
   "nbconvert_exporter": "python",
   "pygments_lexer": "ipython3",
   "version": "3.10.6"
  }
 },
 "nbformat": 4,
 "nbformat_minor": 5
}
