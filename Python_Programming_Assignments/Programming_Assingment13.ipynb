{
 "cells": [
  {
   "cell_type": "markdown",
   "id": "83471fd9-e818-4b59-9396-4be448583559",
   "metadata": {},
   "source": [
    "### 1. Write a program that calculates and prints the value according to the given formula"
   ]
  },
  {
   "cell_type": "code",
   "execution_count": 1,
   "id": "e7a9b01e-d6d9-48f1-a668-7e5a6f9e7b67",
   "metadata": {},
   "outputs": [
    {
     "name": "stdin",
     "output_type": "stream",
     "text": [
      " 100,150,180\n"
     ]
    },
    {
     "name": "stdout",
     "output_type": "stream",
     "text": [
      "Output after finding each number square root are: \n",
      "18,22,24\n"
     ]
    }
   ],
   "source": [
    "import math\n",
    "def findSquareRoot(n):\n",
    "    return round(math.sqrt((2*50*n)//30))\n",
    "\n",
    "inp = list(map(int, input().split(\",\")))\n",
    "print(\"Output after finding each number square root are: \")\n",
    "out_str_list = list()\n",
    "for i in inp:\n",
    "    out_str_list.append(str(findSquareRoot(i)))\n",
    "print(','.join(out_str_list))"
   ]
  },
  {
   "cell_type": "markdown",
   "id": "d2e08696-6c13-4926-9605-36f4602c53ee",
   "metadata": {},
   "source": [
    "### 2. Write a program which takes 2 digits, X,Y as input and generates a 2-dimensional array. The element value in the i-th row and j-th column of the array should be i*j."
   ]
  },
  {
   "cell_type": "code",
   "execution_count": 2,
   "id": "c205e386-4754-48cc-badf-a034ee63df09",
   "metadata": {},
   "outputs": [
    {
     "name": "stdin",
     "output_type": "stream",
     "text": [
      "Enter value of x: 3\n",
      "Enter value of y: 5\n"
     ]
    },
    {
     "name": "stdout",
     "output_type": "stream",
     "text": [
      "[[0, 0, 0, 0, 0], [0, 1, 2, 3, 4], [0, 2, 4, 6, 8]]\n"
     ]
    }
   ],
   "source": [
    "x = int(input(\"Enter value of x:\"))\n",
    "y = int(input(\"Enter value of y:\"))\n",
    "\n",
    "dim2_array = []\n",
    "for i in range(0,x):\n",
    "    temp = list()\n",
    "    for j in range(0,y):\n",
    "        temp.append(i*j)\n",
    "    dim2_array.append(temp)\n",
    "\n",
    "print(dim2_array)"
   ]
  },
  {
   "cell_type": "markdown",
   "id": "3e87525b-c04b-4031-be4d-3c6ea165af63",
   "metadata": {},
   "source": [
    "### 3. Write a program that accepts a comma separated sequence of words as input and prints the words in a comma-separated sequence after sorting them alphabetically."
   ]
  },
  {
   "cell_type": "code",
   "execution_count": 5,
   "id": "ca072647-2515-42d3-b4cb-de5072d10bcc",
   "metadata": {},
   "outputs": [
    {
     "name": "stdin",
     "output_type": "stream",
     "text": [
      "Enter comma separated words: without,hello,bag,world\n"
     ]
    },
    {
     "name": "stdout",
     "output_type": "stream",
     "text": [
      "Output after sorting the words in a sentence is: bag,hello,without,world\n"
     ]
    }
   ],
   "source": [
    "sentence = input(\"Enter comma separated words:\")\n",
    "fin_list = sorted(sentence.split(\",\"))\n",
    "print(\"Output after sorting the words in a sentence is:\",','.join(fin_list))"
   ]
  },
  {
   "cell_type": "markdown",
   "id": "54b073be-c1a3-480b-88a1-0a8366c5c874",
   "metadata": {},
   "source": [
    "### 4. Write a program that accepts a sequence of whitespace separated words as input and prints the words after removing all duplicate words and sorting them alphanumerically."
   ]
  },
  {
   "cell_type": "code",
   "execution_count": 8,
   "id": "66952be0-d8fd-4724-bcb8-7403cc6bd1e6",
   "metadata": {},
   "outputs": [
    {
     "name": "stdin",
     "output_type": "stream",
     "text": [
      "Enter sentence: hello world and practice makes perfect and hello world again\n"
     ]
    },
    {
     "name": "stdout",
     "output_type": "stream",
     "text": [
      "Output after sorting the words in a sentence is: again and hello makes perfect practice world\n"
     ]
    }
   ],
   "source": [
    "sentence = input(\"Enter sentence:\")\n",
    "fin_list = sorted(list(set(sentence.split(\" \"))))\n",
    "print(\"Output after sorting the words in a sentence is:\",' '.join(fin_list))"
   ]
  },
  {
   "cell_type": "markdown",
   "id": "9531b928-348c-408f-b2ad-09402f557506",
   "metadata": {},
   "source": [
    "### 5. Write a program that accepts a sentence and calculate the number of letters and digits."
   ]
  },
  {
   "cell_type": "code",
   "execution_count": 9,
   "id": "cbff640f-72bb-4c9b-8683-4675522aee1a",
   "metadata": {},
   "outputs": [
    {
     "name": "stdin",
     "output_type": "stream",
     "text": [
      "Enter sentence: hello world! 123\n"
     ]
    },
    {
     "name": "stdout",
     "output_type": "stream",
     "text": [
      "LETTERS 10 \n",
      "DIGITS 3\n"
     ]
    }
   ],
   "source": [
    "sentence = input(\"Enter sentence:\")\n",
    "l,d = 0,0\n",
    "for i in sentence:\n",
    "    if i.isalpha():\n",
    "        l+=1\n",
    "    elif i.isdigit():\n",
    "        d+=1\n",
    "print(\"LETTERS\",l,\"\\nDIGITS\",d)"
   ]
  },
  {
   "cell_type": "markdown",
   "id": "f873732d-f42c-40b3-94c2-edcc9b2b5f46",
   "metadata": {},
   "source": [
    "### 6. A website requires the users to input username and password to register. Write a program to check the validity of password input by users."
   ]
  },
  {
   "cell_type": "code",
   "execution_count": 20,
   "id": "5897cd6c-49af-41a4-a6cb-be150af360ea",
   "metadata": {},
   "outputs": [
    {
     "name": "stdin",
     "output_type": "stream",
     "text": [
      "Enter comma separated passwords: ABd1234@1,a F1#,2w3E*,2We3345\n"
     ]
    },
    {
     "name": "stdout",
     "output_type": "stream",
     "text": [
      "List of valid passwords are ABd1234@1\n"
     ]
    }
   ],
   "source": [
    "def validate_password(password):\n",
    "    capalpha,smallalpha,numerics,chrs = 0,0,0,0\n",
    "    for i in password:\n",
    "        if ord(i) >= 65 and ord(i) <= 90:\n",
    "            capalpha += 1\n",
    "        elif ord(i) >= 97 and ord(i) <= 122:\n",
    "            smallalpha += 1 \n",
    "        elif ord(i) >= 48 and ord(i) <= 57:\n",
    "            numerics += 1\n",
    "        elif i in ['$','#','@']:\n",
    "            chrs += 1\n",
    "        else:\n",
    "            return False\n",
    "    if capalpha >= 1 and smallalpha >= 1 and numerics >= 1 and chrs >= 1:\n",
    "        return True\n",
    "    else:\n",
    "        return False\n",
    "        \n",
    "sentence = input(\"Enter comma separated passwords:\")\n",
    "validate_pass_list = list()\n",
    "for i in sentence.split(\",\"):\n",
    "    if len(i) >= 6 and len(i) <= 12:\n",
    "        if validate_password(i):\n",
    "            validate_pass_list.append(i)\n",
    "print('List of valid passwords are',','.join(validate_pass_list))"
   ]
  }
 ],
 "metadata": {
  "kernelspec": {
   "display_name": "Python 3 (ipykernel)",
   "language": "python",
   "name": "python3"
  },
  "language_info": {
   "codemirror_mode": {
    "name": "ipython",
    "version": 3
   },
   "file_extension": ".py",
   "mimetype": "text/x-python",
   "name": "python",
   "nbconvert_exporter": "python",
   "pygments_lexer": "ipython3",
   "version": "3.10.6"
  }
 },
 "nbformat": 4,
 "nbformat_minor": 5
}
