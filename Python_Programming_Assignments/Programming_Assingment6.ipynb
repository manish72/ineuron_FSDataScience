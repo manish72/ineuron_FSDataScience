{
 "cells": [
  {
   "cell_type": "markdown",
   "id": "ad7af19c-fe99-4452-bfcc-74d232999407",
   "metadata": {},
   "source": [
    "### 1.\tWrite a Python Program to Display Fibonacci Sequence Using Recursion?"
   ]
  },
  {
   "cell_type": "code",
   "execution_count": 16,
   "id": "642754b5-bc46-43cc-9487-d874f2a770aa",
   "metadata": {},
   "outputs": [
    {
     "name": "stdin",
     "output_type": "stream",
     "text": [
      "Enter number to find fibonacii :  10\n"
     ]
    },
    {
     "name": "stdout",
     "output_type": "stream",
     "text": [
      "Fibonacci of a 10 is 89\n"
     ]
    }
   ],
   "source": [
    "def fin_fib(num):\n",
    "    \"\"\" finding recursion of number \"\"\"\n",
    "    if num <= 1:\n",
    "        return 1\n",
    "    else:\n",
    "        return fin_fib(num-1) + fin_fib(num-2)\n",
    "\n",
    "num = int(input(\"Enter number to find fibonacii : \"))\n",
    "print(f\"Fibonacci of a {num} is {fin_fib(num)}\")"
   ]
  },
  {
   "cell_type": "markdown",
   "id": "a8aef96a-52ac-4b36-af15-92d4354fa5a5",
   "metadata": {},
   "source": [
    "### 2.\tWrite a Python Program to Find Factorial of Number Using Recursion?"
   ]
  },
  {
   "cell_type": "code",
   "execution_count": 17,
   "id": "0e15f905-3ecb-4221-9c58-d90156fa5d99",
   "metadata": {},
   "outputs": [
    {
     "name": "stdin",
     "output_type": "stream",
     "text": [
      "Enter number to find factorial :  5\n"
     ]
    },
    {
     "name": "stdout",
     "output_type": "stream",
     "text": [
      "Factorial of a 5 is 120\n"
     ]
    }
   ],
   "source": [
    "def find_factorial(num):\n",
    "    if num == 1:\n",
    "        return 1\n",
    "    else:\n",
    "        return num * find_factorial(num-1)\n",
    "num = int(input(\"Enter number to find factorial : \"))\n",
    "print(f\"Factorial of a {num} is {find_factorial(num)}\")"
   ]
  },
  {
   "cell_type": "markdown",
   "id": "12932519-ac96-452c-b127-56300474dc72",
   "metadata": {},
   "source": [
    "### 3.\tWrite a Python Program to calculate your Body Mass Index?"
   ]
  },
  {
   "cell_type": "code",
   "execution_count": 18,
   "id": "d7554fb3-ae3e-45d0-8b5a-579bde353aa4",
   "metadata": {},
   "outputs": [
    {
     "name": "stdin",
     "output_type": "stream",
     "text": [
      "Enter height in cm:  160\n",
      "Enter weight in kg:  84\n"
     ]
    },
    {
     "name": "stdout",
     "output_type": "stream",
     "text": [
      "You are Obese\n"
     ]
    }
   ],
   "source": [
    "height = float(input(\"Enter height in cm: \"))\n",
    "weight = float(input(\"Enter weight in kg: \"))\n",
    "\n",
    "BMI_value = weight / ((height / 100) ** 2)\n",
    "\n",
    "if BMI_value < 18.5:\n",
    "    print(\"You are underweight\")\n",
    "elif BMI_value >= 18.5 and BMI_value < 24.9:\n",
    "    print(\"You have normal weight\")\n",
    "elif BMI_value >= 25.0 and BMI_value < 29.9:\n",
    "    print(\"You have Overweight\")\n",
    "elif BMI_value >= 30.0:\n",
    "    print(\"You are Obese\")"
   ]
  },
  {
   "cell_type": "markdown",
   "id": "a57438f3-0aa0-486c-8fa2-cb81d6d011a3",
   "metadata": {},
   "source": [
    "### 4.\tWrite a Python Program to calculate the natural logarithm of any number?"
   ]
  },
  {
   "cell_type": "code",
   "execution_count": 19,
   "id": "7b6dd4e1-668e-4056-8705-0d662978a0a8",
   "metadata": {},
   "outputs": [
    {
     "name": "stdin",
     "output_type": "stream",
     "text": [
      "Enter number to find logarithm :  10\n"
     ]
    },
    {
     "name": "stdout",
     "output_type": "stream",
     "text": [
      "Natural logarithm of a 10 is 2.302585092994046\n"
     ]
    }
   ],
   "source": [
    "import math\n",
    "num = int(input(\"Enter number to find logarithm : \"))\n",
    "print(f\"Natural logarithm of a {num} is {math.log(num)}\")"
   ]
  },
  {
   "cell_type": "markdown",
   "id": "5d68c5bf-77fc-4055-91a8-fb46ea04982d",
   "metadata": {},
   "source": [
    "### 5.\tWrite a Python Program for cube sum of first n natural numbers?"
   ]
  },
  {
   "cell_type": "code",
   "execution_count": 20,
   "id": "4981682d-fd00-4b7f-b33e-820026e5c200",
   "metadata": {},
   "outputs": [
    {
     "name": "stdin",
     "output_type": "stream",
     "text": [
      "Enter your range:  10\n"
     ]
    },
    {
     "name": "stdout",
     "output_type": "stream",
     "text": [
      "Sum of cubes of 10 natural numbers is 3025.0\n"
     ]
    }
   ],
   "source": [
    "rang = int(input(\"Enter your range: \"))\n",
    "print(f\"Sum of cubes of {rang} natural numbers is {((rang*(rang+1))/2)**2}\")    "
   ]
  }
 ],
 "metadata": {
  "kernelspec": {
   "display_name": "Python 3 (ipykernel)",
   "language": "python",
   "name": "python3"
  },
  "language_info": {
   "codemirror_mode": {
    "name": "ipython",
    "version": 3
   },
   "file_extension": ".py",
   "mimetype": "text/x-python",
   "name": "python",
   "nbconvert_exporter": "python",
   "pygments_lexer": "ipython3",
   "version": "3.10.6"
  }
 },
 "nbformat": 4,
 "nbformat_minor": 5
}
