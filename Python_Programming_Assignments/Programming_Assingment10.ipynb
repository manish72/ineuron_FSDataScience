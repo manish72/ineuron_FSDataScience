{
 "cells": [
  {
   "cell_type": "code",
   "execution_count": 45,
   "id": "1ec184e1-673c-4d14-be9d-e42feab2bebc",
   "metadata": {},
   "outputs": [],
   "source": [
    "list_elements = [2,3,5,7,11,13,17,19,100,239]"
   ]
  },
  {
   "cell_type": "markdown",
   "id": "61df6e34-17d1-42b3-878b-c903d7de60eb",
   "metadata": {},
   "source": [
    "### 1. Write a Python program to find sum of elements in list?"
   ]
  },
  {
   "cell_type": "code",
   "execution_count": 46,
   "id": "66402cad-c2d6-4219-a43b-19190ce76fc5",
   "metadata": {},
   "outputs": [
    {
     "name": "stdout",
     "output_type": "stream",
     "text": [
      "416\n"
     ]
    }
   ],
   "source": [
    "print(sum(list_elements))"
   ]
  },
  {
   "cell_type": "markdown",
   "id": "987db813-511f-421e-9129-ae3c746bc2b8",
   "metadata": {},
   "source": [
    "### 2.\tWrite a Python program to  Multiply all numbers in the list?"
   ]
  },
  {
   "cell_type": "code",
   "execution_count": 47,
   "id": "0a791d5b-baa9-422e-8938-5c98488aff38",
   "metadata": {},
   "outputs": [
    {
     "name": "stdout",
     "output_type": "stream",
     "text": [
      "231822591000\n"
     ]
    }
   ],
   "source": [
    "mul = 1\n",
    "for i in list_elements:\n",
    "    mul *= i\n",
    "\n",
    "print(mul)"
   ]
  },
  {
   "cell_type": "markdown",
   "id": "3d047e6d-7512-4f3f-a282-f8deb051fe9e",
   "metadata": {},
   "source": [
    "### 3.\tWrite a Python program to find smallest number in a list?"
   ]
  },
  {
   "cell_type": "code",
   "execution_count": 48,
   "id": "5ed96cff-a2fd-4c80-afad-70096a6cce22",
   "metadata": {},
   "outputs": [
    {
     "name": "stdout",
     "output_type": "stream",
     "text": [
      "2\n"
     ]
    }
   ],
   "source": [
    "print(min(list_elements))"
   ]
  },
  {
   "cell_type": "markdown",
   "id": "011ecfb0-440a-4cb6-8791-eb3ee2019e33",
   "metadata": {},
   "source": [
    "### 4.\tWrite a Python program to find largest number in a list?"
   ]
  },
  {
   "cell_type": "code",
   "execution_count": 49,
   "id": "2238b613-77ce-4fd2-b211-07761dc3eaf8",
   "metadata": {},
   "outputs": [
    {
     "name": "stdout",
     "output_type": "stream",
     "text": [
      "239\n"
     ]
    }
   ],
   "source": [
    "print(max(list_elements))"
   ]
  },
  {
   "cell_type": "markdown",
   "id": "9f2cbbee-e95c-4a38-bdfd-8b32cd5bc7cc",
   "metadata": {},
   "source": [
    "### 5.\tWrite a Python program to find second largest number in a list?"
   ]
  },
  {
   "cell_type": "code",
   "execution_count": 50,
   "id": "d88f3ff4-89a2-4d36-b2cc-c8139acbed91",
   "metadata": {},
   "outputs": [
    {
     "name": "stdout",
     "output_type": "stream",
     "text": [
      "100\n"
     ]
    }
   ],
   "source": [
    "print(sorted(list_elements)[-2])"
   ]
  },
  {
   "cell_type": "markdown",
   "id": "f3c63b14-a825-4f9b-84eb-f67130ea3a91",
   "metadata": {},
   "source": [
    "### 6.\tWrite a Python program to find N largest elements from a list?"
   ]
  },
  {
   "cell_type": "code",
   "execution_count": 51,
   "id": "3a2f6e10-c885-40bf-a8f6-da58aeb07f53",
   "metadata": {},
   "outputs": [
    {
     "name": "stdin",
     "output_type": "stream",
     "text": [
      "Enter how many largest elements need from list: 6\n"
     ]
    },
    {
     "name": "stdout",
     "output_type": "stream",
     "text": [
      "List of 6 largest elements in a list are:\n",
      "239 100 19 17 13 11 "
     ]
    }
   ],
   "source": [
    "n = int(input(\"Enter how many largest elements need from list:\"))\n",
    "print(f\"List of {n} largest elements in a list are:\")\n",
    "larg_ele_list = sorted(list_elements,reverse=True)\n",
    "for i in larg_ele_list[:n]:\n",
    "    print(i,end=\" \")"
   ]
  },
  {
   "cell_type": "markdown",
   "id": "5f4b7a5c-2dbf-4a32-b3e1-315bc107d118",
   "metadata": {},
   "source": [
    "### 7.\tWrite a Python program to print even numbers in a list?"
   ]
  },
  {
   "cell_type": "code",
   "execution_count": 52,
   "id": "78eaa492-b5b8-4b76-8faa-a2f7039779f4",
   "metadata": {},
   "outputs": [
    {
     "name": "stdout",
     "output_type": "stream",
     "text": [
      "Even numbers in a list are:\n",
      "2 100 "
     ]
    }
   ],
   "source": [
    "print(\"Even numbers in a list are:\")\n",
    "for i in list_elements:\n",
    "    if i%2 == 0:\n",
    "        print(i,end=\" \")"
   ]
  },
  {
   "cell_type": "markdown",
   "id": "a0b0e7f6-6d41-4e04-bd58-b73d156fc909",
   "metadata": {},
   "source": [
    "### 8.\tWrite a Python program to print odd numbers in a List?"
   ]
  },
  {
   "cell_type": "code",
   "execution_count": 53,
   "id": "fa432da8-e0e4-4d90-8178-391cec70140b",
   "metadata": {},
   "outputs": [
    {
     "name": "stdout",
     "output_type": "stream",
     "text": [
      "Odd numbers in a list are:\n",
      "3 5 7 11 13 17 19 239 "
     ]
    }
   ],
   "source": [
    "print(\"Odd numbers in a list are:\")\n",
    "for i in list_elements:\n",
    "    if i%2 != 0:\n",
    "        print(i,end=\" \")"
   ]
  },
  {
   "cell_type": "markdown",
   "id": "e390eb38-9e5d-46b3-a7e0-cb818877f31b",
   "metadata": {},
   "source": [
    "### 9.\tWrite a Python program to Remove empty List from List?"
   ]
  },
  {
   "cell_type": "code",
   "execution_count": 54,
   "id": "a8592a86-ca5b-4e56-a933-a933ef77095f",
   "metadata": {},
   "outputs": [
    {
     "name": "stdout",
     "output_type": "stream",
     "text": [
      "[2, 3, 5, 13, 17, [3, 7, 2], 100, ['lle', 45, 12.4]]\n"
     ]
    }
   ],
   "source": [
    "emp_list_ele = [2,3,5,[],[],13,17,[3,7,2],100,['lle',45,12.4]]\n",
    "final_list_ele = []\n",
    "for i in emp_list_ele:\n",
    "    if type(i) == list and len(i) == 0:\n",
    "        pass\n",
    "    else:\n",
    "        final_list_ele.append(i)\n",
    "\n",
    "print(final_list_ele)"
   ]
  },
  {
   "cell_type": "markdown",
   "id": "2d2032ca-f6e3-4c52-aef0-735ac2262650",
   "metadata": {},
   "source": [
    "### 10.\tWrite a Python program to Cloning or Copying a list?"
   ]
  },
  {
   "cell_type": "code",
   "execution_count": 55,
   "id": "e40d51d2-d2dc-47fc-8e89-436fed0e9336",
   "metadata": {},
   "outputs": [
    {
     "name": "stdout",
     "output_type": "stream",
     "text": [
      "Copy List:  [2, 3, 5, 7, 11, 13, 17, 19, 100, 239]\n",
      "Clone List:  [2, 3, 5, 7, 11, 13, 17, 19, 100, 239]\n"
     ]
    }
   ],
   "source": [
    "copy_list = list_elements.copy()\n",
    "print(\"Copy List: \",copy_list)\n",
    "clone_list = list_elements\n",
    "print(\"Clone List: \",clone_list)"
   ]
  },
  {
   "cell_type": "markdown",
   "id": "7eb5fa0f-4d80-4cc4-a7b6-87450f80e5a6",
   "metadata": {},
   "source": [
    "### 11.\tWrite a Python program to Count occurrences of an element in a list?"
   ]
  },
  {
   "cell_type": "code",
   "execution_count": 56,
   "id": "c358a5dd-3955-4936-a340-93b551fd4964",
   "metadata": {},
   "outputs": [
    {
     "name": "stdout",
     "output_type": "stream",
     "text": [
      "1 repeated 1 times\n",
      "2 repeated 3 times\n",
      "3 repeated 2 times\n",
      "4 repeated 1 times\n",
      "5 repeated 2 times\n",
      "8 repeated 1 times\n",
      "9 repeated 1 times\n",
      "62 repeated 1 times\n"
     ]
    }
   ],
   "source": [
    "repeat_elements = [3,2,5,1,2,8,5,3,4,62,9,2]\n",
    "for i in set(repeat_elements):\n",
    "    print(f\"{i} repeated {repeat_elements.count(i)} times\")"
   ]
  }
 ],
 "metadata": {
  "kernelspec": {
   "display_name": "Python 3 (ipykernel)",
   "language": "python",
   "name": "python3"
  },
  "language_info": {
   "codemirror_mode": {
    "name": "ipython",
    "version": 3
   },
   "file_extension": ".py",
   "mimetype": "text/x-python",
   "name": "python",
   "nbconvert_exporter": "python",
   "pygments_lexer": "ipython3",
   "version": "3.10.6"
  }
 },
 "nbformat": 4,
 "nbformat_minor": 5
}
