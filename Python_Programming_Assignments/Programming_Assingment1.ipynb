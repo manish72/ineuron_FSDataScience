{
 "cells": [
  {
   "cell_type": "code",
   "execution_count": 1,
   "id": "c8c69692-d954-4cd9-82da-40582f3d8ccd",
   "metadata": {},
   "outputs": [
    {
     "name": "stdout",
     "output_type": "stream",
     "text": [
      "Hello Python\n"
     ]
    }
   ],
   "source": [
    "#1. Write a Python program to print \"Hello Python\"?\n",
    "print(\"Hello Python\")"
   ]
  },
  {
   "cell_type": "code",
   "execution_count": 4,
   "id": "f19b166b-23c1-4d0a-9f87-be598a486e9b",
   "metadata": {},
   "outputs": [
    {
     "name": "stdin",
     "output_type": "stream",
     "text": [
      "Enter value of a:  24\n",
      "Enter value of b:  45\n"
     ]
    },
    {
     "name": "stdout",
     "output_type": "stream",
     "text": [
      "Addition of a and b is: 69\n",
      "Division of a and b is: 0.5333333333333333\n"
     ]
    }
   ],
   "source": [
    "#2.\tWrite a Python program to do arithmetical operations addition and division.?\n",
    "a = int(input(\"Enter value of a: \"))\n",
    "b = int(input(\"Enter value of b: \"))\n",
    "print(f\"Addition of a and b is: {a+b}\")\n",
    "print(f\"Division of a and b is: {a/b}\")"
   ]
  },
  {
   "cell_type": "code",
   "execution_count": 5,
   "id": "d3e976e3-45f5-424b-af3d-c4513d90fc06",
   "metadata": {},
   "outputs": [
    {
     "name": "stdin",
     "output_type": "stream",
     "text": [
      "Enter base value of a triangle:  12\n",
      "Enter height value of a triangle:  6\n"
     ]
    },
    {
     "name": "stdout",
     "output_type": "stream",
     "text": [
      "Area of a triangle is 36.0\n"
     ]
    }
   ],
   "source": [
    "#3.\tWrite a Python program to find the area of a triangle?\n",
    "base = int(input(\"Enter base value of a triangle: \"))\n",
    "height = int(input(\"Enter height value of a triangle: \"))\n",
    "print(f\"Area of a triangle is {(1/2)*base*height}\")"
   ]
  },
  {
   "cell_type": "code",
   "execution_count": 9,
   "id": "311b7daf-e875-4b12-8087-d1979cfe82f0",
   "metadata": {},
   "outputs": [
    {
     "name": "stdin",
     "output_type": "stream",
     "text": [
      "Enter value of a:  23\n",
      "Enter value of b:  34\n"
     ]
    },
    {
     "name": "stdout",
     "output_type": "stream",
     "text": [
      "After swapping, value of a is 34 and value of b is 23\n"
     ]
    }
   ],
   "source": [
    "#4.\tWrite a Python program to swap two variables?\n",
    "a = int(input(\"Enter value of a: \"))\n",
    "b = int(input(\"Enter value of b: \"))\n",
    "a,b = b,a\n",
    "print(f\"After swapping, value of a is {a} and value of b is {b}\")"
   ]
  },
  {
   "cell_type": "code",
   "execution_count": 25,
   "id": "3fa0bbd9-ef4d-4487-961c-112d72f3a3e6",
   "metadata": {},
   "outputs": [
    {
     "name": "stdout",
     "output_type": "stream",
     "text": [
      "17\n"
     ]
    }
   ],
   "source": [
    "#5.\tWrite a Python program to generate a random number?\n",
    "import random\n",
    "\n",
    "print(random.randint(0,100))"
   ]
  }
 ],
 "metadata": {
  "kernelspec": {
   "display_name": "Python 3 (ipykernel)",
   "language": "python",
   "name": "python3"
  },
  "language_info": {
   "codemirror_mode": {
    "name": "ipython",
    "version": 3
   },
   "file_extension": ".py",
   "mimetype": "text/x-python",
   "name": "python",
   "nbconvert_exporter": "python",
   "pygments_lexer": "ipython3",
   "version": "3.10.6"
  }
 },
 "nbformat": 4,
 "nbformat_minor": 5
}
