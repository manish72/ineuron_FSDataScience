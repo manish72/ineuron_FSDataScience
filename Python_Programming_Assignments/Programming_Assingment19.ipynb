{
 "cells": [
  {
   "cell_type": "markdown",
   "id": "8e23c17d-749c-4755-a7af-79766b19ea26",
   "metadata": {},
   "source": [
    "### 1. Create a function that takes a string and returns a string in which each character is repeated once"
   ]
  },
  {
   "cell_type": "code",
   "execution_count": 16,
   "id": "b1ee8e7f-9b75-4e3c-852d-233db3231e23",
   "metadata": {},
   "outputs": [
    {
     "name": "stdout",
     "output_type": "stream",
     "text": [
      "Enter String: String\n"
     ]
    },
    {
     "name": "stdout",
     "output_type": "stream",
     "text": [
      "SSttrriinngg\n"
     ]
    }
   ],
   "source": [
    "def double_char(str1):\n",
    "    return ''.join([c*2 for c in str1])\n",
    "\n",
    "string = input('Enter String:')\n",
    "print(double_char(string))"
   ]
  },
  {
   "cell_type": "markdown",
   "id": "02c04370-4acf-46e6-8d11-e9926192864d",
   "metadata": {},
   "source": [
    "### 2. Create a function that reverses a boolean value and returns the string \"boolean expected\" if another variable type is given."
   ]
  },
  {
   "cell_type": "code",
   "execution_count": 17,
   "id": "98e2d0ef-a7bb-46a2-8253-95837d547b34",
   "metadata": {},
   "outputs": [
    {
     "name": "stdout",
     "output_type": "stream",
     "text": [
      "False\n",
      "True\n",
      "boolean expected\n"
     ]
    }
   ],
   "source": [
    "def reverse(string):\n",
    "    return \"boolean expected\" if type(string) != bool else not string\n",
    "\n",
    "print(reverse(True))\n",
    "print(reverse(False))\n",
    "print(reverse(0))"
   ]
  },
  {
   "cell_type": "markdown",
   "id": "8c0a3a8d-3d68-4244-a03f-c97645d6eab2",
   "metadata": {},
   "source": [
    "### 3. Create a function that returns the thickness (in meters) of a piece of paper after folding it n number of times. The paper starts off with a thickness of 0.5mm."
   ]
  },
  {
   "cell_type": "code",
   "execution_count": 18,
   "id": "e1491d4c-e9b1-41f2-a449-66ff0c221102",
   "metadata": {},
   "outputs": [
    {
     "name": "stdout",
     "output_type": "stream",
     "text": [
      "0.001m\n",
      "0.008m\n",
      "1048.576m\n"
     ]
    }
   ],
   "source": [
    "def num_layers(n):\n",
    "    thick = 0.5\n",
    "    for _ in range(n):\n",
    "        thick *= 2\n",
    "    \n",
    "    return str(thick / 1000)+'m'\n",
    "\n",
    "print(num_layers(1))\n",
    "print(num_layers(4))\n",
    "print(num_layers(21))"
   ]
  },
  {
   "cell_type": "markdown",
   "id": "2f1d9a7c-3f3a-4fff-8084-a17450672afd",
   "metadata": {},
   "source": [
    "### 4. Create a function that takes a single string as argument and returns an ordered list containing the indices of all capital letters in the string.."
   ]
  },
  {
   "cell_type": "code",
   "execution_count": 23,
   "id": "63f3fd8d-3428-41b8-b1ba-21f3c774ecad",
   "metadata": {},
   "outputs": [
    {
     "name": "stdout",
     "output_type": "stream",
     "text": [
      "Enter string: eQuINoX\n"
     ]
    },
    {
     "name": "stdout",
     "output_type": "stream",
     "text": [
      "[1, 3, 4, 6]\n"
     ]
    }
   ],
   "source": [
    "def index_of_caps(string):\n",
    "    index_list = []\n",
    "    for i in range(0,len(string)):\n",
    "        if ord(string[i]) >= 65 and ord(string[i]) <= 90:\n",
    "            index_list.append(i)\n",
    "    return index_list\n",
    "\n",
    "string = input('Enter string:')\n",
    "print(index_of_caps(string))"
   ]
  },
  {
   "cell_type": "markdown",
   "id": "41210b29-bf43-4c96-a2b2-be2922e2f3b1",
   "metadata": {},
   "source": [
    "### 5. Using list comprehensions, create a function that finds all even numbers from 1 to the given number."
   ]
  },
  {
   "cell_type": "code",
   "execution_count": 25,
   "id": "03de455e-e0d8-4a67-8af0-c5101699cf9e",
   "metadata": {},
   "outputs": [
    {
     "name": "stdout",
     "output_type": "stream",
     "text": [
      "Enter number 4\n"
     ]
    },
    {
     "name": "stdout",
     "output_type": "stream",
     "text": [
      "[2, 4]\n"
     ]
    }
   ],
   "source": [
    "def find_even_nums(n):\n",
    "    return [c for c in range(1,n+1) if c%2 == 0]\n",
    "\n",
    "n = int(input('Enter number'))\n",
    "print(find_even_nums(n))"
   ]
  }
 ],
 "metadata": {
  "kernelspec": {
   "display_name": "Python 3 (ipykernel)",
   "language": "python",
   "name": "python3"
  },
  "language_info": {
   "codemirror_mode": {
    "name": "ipython",
    "version": 3
   },
   "file_extension": ".py",
   "mimetype": "text/x-python",
   "name": "python",
   "nbconvert_exporter": "python",
   "pygments_lexer": "ipython3",
   "version": "3.10.6"
  }
 },
 "nbformat": 4,
 "nbformat_minor": 5
}
