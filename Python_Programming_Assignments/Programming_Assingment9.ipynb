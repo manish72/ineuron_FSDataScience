{
 "cells": [
  {
   "cell_type": "markdown",
   "id": "8cdf57d4-1138-4f78-9aef-31da8a1f9118",
   "metadata": {},
   "source": [
    "### 1.\tWrite a Python program to check if the given number is a Disarium Number?"
   ]
  },
  {
   "cell_type": "code",
   "execution_count": 44,
   "id": "67001eeb-7c73-48d7-9717-a5ea2670d4b9",
   "metadata": {},
   "outputs": [
    {
     "name": "stdin",
     "output_type": "stream",
     "text": [
      "Enter number:  175\n"
     ]
    },
    {
     "name": "stdout",
     "output_type": "stream",
     "text": [
      "Given number is Disarium Number\n"
     ]
    }
   ],
   "source": [
    "n = int(input(\"Enter number: \"))\n",
    "\n",
    "temp = n\n",
    "str_len = len(str(temp))\n",
    "sum1 = 0\n",
    "\n",
    "while str_len > 0:\n",
    "    t = n%10\n",
    "    sum1 += t**str_len\n",
    "    n = n//10\n",
    "    str_len -= 1\n",
    "\n",
    "if temp == sum1:\n",
    "    print(\"Given number is Disarium Number\")\n",
    "else:\n",
    "    print(\"Given number is not Disarium Number\")"
   ]
  },
  {
   "cell_type": "markdown",
   "id": "d44da3e0-f67f-454e-bfb6-c9e94003c0f7",
   "metadata": {},
   "source": [
    "### 2.\tWrite a Python program to print all disarium numbers between 1 to 100?"
   ]
  },
  {
   "cell_type": "code",
   "execution_count": 45,
   "id": "76fc3fe4-684b-45c0-856c-fccfde622435",
   "metadata": {},
   "outputs": [
    {
     "name": "stdout",
     "output_type": "stream",
     "text": [
      "1 is Disarium Number\n",
      "2 is Disarium Number\n",
      "3 is Disarium Number\n",
      "4 is Disarium Number\n",
      "5 is Disarium Number\n",
      "6 is Disarium Number\n",
      "7 is Disarium Number\n",
      "8 is Disarium Number\n",
      "9 is Disarium Number\n",
      "89 is Disarium Number\n"
     ]
    }
   ],
   "source": [
    "for i in range(1,101):\n",
    "    temp = i\n",
    "    str_len = len(str(temp))\n",
    "    sum1 = 0\n",
    "    while str_len > 0:\n",
    "        t = i%10\n",
    "        sum1 += t**str_len\n",
    "        i = i//10\n",
    "        str_len -= 1\n",
    "    if temp == sum1:\n",
    "        print(f\"{temp} is Disarium Number\")"
   ]
  },
  {
   "cell_type": "markdown",
   "id": "fae115ca-881f-4ae3-9083-dff190622cf4",
   "metadata": {},
   "source": [
    "### 3.\tWrite a Python program to check if the given number is Happy Number?"
   ]
  },
  {
   "cell_type": "code",
   "execution_count": 46,
   "id": "a16b7d23-8014-40cf-a123-8f4aad9d9dc0",
   "metadata": {},
   "outputs": [
    {
     "name": "stdin",
     "output_type": "stream",
     "text": [
      "Enter number:  120\n"
     ]
    },
    {
     "name": "stdout",
     "output_type": "stream",
     "text": [
      "120 is not a happy number\n"
     ]
    }
   ],
   "source": [
    "def isHappyNumber(num):    \n",
    "    rem = sum = 0 \n",
    "         \n",
    "    while(num > 0):    \n",
    "        rem = num%10 \n",
    "        sum = sum + (rem*rem) \n",
    "        num = num//10 \n",
    "    return sum \n",
    "        \n",
    "num = int(input(\"Enter number: \")) \n",
    "result = num \n",
    "     \n",
    "while(result != 1 and result != 4):    \n",
    "    result = isHappyNumber(result) \n",
    "         \n",
    "if(result == 1):    \n",
    "    print(str(num) + \" is a happy number\")   \n",
    "elif(result == 4):    \n",
    "    print(str(num) + \" is not a happy number\")"
   ]
  },
  {
   "cell_type": "markdown",
   "id": "5f64efdb-cb31-435f-962a-9a9bcda65020",
   "metadata": {},
   "source": [
    "### 4.\tWrite a Python program to print all happy numbers between 1 and 100?"
   ]
  },
  {
   "cell_type": "code",
   "execution_count": 47,
   "id": "0b9801c3-4e91-4730-91e5-f7b4199a8090",
   "metadata": {},
   "outputs": [
    {
     "name": "stdout",
     "output_type": "stream",
     "text": [
      "List of happy numbers between 1 and 100: \n",
      "1 7 10 13 19 23 28 31 32 44 49 68 70 79 82 86 91 94 97 100 "
     ]
    }
   ],
   "source": [
    "def isHappyNumber(num):    \n",
    "    rem = sum = 0 \n",
    "         \n",
    "    while(num > 0):    \n",
    "        rem = num%10 \n",
    "        sum = sum + (rem*rem) \n",
    "        num = num//10 \n",
    "    return sum \n",
    "\n",
    "print(\"List of happy numbers between 1 and 100: \")\n",
    "for i in range(1,101):\n",
    "    result = i \n",
    "\n",
    "    while(result != 1 and result != 4):    \n",
    "        result = isHappyNumber(result) \n",
    "\n",
    "    if(result == 1):    \n",
    "        print(str(i) , end =\" \")   "
   ]
  },
  {
   "cell_type": "markdown",
   "id": "c34187b9-4174-4d5b-86d1-02585f426e23",
   "metadata": {},
   "source": [
    "### 5.\tWrite a Python program to determine whether the given number is a Harshad Number?"
   ]
  },
  {
   "cell_type": "code",
   "execution_count": 48,
   "id": "8097a4ef-9d32-4afd-8e6a-e7b6208bf05f",
   "metadata": {},
   "outputs": [
    {
     "name": "stdin",
     "output_type": "stream",
     "text": [
      "Enter number:  120\n"
     ]
    },
    {
     "name": "stdout",
     "output_type": "stream",
     "text": [
      "Given number is Harshad Number\n"
     ]
    }
   ],
   "source": [
    "n = int(input(\"Enter number: \"))\n",
    "\n",
    "temp = n\n",
    "sum1 = 0\n",
    "\n",
    "while n > 0:\n",
    "    t = n%10\n",
    "    sum1 += t\n",
    "    n = n//10\n",
    "\n",
    "if temp % sum1 == 0:\n",
    "    print(\"Given number is Harshad Number\")\n",
    "else:\n",
    "    print(\"Given number is not Harshad Number\")"
   ]
  },
  {
   "cell_type": "markdown",
   "id": "b71cf2a0-7904-467a-b565-3e191ef596c3",
   "metadata": {},
   "source": [
    "### 6.\tWrite a Python program to print all pronic numbers between 1 and 100?"
   ]
  },
  {
   "cell_type": "code",
   "execution_count": 50,
   "id": "52bb4996-7b26-401a-a8ed-b71df19a8747",
   "metadata": {},
   "outputs": [
    {
     "name": "stdout",
     "output_type": "stream",
     "text": [
      "Pronic numbers between 1 and 100: \n",
      "2 6 12 20 30 42 56 72 90 "
     ]
    }
   ],
   "source": [
    "def isPronicNumber(num):    \n",
    "    flag = False    \n",
    "        \n",
    "    for j in range(1, num+1):      \n",
    "        if((j*(j+1)) == num):    \n",
    "            flag = True    \n",
    "            break    \n",
    "    return flag    \n",
    "       \n",
    "print(\"Pronic numbers between 1 and 100: \")    \n",
    "for i in range(1, 101):    \n",
    "    if(isPronicNumber(i)):    \n",
    "        print(i,end=\" \") "
   ]
  },
  {
   "cell_type": "code",
   "execution_count": null,
   "id": "588caa50-0a75-41fa-8ba4-f2f08a61e427",
   "metadata": {},
   "outputs": [],
   "source": []
  }
 ],
 "metadata": {
  "kernelspec": {
   "display_name": "Python 3 (ipykernel)",
   "language": "python",
   "name": "python3"
  },
  "language_info": {
   "codemirror_mode": {
    "name": "ipython",
    "version": 3
   },
   "file_extension": ".py",
   "mimetype": "text/x-python",
   "name": "python",
   "nbconvert_exporter": "python",
   "pygments_lexer": "ipython3",
   "version": "3.10.6"
  }
 },
 "nbformat": 4,
 "nbformat_minor": 5
}
