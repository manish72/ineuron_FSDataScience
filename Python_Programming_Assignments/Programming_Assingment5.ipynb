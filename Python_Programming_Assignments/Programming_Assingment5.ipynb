{
 "cells": [
  {
   "cell_type": "markdown",
   "id": "bf28fe63-3eed-4851-877a-ae525d237fbf",
   "metadata": {},
   "source": [
    "### 1.\tWrite a Python Program to Find LCM?"
   ]
  },
  {
   "cell_type": "code",
   "execution_count": 22,
   "id": "fe25eac6-d0e5-426a-8d95-0664e2d2ab64",
   "metadata": {},
   "outputs": [
    {
     "name": "stdin",
     "output_type": "stream",
     "text": [
      "Enter value1:  54\n",
      "Enter value2:  24\n"
     ]
    },
    {
     "name": "stdout",
     "output_type": "stream",
     "text": [
      "LCM of 54 and 24 is 216.0\n"
     ]
    }
   ],
   "source": [
    "def find_LCM(x,y):\n",
    "    \"\"\" computes the LCM \"\"\"\n",
    "    while(y):\n",
    "        x , y = y , x%y\n",
    "    return x\n",
    "x = int(input(\"Enter value1: \"))\n",
    "y = int(input(\"Enter value2: \"))\n",
    "print(f\"LCM of {x} and {y} is {(x*y)/find_LCM(x,y)}\")"
   ]
  },
  {
   "cell_type": "markdown",
   "id": "94512a00-02d8-447a-a281-5dfaa14eb72c",
   "metadata": {},
   "source": [
    "### 2. Write a Python Program to Find HCF?"
   ]
  },
  {
   "cell_type": "code",
   "execution_count": 24,
   "id": "2eb4e5c5-1b8f-4793-a69a-828507d6954d",
   "metadata": {},
   "outputs": [
    {
     "name": "stdin",
     "output_type": "stream",
     "text": [
      "Enter value1:  34\n",
      "Enter value2:  3\n"
     ]
    },
    {
     "name": "stdout",
     "output_type": "stream",
     "text": [
      "HCF of 34 and 3 is 1\n"
     ]
    }
   ],
   "source": [
    "def find_HCF(x,y):\n",
    "    \"\"\" computes the HCF \"\"\"\n",
    "    while(y):\n",
    "        x , y = y , x%y\n",
    "    return x\n",
    "x = int(input(\"Enter value1: \"))\n",
    "y = int(input(\"Enter value2: \"))\n",
    "print(f\"HCF of {x} and {y} is {find_LCM(x,y)}\")"
   ]
  },
  {
   "cell_type": "markdown",
   "id": "3020f647-8fde-41aa-a646-7b1a64029958",
   "metadata": {},
   "source": [
    "### 3.\tWrite a Python Program to Convert Decimal to Binary, Octal and Hexadecimal?"
   ]
  },
  {
   "cell_type": "code",
   "execution_count": 25,
   "id": "f284ddd2-63ac-4692-9433-003f635a5a86",
   "metadata": {},
   "outputs": [
    {
     "name": "stdin",
     "output_type": "stream",
     "text": [
      "Enter number:  234\n"
     ]
    },
    {
     "name": "stdout",
     "output_type": "stream",
     "text": [
      "Binary value of 234 is 0b11101010\n",
      "Octal value of 234 is 0o352\n",
      "Hexa decimal value of 234 is 0xea\n"
     ]
    }
   ],
   "source": [
    "num = int(input(\"Enter number: \"))\n",
    "print(f\"Binary value of {num} is {bin(num)}\")\n",
    "print(f\"Octal value of {num} is {oct(num)}\")\n",
    "print(f\"Hexa decimal value of {num} is {hex(num)}\")"
   ]
  },
  {
   "cell_type": "markdown",
   "id": "f450ab05-8cf8-4505-bccd-088a1cb42ec2",
   "metadata": {},
   "source": [
    "### 4 .\tWrite a Python Program To Find ASCII value of a character?"
   ]
  },
  {
   "cell_type": "code",
   "execution_count": 27,
   "id": "2ff77186-c237-4a1e-a1d0-444171951518",
   "metadata": {},
   "outputs": [
    {
     "name": "stdin",
     "output_type": "stream",
     "text": [
      "Enter number:  A\n"
     ]
    },
    {
     "name": "stdout",
     "output_type": "stream",
     "text": [
      "ASCII of a character A is 65\n"
     ]
    }
   ],
   "source": [
    "char = input(\"Enter number: \")\n",
    "if type(char) not in [int] and len(char) == 1:\n",
    "    print(f\"ASCII of a character {char} is {ord(char)}\")\n",
    "else:\n",
    "    print(\"Enter only one character\")"
   ]
  },
  {
   "cell_type": "markdown",
   "id": "958b205a-d641-432a-874d-703f1702d7b1",
   "metadata": {},
   "source": [
    "### 5.\tWrite a Python Program to Make a Simple Calculator with 4 basic mathematical operations?"
   ]
  },
  {
   "cell_type": "code",
   "execution_count": 21,
   "id": "f246a791-e444-4f01-8569-b8ed57ea01d3",
   "metadata": {},
   "outputs": [
    {
     "name": "stdin",
     "output_type": "stream",
     "text": [
      "Enter value1:  30\n",
      "Enter value2:  23\n",
      "What operation you want to perform \n",
      "0 - addition\n",
      "1 - subtraction\n",
      "2 - multiplication\n",
      "3 - division 2\n"
     ]
    },
    {
     "name": "stdout",
     "output_type": "stream",
     "text": [
      "Multiplication of 30 and 23 is 690\n"
     ]
    },
    {
     "name": "stdin",
     "output_type": "stream",
     "text": [
      "Are you wish to calculate more..? Press 0 - yes, 1 - no\n",
      " 0\n",
      "Enter value1:  30\n",
      "Enter value2:  1\n",
      "What operation you want to perform \n",
      "0 - addition\n",
      "1 - subtraction\n",
      "2 - multiplication\n",
      "3 - division 3\n"
     ]
    },
    {
     "name": "stdout",
     "output_type": "stream",
     "text": [
      "Division of 30 and 1 is 30.0\n"
     ]
    },
    {
     "name": "stdin",
     "output_type": "stream",
     "text": [
      "Are you wish to calculate more..? Press 0 - yes, 1 - no\n",
      " 0\n",
      "Enter value1:  30\n",
      "Enter value2:  20\n",
      "What operation you want to perform \n",
      "0 - addition\n",
      "1 - subtraction\n",
      "2 - multiplication\n",
      "3 - division 1\n"
     ]
    },
    {
     "name": "stdout",
     "output_type": "stream",
     "text": [
      "Subtraction of 30 and 20 is 10\n"
     ]
    },
    {
     "name": "stdin",
     "output_type": "stream",
     "text": [
      "Are you wish to calculate more..? Press 0 - yes, 1 - no\n",
      " 1\n"
     ]
    }
   ],
   "source": [
    "def add(x,y):\n",
    "    return x + y\n",
    "def sub(x,y):\n",
    "    return x - y\n",
    "def mul(x,y):\n",
    "    return x * y\n",
    "def div(x,y):\n",
    "    return x / y\n",
    "\n",
    "while True:\n",
    "    x = int(input(\"Enter value1: \"))\n",
    "    y = int(input(\"Enter value2: \"))\n",
    "    if type(x) == int and type(y) == int:\n",
    "        inp = int(input(\"What operation you want to perform \\n0 - addition\\n1 - subtraction\\n2 - multiplication\\n3 - division\"))\n",
    "        if inp in [0,1,2,3]:\n",
    "            if inp == 0:\n",
    "                print(f\"Addition of {x} and {y} is {add(x,y)}\")\n",
    "            elif inp == 1:\n",
    "                print(f\"Subtraction of {x} and {y} is {sub(x,y)}\")\n",
    "            elif inp == 2:\n",
    "                print(f\"Multiplication of {x} and {y} is {mul(x,y)}\")\n",
    "            elif inp == 3:\n",
    "                print(f\"Division of {x} and {y} is {div(x,y)}\")\n",
    "            inp1 = int(input(\"Are you wish to calculate more..? Press 0 - yes, 1 - no\\n\"))\n",
    "            if inp1 == 1:\n",
    "                break\n",
    "        else:\n",
    "            print(\"Invalid choice, please choose correct one\")\n",
    "    else:\n",
    "        print(\"Please enter only integers and try again..\")"
   ]
  },
  {
   "cell_type": "code",
   "execution_count": null,
   "id": "8c752990-97f2-4282-95c1-598e70a405dc",
   "metadata": {},
   "outputs": [],
   "source": []
  }
 ],
 "metadata": {
  "kernelspec": {
   "display_name": "Python 3 (ipykernel)",
   "language": "python",
   "name": "python3"
  },
  "language_info": {
   "codemirror_mode": {
    "name": "ipython",
    "version": 3
   },
   "file_extension": ".py",
   "mimetype": "text/x-python",
   "name": "python",
   "nbconvert_exporter": "python",
   "pygments_lexer": "ipython3",
   "version": "3.10.6"
  }
 },
 "nbformat": 4,
 "nbformat_minor": 5
}
