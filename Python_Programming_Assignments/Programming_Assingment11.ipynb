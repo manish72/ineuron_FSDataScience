{
 "cells": [
  {
   "cell_type": "code",
   "execution_count": 38,
   "id": "4e5768ff-8312-4382-a7ba-f0f2da926559",
   "metadata": {},
   "outputs": [],
   "source": [
    "str1 = \"Lorem Ipsum is simply dummy text of the printing and typesetting industry.\""
   ]
  },
  {
   "cell_type": "markdown",
   "id": "69aea852-81d7-47dc-8534-b8968afdbf14",
   "metadata": {},
   "source": [
    "### 1.\tWrite a Python program to find words which are greater than given length k?"
   ]
  },
  {
   "cell_type": "code",
   "execution_count": 39,
   "id": "7c8ea370-f242-4c2c-9de7-21944b0e5159",
   "metadata": {},
   "outputs": [
    {
     "name": "stdin",
     "output_type": "stream",
     "text": [
      "Enter length:  4\n"
     ]
    },
    {
     "name": "stdout",
     "output_type": "stream",
     "text": [
      "Lorem Ipsum simply dummy printing typesetting industry.\n"
     ]
    }
   ],
   "source": [
    "#str1 = \"Lorem Ipsum is simply dummy text of the printing and typesetting industry.\"\n",
    "k = int(input(\"Enter length: \"))\n",
    "list1 = list()\n",
    "for i in str1.split(\" \"):\n",
    "    if len(i) > k:\n",
    "        list1.append(i)\n",
    "\n",
    "print(' '.join(list1))"
   ]
  },
  {
   "cell_type": "markdown",
   "id": "0f0c4ada-998e-47b8-b954-6203e663121f",
   "metadata": {},
   "source": [
    "### 2.\tWrite a Python program for removing i-th character from a string?"
   ]
  },
  {
   "cell_type": "code",
   "execution_count": 40,
   "id": "c1e937b9-bf4f-4b30-82ac-6bc27946ce53",
   "metadata": {},
   "outputs": [
    {
     "name": "stdin",
     "output_type": "stream",
     "text": [
      "Enter index of the character to remove from string:  3\n"
     ]
    },
    {
     "name": "stdout",
     "output_type": "stream",
     "text": [
      "Updated string is Lorm Ipsum\n"
     ]
    }
   ],
   "source": [
    "sample_str = \"Lorem Ipsum\"\n",
    "k = int(input(\"Enter index of the character to remove from string: \"))\n",
    "print(f\"Updated string is {sample_str[0:k]+sample_str[k+1:]}\")"
   ]
  },
  {
   "cell_type": "markdown",
   "id": "bd07e1ef-9a87-42bb-b85a-939bcab2a80d",
   "metadata": {},
   "source": [
    "### 3.\tWrite a Python program to split and join a string?"
   ]
  },
  {
   "cell_type": "code",
   "execution_count": 41,
   "id": "989a29eb-d0bc-4577-b78b-5d7731660352",
   "metadata": {},
   "outputs": [
    {
     "name": "stdout",
     "output_type": "stream",
     "text": [
      "After joining list of strings: Lorem Ipsum is simply dummy text of the printing and typesetting industry.\n"
     ]
    }
   ],
   "source": [
    "#split and store string data\n",
    "str_list = str1.split(\" \")\n",
    "#join a list of strings\n",
    "print(f\"After joining list of strings: {' '.join(str_list)}\")"
   ]
  },
  {
   "cell_type": "markdown",
   "id": "9b7a253c-234b-4d13-8cd8-456623ce1a96",
   "metadata": {},
   "source": [
    "### 4.\tWrite a Python to check if a given string is binary string or not?"
   ]
  },
  {
   "cell_type": "code",
   "execution_count": 42,
   "id": "f9564b90-38ff-4c8d-9479-f95b452901f6",
   "metadata": {},
   "outputs": [
    {
     "name": "stdin",
     "output_type": "stream",
     "text": [
      "Enter binary string:  010asd332\n"
     ]
    },
    {
     "name": "stdout",
     "output_type": "stream",
     "text": [
      "Given string is not binary string\n"
     ]
    }
   ],
   "source": [
    "bin_str = input(\"Enter binary string: \")\n",
    "flag = False\n",
    "for i in bin_str:\n",
    "    if i not in ['0','1']:\n",
    "        flag = True\n",
    "        break\n",
    "if flag == True:\n",
    "    print(\"Given string is not binary string\")\n",
    "elif flag == False:\n",
    "    print(\"Given string is binary string\")"
   ]
  },
  {
   "cell_type": "markdown",
   "id": "207d1a38-b667-4aa8-8929-63f0dfd9da8f",
   "metadata": {},
   "source": [
    "### 5.\tWrite a Python program to find uncommon words from two Strings?"
   ]
  },
  {
   "cell_type": "code",
   "execution_count": 43,
   "id": "0243d572-6ce4-4a46-9c5e-b21535f78066",
   "metadata": {},
   "outputs": [
    {
     "name": "stdout",
     "output_type": "stream",
     "text": [
      "Uncommon words in two strings are:\n",
      "is\n",
      "simply\n",
      "of\n",
      "printing\n",
      "and\n",
      "typesetting\n",
      "industry.\n",
      "has\n",
      "been\n",
      "industry's\n",
      "standard\n",
      "ever\n",
      "since\n",
      "1500s.\n"
     ]
    }
   ],
   "source": [
    "string1 = \"Lorem Ipsum is simply dummy text of the printing and typesetting industry.\"\n",
    "string2 = \"Lorem Ipsum has been the industry's standard dummy text ever since the 1500s.\"\n",
    "\n",
    "uncommon_list = dict()\n",
    "for w in string1.split(\" \"):\n",
    "    uncommon_list[w] = uncommon_list.get(w,0) + 1\n",
    "for w in string2.split(\" \"):\n",
    "    uncommon_list[w] = uncommon_list.get(w,0) + 1\n",
    "print(\"Uncommon words in two strings are:\")\n",
    "uncommon_list = [i for i in uncommon_list if uncommon_list[i] == 1]\n",
    "for i in uncommon_list:\n",
    "    print(i)"
   ]
  },
  {
   "cell_type": "markdown",
   "id": "b666fc4f-52ce-486f-a558-644593b238ec",
   "metadata": {},
   "source": [
    "### 6.\tWrite a Python to find all duplicate characters in string?"
   ]
  },
  {
   "cell_type": "code",
   "execution_count": 44,
   "id": "3dfc785a-44c7-4ec4-a784-d9296873998e",
   "metadata": {},
   "outputs": [
    {
     "name": "stdout",
     "output_type": "stream",
     "text": [
      "Duplicate characters in strings are:\n",
      "o repeated 2 times\n",
      "r repeated 3 times\n",
      "e repeated 5 times\n",
      "m repeated 5 times\n",
      "  repeated 11 times\n",
      "p repeated 4 times\n",
      "s repeated 5 times\n",
      "u repeated 3 times\n",
      "i repeated 6 times\n",
      "y repeated 4 times\n",
      "d repeated 3 times\n",
      "t repeated 8 times\n",
      "n repeated 5 times\n",
      "g repeated 2 times\n"
     ]
    }
   ],
   "source": [
    "dup_str = \"Lorem Ipsum is simply dummy text of the printing and typesetting industry.\"\n",
    "dup_dict = dict()\n",
    "for i in dup_str:\n",
    "    dup_dict[i] = dup_dict.get(i,0) + 1\n",
    "print(\"Duplicate characters in strings are:\")\n",
    "for i in dup_dict:\n",
    "    if dup_dict[i] > 1:\n",
    "        print(f\"{i} repeated {dup_dict[i]} times\")"
   ]
  },
  {
   "cell_type": "markdown",
   "id": "f45fa953-bea4-4ca4-9630-f6943cd58640",
   "metadata": {},
   "source": [
    "### 7.\tWrite a Python Program to check if a string contains any special character?"
   ]
  },
  {
   "cell_type": "code",
   "execution_count": 45,
   "id": "660f6082-6b5b-4786-a2d5-e72ce7dc919a",
   "metadata": {},
   "outputs": [
    {
     "name": "stdin",
     "output_type": "stream",
     "text": [
      "Enter String: Hello World!\n"
     ]
    },
    {
     "name": "stdout",
     "output_type": "stream",
     "text": [
      "Given string contains a special character\n"
     ]
    }
   ],
   "source": [
    "spec_str = input(\"Enter String:\")\n",
    "flag  = bool()\n",
    "for i in spec_str:\n",
    "    if i in '[@_!#$%^&*()<>?/\\|}{~:]':\n",
    "        flag = True\n",
    "if flag == True:\n",
    "    print(\"Given string contains a special character\")\n",
    "else:\n",
    "    print(\"Given string do not contains a special character\")"
   ]
  }
 ],
 "metadata": {
  "kernelspec": {
   "display_name": "Python 3 (ipykernel)",
   "language": "python",
   "name": "python3"
  },
  "language_info": {
   "codemirror_mode": {
    "name": "ipython",
    "version": 3
   },
   "file_extension": ".py",
   "mimetype": "text/x-python",
   "name": "python",
   "nbconvert_exporter": "python",
   "pygments_lexer": "ipython3",
   "version": "3.10.6"
  }
 },
 "nbformat": 4,
 "nbformat_minor": 5
}
