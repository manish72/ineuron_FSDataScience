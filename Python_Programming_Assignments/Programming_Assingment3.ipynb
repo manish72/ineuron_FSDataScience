{
 "cells": [
  {
   "cell_type": "code",
   "execution_count": 1,
   "id": "0a898aa6-01c8-46cc-a562-e18c4cb1fc32",
   "metadata": {},
   "outputs": [
    {
     "name": "stdin",
     "output_type": "stream",
     "text": [
      "Enter number:  -3466\n"
     ]
    },
    {
     "name": "stdout",
     "output_type": "stream",
     "text": [
      "Number is negative\n"
     ]
    }
   ],
   "source": [
    "#1.\tWrite a Python Program to Check if a Number is Positive, Negative or Zero?\n",
    "num = int(input(\"Enter number: \"))\n",
    "if num > 0:\n",
    "    print(\"Number is positive\")\n",
    "elif num < 0:\n",
    "    print(\"Number is negative\")\n",
    "else:\n",
    "    print(\"Number is zero\")"
   ]
  },
  {
   "cell_type": "code",
   "execution_count": 2,
   "id": "d48d0168-9c9b-424e-bd96-dea9496fd22e",
   "metadata": {},
   "outputs": [
    {
     "name": "stdin",
     "output_type": "stream",
     "text": [
      "Enter number:  3456\n"
     ]
    },
    {
     "name": "stdout",
     "output_type": "stream",
     "text": [
      "Number 3456 is even\n"
     ]
    }
   ],
   "source": [
    "#2.\tWrite a Python Program to Check if a Number is Odd or Even?\n",
    "num = int(input(\"Enter number: \"))\n",
    "if num % 2 == 0:\n",
    "    print(f\"Number {num} is even\")\n",
    "elif num % 2 == 1:\n",
    "    print(f\"Number {num} is odd\")"
   ]
  },
  {
   "cell_type": "code",
   "execution_count": 3,
   "id": "75ac4e12-5c0d-4de7-9392-1f2fd4c5c310",
   "metadata": {},
   "outputs": [
    {
     "name": "stdin",
     "output_type": "stream",
     "text": [
      "Enter a number: 2022\n"
     ]
    },
    {
     "name": "stdout",
     "output_type": "stream",
     "text": [
      "2022 is not a leap year\n"
     ]
    }
   ],
   "source": [
    "#3.\tWrite a Python Program to Check Leap Year?\n",
    "var_year = int(input(\"Enter a number:\"))\n",
    "if var_year % 4 == 0:\n",
    "  if var_year % 100 == 0:\n",
    "     if var_year % 400 == 0:\n",
    "      print(f\"{var_year} is a leap year\")\n",
    "     else:\n",
    "      print(f\"{var_year} is not a leap year\")\n",
    "  else:\n",
    "    print(f\"{var_year} is a leap year\")\n",
    "else:\n",
    "    print(f\"{var_year} is not a leap year\")"
   ]
  },
  {
   "cell_type": "code",
   "execution_count": 4,
   "id": "b0c9ff18-6a1c-4c6a-8029-aebea0f9f8ca",
   "metadata": {},
   "outputs": [
    {
     "name": "stdin",
     "output_type": "stream",
     "text": [
      "Enter number:  19\n"
     ]
    },
    {
     "name": "stdout",
     "output_type": "stream",
     "text": [
      "19 is a prime number\n"
     ]
    }
   ],
   "source": [
    "#4.\tWrite a Python Program to Check Prime Number?\n",
    "num = int(input(\"Enter number: \"))\n",
    "if num > 1:\n",
    "    for i in range(2,int(num/2)+1):\n",
    "        if num % i == 0:\n",
    "            print(f\"{num} is not a prime number\")\n",
    "            break\n",
    "    else:\n",
    "        print(f\"{num} is a prime number\")\n",
    "else:\n",
    "    print(f\"{num} is not a prime number\")"
   ]
  },
  {
   "cell_type": "code",
   "execution_count": null,
   "id": "9b9ee209-97f1-49bc-9040-697a9eb736f3",
   "metadata": {},
   "outputs": [],
   "source": [
    "#5.\tWrite a Python Program to Print all Prime Numbers in an Interval of 1-10000?\n",
    "for i in range(1,10000):\n",
    "    for j in range(2,int(i/2)+1):\n",
    "        if i % j == 0:\n",
    "            print(f\"{i} is not a prime number\")\n",
    "            break\n",
    "    else:\n",
    "        print(f\"{i} is a prime number\")"
   ]
  }
 ],
 "metadata": {
  "kernelspec": {
   "display_name": "Python 3 (ipykernel)",
   "language": "python",
   "name": "python3"
  },
  "language_info": {
   "codemirror_mode": {
    "name": "ipython",
    "version": 3
   },
   "file_extension": ".py",
   "mimetype": "text/x-python",
   "name": "python",
   "nbconvert_exporter": "python",
   "pygments_lexer": "ipython3",
   "version": "3.10.6"
  }
 },
 "nbformat": 4,
 "nbformat_minor": 5
}
