{
 "cells": [
  {
   "cell_type": "markdown",
   "id": "25cfb9e9-8c50-4cd2-86bc-0ba66a106a40",
   "metadata": {},
   "source": [
    "## 1.\tWrite a Python Program to Add Two Matrices?"
   ]
  },
  {
   "cell_type": "code",
   "execution_count": 21,
   "id": "25059cdf-6ab0-4e3c-8928-b18233329cb2",
   "metadata": {},
   "outputs": [
    {
     "name": "stdout",
     "output_type": "stream",
     "text": [
      "[10, 10, 10]\n",
      "[10, 10, 10]\n",
      "[10, 10, 10]\n"
     ]
    }
   ],
   "source": [
    "X = [[1,2,3],[4 ,5,6],[7 ,8,9]]\n",
    "Y = [[9,8,7],[6,5,4],[3,2,1]]\n",
    "result = [[X[i][j] + Y[i][j]  for j in range(len(X[0]))] for i in range(len(X))]\n",
    "for r in result:\n",
    "    print(r)"
   ]
  },
  {
   "cell_type": "markdown",
   "id": "0219fc4b-80d0-4332-9785-4be4d8ac47aa",
   "metadata": {},
   "source": [
    "## 2.\tWrite a Python Program to Multiply Two Matrices?"
   ]
  },
  {
   "cell_type": "code",
   "execution_count": 22,
   "id": "3ee33f7f-8838-4c51-82fb-d0424e3897b4",
   "metadata": {},
   "outputs": [
    {
     "name": "stdout",
     "output_type": "stream",
     "text": [
      "[24, 21, 18]\n",
      "[33, 30, 27]\n",
      "[42, 39, 36]\n"
     ]
    }
   ],
   "source": [
    "X = [[1,2,3],[4 ,5,6],[7 ,8,9]]\n",
    "Y = [[9,8,7],[6,5,4],[3,2,1]]\n",
    "\n",
    "result = [[0,0,0],[0,0,0],[0,0,0]]\n",
    "\n",
    "for i in range(len(X)):\n",
    "    for j in range(len(Y[0])):\n",
    "        for k in range(len(Y)):\n",
    "            result[i][j] += X[i][k] + Y[k][j]\n",
    "for i in result:\n",
    "    print(i)"
   ]
  },
  {
   "cell_type": "markdown",
   "id": "b542ab13-8206-4873-8547-6c901d99b26c",
   "metadata": {},
   "source": [
    "## 3.\tWrite a Python Program to Transpose a Matrix?"
   ]
  },
  {
   "cell_type": "code",
   "execution_count": 23,
   "id": "3ba47d1f-e20e-4ec0-9e86-135ed30aa1ec",
   "metadata": {},
   "outputs": [
    {
     "name": "stdout",
     "output_type": "stream",
     "text": [
      "[1, 4, 7]\n",
      "[2, 5, 8]\n",
      "[3, 6, 9]\n"
     ]
    }
   ],
   "source": [
    "X = [[1,2,3],[4 ,5,6],[7 ,8,9]]\n",
    "\n",
    "result = [[0,0,0],[0,0,0],[0,0,0]]\n",
    "\n",
    "for i in range(len(X)):\n",
    "    for j in range(len(X)):\n",
    "        result[i][j] = X[j][i]\n",
    "for i in result:\n",
    "    print(i)"
   ]
  },
  {
   "cell_type": "markdown",
   "id": "98052d12-e94a-42b2-8567-e28b6bd4c8ca",
   "metadata": {},
   "source": [
    "## 4.\tWrite a Python Program to Sort Words in Alphabetic Order?"
   ]
  },
  {
   "cell_type": "code",
   "execution_count": 26,
   "id": "bce1ae42-c864-4f06-88f5-209df79f0449",
   "metadata": {},
   "outputs": [
    {
     "name": "stdin",
     "output_type": "stream",
     "text": [
      "Enter Sentence:  Hello user welcome to python programming\n"
     ]
    },
    {
     "name": "stdout",
     "output_type": "stream",
     "text": [
      "Input sentence in Alphabetic order is Hello programming python to user welcome\n"
     ]
    }
   ],
   "source": [
    "inp = input(\"Enter Sentence: \")\n",
    "\n",
    "li = sorted(list(inp.split(\" \")))\n",
    "\n",
    "print(f\"Input sentence in Alphabetic order is {' '.join(li)}\")"
   ]
  },
  {
   "cell_type": "markdown",
   "id": "f24583aa-a889-40e9-add6-0aa565792cac",
   "metadata": {},
   "source": [
    "##  5.\tWrite a Python Program to Remove Punctuation From a String?"
   ]
  },
  {
   "cell_type": "code",
   "execution_count": 27,
   "id": "ba12baeb-582b-40ab-83a1-3930132a1a83",
   "metadata": {},
   "outputs": [
    {
     "name": "stdin",
     "output_type": "stream",
     "text": [
      "Enter Sentence:  Hel!lo ^*use@#r welcome to] py{th}on[ pro;gram\"min.g\n"
     ]
    },
    {
     "name": "stdout",
     "output_type": "stream",
     "text": [
      "Hello user welcome to python programming\n"
     ]
    }
   ],
   "source": [
    "import string\n",
    "inp = input(\"Enter Sentence: \")\n",
    "fin_str = ''\n",
    "for i in inp:\n",
    "    if i not in string.punctuation:\n",
    "        fin_str += i\n",
    "print(fin_str)"
   ]
  }
 ],
 "metadata": {
  "kernelspec": {
   "display_name": "Python 3 (ipykernel)",
   "language": "python",
   "name": "python3"
  },
  "language_info": {
   "codemirror_mode": {
    "name": "ipython",
    "version": 3
   },
   "file_extension": ".py",
   "mimetype": "text/x-python",
   "name": "python",
   "nbconvert_exporter": "python",
   "pygments_lexer": "ipython3",
   "version": "3.10.6"
  }
 },
 "nbformat": 4,
 "nbformat_minor": 5
}
