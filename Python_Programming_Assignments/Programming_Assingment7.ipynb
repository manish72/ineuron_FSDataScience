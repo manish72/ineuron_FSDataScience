{
 "cells": [
  {
   "cell_type": "markdown",
   "id": "e8a20686-0eda-48af-8e67-a905e5e2c334",
   "metadata": {},
   "source": [
    "### 1.\tWrite a Python Program to find sum of array?"
   ]
  },
  {
   "cell_type": "code",
   "execution_count": 5,
   "id": "4f29661c-2db4-4c5f-833b-3c167987243d",
   "metadata": {},
   "outputs": [
    {
     "name": "stdin",
     "output_type": "stream",
     "text": [
      "Enter comma separated numbers 100,90,10,20,30,40,60,50\n"
     ]
    },
    {
     "name": "stdout",
     "output_type": "stream",
     "text": [
      "Sum of an array is 400\n"
     ]
    }
   ],
   "source": [
    "a = list(map(int,input(\"Enter comma separated numbers\").split(\",\")))\n",
    "sum1 = 0\n",
    "for i in a:\n",
    "    sum1+=i\n",
    "print(f\"Sum of an array is {sum1}\")"
   ]
  },
  {
   "cell_type": "markdown",
   "id": "15dd7002-9e10-4910-9dd5-4206df88a4a9",
   "metadata": {},
   "source": [
    "### 2.\tWrite a Python Program to find largest element in an array?"
   ]
  },
  {
   "cell_type": "code",
   "execution_count": 6,
   "id": "9c0ff0bc-2c37-4035-a372-e18cb5da08e8",
   "metadata": {},
   "outputs": [
    {
     "name": "stdin",
     "output_type": "stream",
     "text": [
      "Enter comma separated numbers 100,90,10,20,30,40,60,50\n"
     ]
    },
    {
     "name": "stdout",
     "output_type": "stream",
     "text": [
      "largest number is 100\n"
     ]
    }
   ],
   "source": [
    "a = list(map(int,input(\"Enter comma separated numbers\").split(\",\")))\n",
    "max=0\n",
    "for num in a:\n",
    "    if num >= max:\n",
    "        max = num\n",
    "print(f\"largest number is {max}\")"
   ]
  },
  {
   "cell_type": "markdown",
   "id": "cd5af6ae-72de-4fd4-88de-4951a8ea8d10",
   "metadata": {},
   "source": [
    "### 3.\tWrite a Python Program for array rotation?"
   ]
  },
  {
   "cell_type": "code",
   "execution_count": 11,
   "id": "7fa33d8b-adee-4c06-b2c0-60f498ab89a7",
   "metadata": {},
   "outputs": [
    {
     "name": "stdin",
     "output_type": "stream",
     "text": [
      "Enter comma separated numbers 100,90,10,20,30,40,60,50\n",
      "Enter how many times you need to rotate :  3\n"
     ]
    },
    {
     "name": "stdout",
     "output_type": "stream",
     "text": [
      "Array after 3 rotations is [20, 30, 40, 60, 50, 100, 90, 10]\n"
     ]
    }
   ],
   "source": [
    "a = list(map(int,input(\"Enter comma separated numbers\").split(\",\")))\n",
    "rot_num = int(input(\"Enter how many times you need to rotate : \"))\n",
    "#traditional way\n",
    "'''final_rot = rot_num\n",
    "temp = 0\n",
    "while rot_num > 0:\n",
    "    temp = a[0]\n",
    "    for i in range(0, len(a)-1):\n",
    "        t = a[i]\n",
    "        a[i] = a[i+1]\n",
    "        a[i+1] = t\n",
    "    a[len(a)-1] = temp\n",
    "    rot_num -=1'''\n",
    "#using python\n",
    "a = a[rot_num:] + a[0:rot_num]\n",
    "print(f\"Array after {rot_num} rotations is {a}\")"
   ]
  },
  {
   "cell_type": "markdown",
   "id": "21b94b36-962e-4b93-9c3b-5d9b5c1db9b9",
   "metadata": {},
   "source": [
    "### 4.\tWrite a Python Program to Split the array and add the first part to the end?"
   ]
  },
  {
   "cell_type": "code",
   "execution_count": 10,
   "id": "744130e4-0d7b-4d56-8fcb-8608f1c82e2a",
   "metadata": {},
   "outputs": [
    {
     "name": "stdin",
     "output_type": "stream",
     "text": [
      "Enter comma separated numbers 100,90,10,20,30,40,60,50\n"
     ]
    },
    {
     "name": "stdout",
     "output_type": "stream",
     "text": [
      "Final array is [30, 40, 60, 50, 100, 90, 10, 20]\n"
     ]
    }
   ],
   "source": [
    "a = list(map(int,input(\"Enter comma separated numbers\").split(\",\")))\n",
    "temp_list = list()\n",
    "i = 0\n",
    "le = int(len(a)/2)\n",
    "a = a[le:] + a[0:le]\n",
    "print(f\"Final array is {a}\")"
   ]
  },
  {
   "cell_type": "markdown",
   "id": "376e4f93-dd02-436b-b67d-b540c75ee32a",
   "metadata": {},
   "source": [
    "### 5.\tWrite a Python Program to check if given array is Monotonic?"
   ]
  },
  {
   "cell_type": "code",
   "execution_count": 12,
   "id": "34fa5e55-24b9-4752-92cc-aeaa5c6fa0cb",
   "metadata": {},
   "outputs": [
    {
     "name": "stdin",
     "output_type": "stream",
     "text": [
      "Enter comma separated numbers 100,90,10,20,30,40,60,50\n"
     ]
    },
    {
     "name": "stdout",
     "output_type": "stream",
     "text": [
      "List is not monotonic\n"
     ]
    }
   ],
   "source": [
    "def isMonotonic(A):\n",
    "    x, y = [], []\n",
    "    x.extend(A)\n",
    "    y.extend(A)\n",
    "    x.sort()\n",
    "    y.sort(reverse=True)\n",
    "    if(x == A or y == A):\n",
    "        return True\n",
    "    return False \n",
    "\n",
    "A = list(map(int,input(\"Enter comma separated numbers\").split(\",\")))\n",
    "\n",
    "if isMonotonic(A):\n",
    "    print(f\"List is monotonic\")\n",
    "else:\n",
    "    print(f\"List is not monotonic\")"
   ]
  }
 ],
 "metadata": {
  "kernelspec": {
   "display_name": "Python 3 (ipykernel)",
   "language": "python",
   "name": "python3"
  },
  "language_info": {
   "codemirror_mode": {
    "name": "ipython",
    "version": 3
   },
   "file_extension": ".py",
   "mimetype": "text/x-python",
   "name": "python",
   "nbconvert_exporter": "python",
   "pygments_lexer": "ipython3",
   "version": "3.10.6"
  }
 },
 "nbformat": 4,
 "nbformat_minor": 5
}
