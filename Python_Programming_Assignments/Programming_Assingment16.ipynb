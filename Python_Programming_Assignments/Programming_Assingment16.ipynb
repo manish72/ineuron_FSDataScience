{
 "cells": [
  {
   "cell_type": "markdown",
   "id": "60e4e1de-e252-4570-8df0-7661dfe0164a",
   "metadata": {},
   "source": [
    "### 1. Write a function that stutters a word as if someone is struggling to read it. The first two letters are repeated twice with an ellipsis ... and space after each, and then the word is pronounced with a question mark ?."
   ]
  },
  {
   "cell_type": "code",
   "execution_count": 2,
   "id": "987d9143-b088-413c-a5f8-fe3c6a544d18",
   "metadata": {},
   "outputs": [
    {
     "name": "stdin",
     "output_type": "stream",
     "text": [
      "Enter string: incredible\n"
     ]
    },
    {
     "name": "stdout",
     "output_type": "stream",
     "text": [
      "in... in... incredible?\n"
     ]
    }
   ],
   "source": [
    "def stutter(string):\n",
    "    return 2*(string[:2]+'... ')+string+'?'\n",
    "\n",
    "str_inp = input('Enter string:')\n",
    "print(stutter(str_inp))"
   ]
  },
  {
   "cell_type": "markdown",
   "id": "a3d45b11-ee85-4c2e-9a79-dd8e4b20b7de",
   "metadata": {},
   "source": [
    "### 2. Create a function that takes an angle in radians and returns the corresponding angle in degrees rounded to one decimal place"
   ]
  },
  {
   "cell_type": "code",
   "execution_count": 20,
   "id": "ac743aa6-9ba1-474f-9561-6cea9b30541d",
   "metadata": {},
   "outputs": [
    {
     "name": "stdin",
     "output_type": "stream",
     "text": [
      "Enter radians: 50\n"
     ]
    },
    {
     "name": "stdout",
     "output_type": "stream",
     "text": [
      "50.0 to degrees is 2850.0\n"
     ]
    }
   ],
   "source": [
    "def radians_to_degrees(rad):\n",
    "    return round(rad * (180//3.14),1)\n",
    "\n",
    "int_inp = float(input('Enter radians:'))\n",
    "print(f\"{int_inp} to degrees is {radians_to_degrees(int_inp)}\")"
   ]
  },
  {
   "cell_type": "markdown",
   "id": "c3d42ac3-199e-4260-b507-8f1080e4966f",
   "metadata": {},
   "source": [
    "### 3. Given a non-negative integer num, implement a function that returns True if num is a Curzon number, or False otherwise."
   ]
  },
  {
   "cell_type": "code",
   "execution_count": 23,
   "id": "e6b0251c-93a6-45fb-9e48-b8df2bf235cc",
   "metadata": {},
   "outputs": [
    {
     "name": "stdin",
     "output_type": "stream",
     "text": [
      "Enter number: 5\n"
     ]
    },
    {
     "name": "stdout",
     "output_type": "stream",
     "text": [
      "5 is Curzon number\n"
     ]
    }
   ],
   "source": [
    "def curzon_number(n):\n",
    "    first_part = (2 ** n) + 1\n",
    "    second_part = (2 * n) + 1\n",
    "    if first_part % second_part == 0:\n",
    "        return \"Curzon number\"\n",
    "    else:\n",
    "        return \"not a Curzon number\"\n",
    "\n",
    "n = int(input(\"Enter number:\"))\n",
    "print(f\"{n} is {curzon_number(n)}\")"
   ]
  },
  {
   "cell_type": "markdown",
   "id": "ecc02071-51c9-4cb9-bda5-cbc3704cc66b",
   "metadata": {},
   "source": [
    "### 4. Given the side length x find the area of a hexagon."
   ]
  },
  {
   "cell_type": "code",
   "execution_count": 29,
   "id": "76301dc3-59df-4d90-8cb0-b6c16362f494",
   "metadata": {},
   "outputs": [
    {
     "name": "stdin",
     "output_type": "stream",
     "text": [
      "Enter number: 3\n"
     ]
    },
    {
     "name": "stdout",
     "output_type": "stream",
     "text": [
      "Area of a hexagon is 23.4\n"
     ]
    }
   ],
   "source": [
    "def area_hexagon(side):\n",
    "    return (3 * (3 ** (1/2)) * (side ** 2))/2\n",
    "\n",
    "n = int(input(\"Enter number:\"))\n",
    "print(f\"Area of a hexagon is {round(area_hexagon(n),1)}\")"
   ]
  },
  {
   "cell_type": "markdown",
   "id": "0b3de2ef-ffb8-4315-9ad4-33118941e80e",
   "metadata": {},
   "source": [
    "### 5. Create a function that returns a base-2 (binary) representation of a base-10 (decimal) string number."
   ]
  },
  {
   "cell_type": "code",
   "execution_count": 32,
   "id": "a3719655-a16f-4731-9701-25459a724bd3",
   "metadata": {},
   "outputs": [
    {
     "name": "stdin",
     "output_type": "stream",
     "text": [
      "Enter number: 10\n"
     ]
    },
    {
     "name": "stdout",
     "output_type": "stream",
     "text": [
      "binary representation of a given number 10 is 1010\n"
     ]
    }
   ],
   "source": [
    "def convert_bin(num):\n",
    "    return bin(num).replace('0b','')\n",
    "\n",
    "n = int(input(\"Enter number:\"))\n",
    "print(f\"binary representation of a given number {n} is {convert_bin(n)}\")"
   ]
  }
 ],
 "metadata": {
  "kernelspec": {
   "display_name": "Python 3 (ipykernel)",
   "language": "python",
   "name": "python3"
  },
  "language_info": {
   "codemirror_mode": {
    "name": "ipython",
    "version": 3
   },
   "file_extension": ".py",
   "mimetype": "text/x-python",
   "name": "python",
   "nbconvert_exporter": "python",
   "pygments_lexer": "ipython3",
   "version": "3.10.6"
  }
 },
 "nbformat": 4,
 "nbformat_minor": 5
}
