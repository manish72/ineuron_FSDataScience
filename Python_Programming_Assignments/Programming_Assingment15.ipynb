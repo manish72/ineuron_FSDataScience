{
 "cells": [
  {
   "cell_type": "markdown",
   "id": "03b2fede-ba03-48c2-9727-67afe4a5ae60",
   "metadata": {},
   "source": [
    "### 1. Please write a program using generator to print the numbers which can be divisible by 5 and 7 between 0 and n in comma separated form while n is input by console"
   ]
  },
  {
   "cell_type": "code",
   "execution_count": 1,
   "id": "845673de-e5fd-4e78-a8d2-0e1ed3bf0865",
   "metadata": {},
   "outputs": [
    {
     "name": "stdin",
     "output_type": "stream",
     "text": [
      "Enter range: 100\n"
     ]
    },
    {
     "name": "stdout",
     "output_type": "stream",
     "text": [
      "0,35,70\n"
     ]
    }
   ],
   "source": [
    "def checkdiv(n):\n",
    "    for i in range(0,n):\n",
    "        if i % 5 == 0 and i % 7 == 0:\n",
    "            yield i\n",
    "\n",
    "n = int(input(\"Enter range:\"))\n",
    "fin_list = []\n",
    "for i in checkdiv(n):\n",
    "    fin_list.append(str(i))\n",
    "print(','.join(fin_list))"
   ]
  },
  {
   "cell_type": "markdown",
   "id": "857667a9-0be0-42ae-a452-2caf43dcc954",
   "metadata": {},
   "source": [
    "### 2. Please write a program using generator to print the even numbers between 0 and n in comma separated form while n is input by console"
   ]
  },
  {
   "cell_type": "code",
   "execution_count": 6,
   "id": "d50f376d-17b0-4177-bc81-a3b0ea8c1589",
   "metadata": {},
   "outputs": [
    {
     "name": "stdin",
     "output_type": "stream",
     "text": [
      "Enter range: 10\n"
     ]
    },
    {
     "name": "stdout",
     "output_type": "stream",
     "text": [
      "0,2,4,6,8,10\n"
     ]
    }
   ],
   "source": [
    "def printevennums(n):\n",
    "    for i in range(0,n+1):\n",
    "        if i % 2 == 0:\n",
    "            yield i\n",
    "\n",
    "n = int(input(\"Enter range:\"))\n",
    "fin_list = []\n",
    "for i in printevennums(n):\n",
    "    fin_list.append(str(i))\n",
    "print(','.join(fin_list))"
   ]
  },
  {
   "cell_type": "markdown",
   "id": "a1be6372-4dcf-4edc-a3ea-d31340125a36",
   "metadata": {},
   "source": [
    "### 3. Please write a program using list comprehension to print the Fibonacci Sequence in comma separated form with a given n input by console"
   ]
  },
  {
   "cell_type": "code",
   "execution_count": 12,
   "id": "9db9fbc0-1124-4bee-96de-fee29884a372",
   "metadata": {},
   "outputs": [
    {
     "name": "stdin",
     "output_type": "stream",
     "text": [
      "Enter range: 7\n"
     ]
    },
    {
     "name": "stdout",
     "output_type": "stream",
     "text": [
      "0,1,1,2,3,5,8,13\n"
     ]
    }
   ],
   "source": [
    "def fibonaci(n):\n",
    "    if n == 0:\n",
    "        return 0\n",
    "    elif n == 1:\n",
    "        return 1\n",
    "    else:\n",
    "        return fibonaci(n-1) + fibonaci(n-2)\n",
    "\n",
    "n = int(input(\"Enter range:\"))\n",
    "fib_list = [str(fibonaci(i)) for i in range(n+1)]\n",
    "print(','.join(fib_list))"
   ]
  },
  {
   "cell_type": "markdown",
   "id": "6e5f2aaa-fa58-441f-8b89-03e55cd2c078",
   "metadata": {},
   "source": [
    "### 4. Assuming that we have some email addresses in the \"username@companyname.com\" format, please write program to print the user name of a given email address. Both user names and company names are composed of letters only."
   ]
  },
  {
   "cell_type": "code",
   "execution_count": 13,
   "id": "58f97ea6-bc12-40dc-aea3-c25e2f2904a4",
   "metadata": {},
   "outputs": [
    {
     "name": "stdin",
     "output_type": "stream",
     "text": [
      "Enter email address john@google.com\n"
     ]
    },
    {
     "name": "stdout",
     "output_type": "stream",
     "text": [
      "john\n"
     ]
    }
   ],
   "source": [
    "email_addr = input(\"Enter email address\")\n",
    "print(email_addr.split(\"@\")[0])"
   ]
  },
  {
   "cell_type": "markdown",
   "id": "0bfc18a6-c69f-43f2-aeb2-470df7ebfe88",
   "metadata": {},
   "source": [
    "### 5. Define a class named Shape and its subclass Square. The Square class has an init function which takes a length as argument. Both classes have a area function which can print the area of the shape where Shape's area is 0 by default."
   ]
  },
  {
   "cell_type": "code",
   "execution_count": 20,
   "id": "406a13d2-2cd9-4c56-9a67-b4536f3aaa69",
   "metadata": {},
   "outputs": [
    {
     "name": "stdout",
     "output_type": "stream",
     "text": [
      "Area of a shape is 100\n"
     ]
    }
   ],
   "source": [
    "class Shape:\n",
    "    area_val = 0\n",
    "    def area(self):\n",
    "        print(\"Area of a shape is\",self.area_val)\n",
    "class Square(Shape):\n",
    "    def __init__(self,length):\n",
    "        self.length = length\n",
    "    def area(self):\n",
    "        print(\"Area of a shape is\",self.length ** 2)\n",
    "\n",
    "sqa1 = Square(10)\n",
    "sqa1.area()"
   ]
  }
 ],
 "metadata": {
  "kernelspec": {
   "display_name": "Python 3 (ipykernel)",
   "language": "python",
   "name": "python3"
  },
  "language_info": {
   "codemirror_mode": {
    "name": "ipython",
    "version": 3
   },
   "file_extension": ".py",
   "mimetype": "text/x-python",
   "name": "python",
   "nbconvert_exporter": "python",
   "pygments_lexer": "ipython3",
   "version": "3.10.6"
  }
 },
 "nbformat": 4,
 "nbformat_minor": 5
}
