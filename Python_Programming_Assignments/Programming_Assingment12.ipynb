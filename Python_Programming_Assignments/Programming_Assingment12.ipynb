{
 "cells": [
  {
   "cell_type": "markdown",
   "id": "f64f22e1-6711-4342-8138-c5f26320cbf6",
   "metadata": {},
   "source": [
    "### 1.\tWrite a Python program to Extract Unique values dictionary values?"
   ]
  },
  {
   "cell_type": "code",
   "execution_count": 22,
   "id": "e161018b-0dc0-4247-8d82-ff70fc3c0898",
   "metadata": {},
   "outputs": [
    {
     "name": "stdout",
     "output_type": "stream",
     "text": [
      "[1, 2, 3, 4, 5, 9, 12, 41, 43, 67]\n"
     ]
    }
   ],
   "source": [
    "uniq_dict = {'a':[12,4,41,1],'b':[1,3,5,2],'c':[3,67,1,3],'d':[41,9,43,5]}\n",
    "uniq_val = list(sorted({ev for values in uniq_dict for ev in uniq_dict[values]}))\n",
    "print(uniq_val)"
   ]
  },
  {
   "cell_type": "markdown",
   "id": "f5e4f386-5d8f-4c33-b6ec-e2930b1cf7b0",
   "metadata": {},
   "source": [
    "### 2.\tWrite a Python program to find the sum of all items in a dictionary?"
   ]
  },
  {
   "cell_type": "code",
   "execution_count": 23,
   "id": "96940b81-ace3-4b15-bdbe-3b7ba5d9c61c",
   "metadata": {},
   "outputs": [
    {
     "name": "stdout",
     "output_type": "stream",
     "text": [
      "Sum of all items in dictionary is 600\n"
     ]
    }
   ],
   "source": [
    "dict_items = {'a': 100, 'b':200, 'c':300}\n",
    "print(f\"Sum of all items in dictionary is {sum(dict_items.values())}\")"
   ]
  },
  {
   "cell_type": "markdown",
   "id": "65e2ae1a-3e45-42c7-af36-ebda650d3b16",
   "metadata": {},
   "source": [
    "### 3.\tWrite a Python program to Merging two Dictionaries?"
   ]
  },
  {
   "cell_type": "code",
   "execution_count": 24,
   "id": "82574615-e90f-4a19-a15e-35c53c23c6f0",
   "metadata": {},
   "outputs": [
    {
     "name": "stdout",
     "output_type": "stream",
     "text": [
      "Merge of two dictionaries is {'a': 100, 'b': 200, 'c': 300, 'x': 25, 'y': 18, 'z': 45}\n"
     ]
    }
   ],
   "source": [
    "dict1 = {'a': 100, 'b':200, 'c':300}\n",
    "dict2 = {'x': 25, 'y':18, 'z':45}\n",
    "dict1.update(dict2)\n",
    "print(f\"Merge of two dictionaries is {dict1}\")"
   ]
  },
  {
   "cell_type": "markdown",
   "id": "0527fb0c-6bab-4e7e-ba6e-09c87640867f",
   "metadata": {},
   "source": [
    "### 4.\tWrite a Python program to convert key-values list to flat dictionary?"
   ]
  },
  {
   "cell_type": "code",
   "execution_count": 25,
   "id": "1aa11142-74b8-4caa-a1d8-5bd09609d0df",
   "metadata": {},
   "outputs": [
    {
     "name": "stdout",
     "output_type": "stream",
     "text": [
      "Original dictionary is : {'month': [1, 2, 3], 'name': ['Jan', 'Feb', 'March']}\n",
      "Flattened dictionary : {1: 'Jan', 2: 'Feb', 3: 'March'}\n"
     ]
    }
   ],
   "source": [
    "test_dict = {'month' : [1, 2, 3],\n",
    "            'name' : ['Jan', 'Feb', 'March']}\n",
    " \n",
    "print(\"Original dictionary is : \" + str(test_dict))\n",
    " \n",
    "x=list(test_dict.values())\n",
    "a=x[0]\n",
    "b=x[1]\n",
    "d=dict()\n",
    "for i in range(0,len(a)):\n",
    "    d[a[i]]=b[i]\n",
    "    \n",
    "print(\"Flattened dictionary : \" + str(d))"
   ]
  },
  {
   "cell_type": "markdown",
   "id": "526d0f45-3a75-49ea-b3e3-72ef364b8bf9",
   "metadata": {},
   "source": [
    "### 5.\tWrite a Python program to insertion at the beginning in OrderedDict?"
   ]
  },
  {
   "cell_type": "code",
   "execution_count": 26,
   "id": "098228e1-fc3d-4417-81c1-5745e5b0493a",
   "metadata": {},
   "outputs": [
    {
     "name": "stdout",
     "output_type": "stream",
     "text": [
      "Updated dictionary is  OrderedDict([('Python', 3), ('hello', 1), ('world', 2)])\n"
     ]
    }
   ],
   "source": [
    "from collections import OrderedDict\n",
    "ord_dict = OrderedDict({'hello' : 1, 'world' : 2})\n",
    "ord_dict.update({'Python':3})\n",
    "#inserting Python key item to first of dictionary\n",
    "ord_dict.move_to_end('Python',last=False)\n",
    "print(\"Updated dictionary is \",ord_dict)"
   ]
  },
  {
   "cell_type": "markdown",
   "id": "e547cffa-9c65-4562-8ca7-8d77891a5b02",
   "metadata": {},
   "source": [
    "### 6.\tWrite a Python program to check order of character in string using OrderedDict()?"
   ]
  },
  {
   "cell_type": "code",
   "execution_count": 27,
   "id": "c39f7c8d-69c7-4461-a98a-3707ffc3198e",
   "metadata": {},
   "outputs": [
    {
     "name": "stdin",
     "output_type": "stream",
     "text": [
      "Enter input string HelloWorld\n",
      "Enter Pattern to check el\n"
     ]
    },
    {
     "name": "stdout",
     "output_type": "stream",
     "text": [
      "Pattern order is followed in string\n"
     ]
    }
   ],
   "source": [
    "from collections import OrderedDict \n",
    "  \n",
    "def checkOrder(input, pattern): \n",
    "      \n",
    "    dict1 = OrderedDict.fromkeys(input) \n",
    "    \n",
    "    ptrlen = 0\n",
    "    for key,value in dict1.items(): \n",
    "        if (key == pattern[ptrlen]): \n",
    "            ptrlen = ptrlen + 1\n",
    "\n",
    "        if (ptrlen == (len(pattern))): \n",
    "            return True\n",
    "\n",
    "    return False\n",
    "  \n",
    "\n",
    "inp_str = input('Enter input string')\n",
    "pattern = input('Enter Pattern to check')\n",
    "if checkOrder(inp_str,pattern):\n",
    "    print('Pattern order is followed in string')\n",
    "else:\n",
    "    print('Pattern order is not followed in string')"
   ]
  },
  {
   "cell_type": "markdown",
   "id": "877b65ce-724e-46fc-9926-83725a3685c6",
   "metadata": {},
   "source": [
    "### 7.\tWrite a Python program to sort Python Dictionaries by Key or Value?"
   ]
  },
  {
   "cell_type": "code",
   "execution_count": 28,
   "id": "1f8f977f-a648-4bf6-a1e3-e5625fc90ab9",
   "metadata": {},
   "outputs": [
    {
     "name": "stdout",
     "output_type": "stream",
     "text": [
      "(1:Jan) (2:Feb) (3:March) "
     ]
    }
   ],
   "source": [
    "dict_item = {3: 'March',1: 'Jan', 2: 'Feb'}\n",
    "sorted(dict_item)\n",
    "for i in sorted(dict_item):\n",
    "    print(f\"({i}:{dict_item[i]})\",end=\" \")"
   ]
  }
 ],
 "metadata": {
  "kernelspec": {
   "display_name": "Python 3 (ipykernel)",
   "language": "python",
   "name": "python3"
  },
  "language_info": {
   "codemirror_mode": {
    "name": "ipython",
    "version": 3
   },
   "file_extension": ".py",
   "mimetype": "text/x-python",
   "name": "python",
   "nbconvert_exporter": "python",
   "pygments_lexer": "ipython3",
   "version": "3.10.6"
  }
 },
 "nbformat": 4,
 "nbformat_minor": 5
}
