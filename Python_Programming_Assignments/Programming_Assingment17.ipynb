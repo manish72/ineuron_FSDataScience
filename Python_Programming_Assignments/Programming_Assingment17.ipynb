{
 "cells": [
  {
   "cell_type": "markdown",
   "id": "f6717de7-b84b-451c-a50d-29ac97575d40",
   "metadata": {},
   "source": [
    "### 1. Create a function that takes three arguments a, b, c and returns the sum of the numbers that are evenly divided by c from the range a, b inclusive"
   ]
  },
  {
   "cell_type": "code",
   "execution_count": 7,
   "id": "b3c892c8-e546-40b0-9917-b5e405f1a991",
   "metadata": {},
   "outputs": [
    {
     "name": "stdin",
     "output_type": "stream",
     "text": [
      "Enter value of a: 1\n",
      "Enter value of b: 10\n",
      "Enter value of c: 20\n"
     ]
    },
    {
     "name": "stdout",
     "output_type": "stream",
     "text": [
      "Total sum which are evenly divisible by 20 is 0\n"
     ]
    }
   ],
   "source": [
    "def evenly_divisible(a,b,c):\n",
    "    sum = 0\n",
    "    for i in range(a,b+1):\n",
    "        if i % c == 0:\n",
    "            sum += i\n",
    "    return sum\n",
    "\n",
    "a = int(input(\"Enter value of a:\"))\n",
    "b = int(input(\"Enter value of b:\"))\n",
    "c = int(input(\"Enter value of c:\"))\n",
    "print(f\"Total sum which are evenly divisible by {c} is {evenly_divisible(a,b,c)}\")"
   ]
  },
  {
   "cell_type": "markdown",
   "id": "c1511510-1d17-4aeb-827d-751323de51bb",
   "metadata": {},
   "source": [
    "### 2. Create a function that returns True if a given inequality expression is correct and False otherwise"
   ]
  },
  {
   "cell_type": "code",
   "execution_count": 10,
   "id": "656c9e28-de19-4058-b419-dc626892a7f1",
   "metadata": {},
   "outputs": [
    {
     "name": "stdin",
     "output_type": "stream",
     "text": [
      "Enter expression: 1 < 2 < 6 < 9 > 3\n"
     ]
    },
    {
     "name": "stdout",
     "output_type": "stream",
     "text": [
      "Expression is True\n"
     ]
    }
   ],
   "source": [
    "def correct_signs(exp):\n",
    "    return eval(exp)\n",
    "\n",
    "exp = input(\"Enter expression:\")\n",
    "print(f\"Expression is {correct_signs(exp)}\")"
   ]
  },
  {
   "cell_type": "markdown",
   "id": "5634960e-ba4b-4461-a3a7-089b22b7bdc2",
   "metadata": {},
   "source": [
    "### 3. Create a function that replaces all the vowels in a string with a specified character."
   ]
  },
  {
   "cell_type": "code",
   "execution_count": 20,
   "id": "cb08fbc6-b94a-4ba9-b091-5b1565e3c534",
   "metadata": {},
   "outputs": [
    {
     "name": "stdin",
     "output_type": "stream",
     "text": [
      "Enter string: shakespeare\n",
      "Enter character *\n"
     ]
    },
    {
     "name": "stdout",
     "output_type": "stream",
     "text": [
      "After replacing the string with special character is sh*k*sp**r*\n"
     ]
    }
   ],
   "source": [
    "def replace_vowels(string,spe_char):\n",
    "    fin_list = list()\n",
    "    for i in string:\n",
    "        fin_list.append(i)\n",
    "    for i in range(0,len(fin_list)):\n",
    "        if fin_list[i] in ['a','A','e','E','i','I','o','O','u','U']:\n",
    "            fin_list[i] = spe_char\n",
    "    return ''.join(fin_list)\n",
    "\n",
    "string = input('Enter string:')\n",
    "spec_char = input('Enter character')\n",
    "print(f'After replacing the string with special character is {replace_vowels(string,spec_char)}')"
   ]
  },
  {
   "cell_type": "markdown",
   "id": "aa2df3d7-156b-4139-a83b-baccdea346bd",
   "metadata": {},
   "source": [
    "### 4. Write a function that calculates the factorial of a number recursively"
   ]
  },
  {
   "cell_type": "code",
   "execution_count": 27,
   "id": "9c140849-b4db-4e28-91bb-c9defb0db08d",
   "metadata": {},
   "outputs": [
    {
     "name": "stdin",
     "output_type": "stream",
     "text": [
      "Enter number: 3\n"
     ]
    },
    {
     "name": "stdout",
     "output_type": "stream",
     "text": [
      "Factorial of a given number is 6\n"
     ]
    }
   ],
   "source": [
    "def factorial(num):\n",
    "    if num == 1 or num == 0:\n",
    "        return 1\n",
    "    else:\n",
    "        return num * factorial(num-1)\n",
    "\n",
    "num = int(input('Enter number:'))\n",
    "print(f'Factorial of a given number is {factorial(num)}')"
   ]
  },
  {
   "cell_type": "markdown",
   "id": "a4e99154-7dab-44d6-b533-fb42fd7e0100",
   "metadata": {},
   "source": [
    "### 5. Create a function that computes the hamming distance between two strings"
   ]
  },
  {
   "cell_type": "code",
   "execution_count": 30,
   "id": "81db306f-90a7-43c6-a0be-c041ebb2e6b2",
   "metadata": {},
   "outputs": [
    {
     "name": "stdin",
     "output_type": "stream",
     "text": [
      "Enter first string: strong\n",
      "Enter second string: strung\n"
     ]
    },
    {
     "name": "stdout",
     "output_type": "stream",
     "text": [
      "Hamming distance of two strings is 1\n"
     ]
    }
   ],
   "source": [
    "def hamming_distance(str1,str2):\n",
    "    dist = 0\n",
    "    for i in range(0,len(str1)):\n",
    "        if str1[i] != str2[i]:\n",
    "            dist += 1\n",
    "    return dist\n",
    "\n",
    "str1 = input('Enter first string:')\n",
    "str2 = input('Enter second string:')\n",
    "print(f'Hamming distance of two strings is {hamming_distance(str1,str2)}')"
   ]
  }
 ],
 "metadata": {
  "kernelspec": {
   "display_name": "Python 3 (ipykernel)",
   "language": "python",
   "name": "python3"
  },
  "language_info": {
   "codemirror_mode": {
    "name": "ipython",
    "version": 3
   },
   "file_extension": ".py",
   "mimetype": "text/x-python",
   "name": "python",
   "nbconvert_exporter": "python",
   "pygments_lexer": "ipython3",
   "version": "3.10.6"
  }
 },
 "nbformat": 4,
 "nbformat_minor": 5
}
