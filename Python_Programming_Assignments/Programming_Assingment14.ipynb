{
 "cells": [
  {
   "cell_type": "markdown",
   "id": "22f90784-61a5-4a93-826b-1f9456abe2d9",
   "metadata": {},
   "source": [
    "### 1. Define a class with a generator which can iterate the numbers, which are divisible by 7, between a given range 0 and n."
   ]
  },
  {
   "cell_type": "code",
   "execution_count": 4,
   "id": "d20724f8-5b9d-4418-b67c-0a9700dc7160",
   "metadata": {},
   "outputs": [
    {
     "name": "stdin",
     "output_type": "stream",
     "text": [
      "Enter your range: 30\n"
     ]
    },
    {
     "name": "stdout",
     "output_type": "stream",
     "text": [
      "0 7 14 21 28 "
     ]
    }
   ],
   "source": [
    "class generator:\n",
    "    def __init__(self,n):\n",
    "        self.n = n\n",
    "    \n",
    "    def divbyseven(self):\n",
    "        for i in range(0,n):\n",
    "            if i % 7 == 0:\n",
    "                yield i\n",
    "\n",
    "n = int(input('Enter your range:'))\n",
    "for i in generator(n).divbyseven():\n",
    "    print(i,end=' ')"
   ]
  },
  {
   "cell_type": "markdown",
   "id": "b67c174a-9166-4680-9875-1f391d24f8df",
   "metadata": {},
   "source": [
    "### 2. Write a program to compute the frequency of the words from the input. The output should output after sorting the key alphanumerically"
   ]
  },
  {
   "cell_type": "code",
   "execution_count": 15,
   "id": "9ba69659-9211-4ed0-b5de-e1704c84a5de",
   "metadata": {},
   "outputs": [
    {
     "name": "stdin",
     "output_type": "stream",
     "text": [
      "Enter input sentence: New to Python or choosing between Python 2 and Python 3? Read Python 2 or Python 3.\n"
     ]
    },
    {
     "name": "stdout",
     "output_type": "stream",
     "text": [
      "Frequency of each word after sorting is:\n",
      "2:2\n",
      "3.:1\n",
      "3?:1\n",
      "New:1\n",
      "Python:5\n",
      "Read:1\n",
      "and:1\n",
      "between:1\n",
      "choosing:1\n",
      "or:2\n",
      "to:1\n"
     ]
    }
   ],
   "source": [
    "from collections import Counter\n",
    "#inpStr = Counter(input('Enter input sentence:').split(' '))\n",
    "#print(sorted(dict(inpStr)))\n",
    "inpStr = input('Enter input sentence:').split(' ')\n",
    "freq_dict = dict()\n",
    "for i in inpStr:\n",
    "    freq_dict[i] = freq_dict.get(i,0) + 1\n",
    "print(\"Frequency of each word after sorting is:\")\n",
    "for i in sorted(freq_dict):\n",
    "    print(f\"{i}:{freq_dict[i]}\")"
   ]
  },
  {
   "cell_type": "markdown",
   "id": "4df973e0-f324-44af-a489-89dc570bee55",
   "metadata": {},
   "source": [
    "### 3. Define a class Person and its two child classes: Male and Female. All classes have a method \"getGender\" which can print \"Male\" for Male class and \"Female\" for Female class"
   ]
  },
  {
   "cell_type": "code",
   "execution_count": 18,
   "id": "631a4bdb-cd0f-4266-a29a-e00790a7016f",
   "metadata": {},
   "outputs": [
    {
     "name": "stdout",
     "output_type": "stream",
     "text": [
      "Male\n",
      "Female\n"
     ]
    }
   ],
   "source": [
    "class Person:\n",
    "    def getGender(self):\n",
    "        print(\"Person\")\n",
    "class Male(Person):\n",
    "    def getGender(self):\n",
    "        print(\"Male\")\n",
    "class Female(Person):\n",
    "    def getGender(self):\n",
    "        print(\"Female\")\n",
    "\n",
    "male = Male()\n",
    "female = Female()\n",
    "male.getGender()\n",
    "female.getGender()"
   ]
  },
  {
   "cell_type": "markdown",
   "id": "635da044-763b-4b25-9b8e-96f5b2f513d2",
   "metadata": {},
   "source": [
    "### 4. Please write a program to generate all sentences where subject is in [\"I\", \"You\"] and verb is in [\"Play\", \"Love\"] and the object is in [\"Hockey\",\"Football\"]"
   ]
  },
  {
   "cell_type": "code",
   "execution_count": 19,
   "id": "50195d73-122e-44e4-9c67-e5c44aaedcb6",
   "metadata": {},
   "outputs": [
    {
     "name": "stdout",
     "output_type": "stream",
     "text": [
      "I Play Hockey\n",
      "I Play Football\n",
      "I Love Hockey\n",
      "I Love Football\n",
      "You Play Hockey\n",
      "You Play Football\n",
      "You Love Hockey\n",
      "You Love Football\n"
     ]
    }
   ],
   "source": [
    "subject = [\"I\", \"You\"]\n",
    "verb = [\"Play\", \"Love\"]\n",
    "object = [\"Hockey\",\"Football\"]\n",
    "\n",
    "for i in subject:\n",
    "    for j in verb:\n",
    "        for k in object:\n",
    "            print(i,j,k)"
   ]
  },
  {
   "cell_type": "markdown",
   "id": "d84fc9a9-ff44-4dde-8d50-54f03318aeff",
   "metadata": {},
   "source": [
    "### 5. Please write a program to compress and decompress the string \"hello world!hello world!hello world!hello world!\"."
   ]
  },
  {
   "cell_type": "code",
   "execution_count": 22,
   "id": "80b067f4-d531-4160-a743-5d4f112fb737",
   "metadata": {},
   "outputs": [
    {
     "name": "stdout",
     "output_type": "stream",
     "text": [
      "Compressed String\n",
      "b'x\\x9c\\xcbH\\xcd\\xc9\\xc9W(\\xcf/\\xcaIQ\\xcc \\x82\\r\\x00\\xbd[\\x11\\xf5'\n",
      "\n",
      "Decompressed String\n",
      "b'hello world!hello world!hello world!hello world!'\n"
     ]
    }
   ],
   "source": [
    "import zlib \n",
    "  \n",
    "s = b\"hello world!hello world!hello world!hello world!\"\n",
    "   \n",
    "t = zlib.compress(s)\n",
    "print(\"Compressed String\")\n",
    "print(t)\n",
    "  \n",
    "print(\"\\nDecompressed String\")\n",
    "print(zlib.decompress(t))"
   ]
  },
  {
   "cell_type": "markdown",
   "id": "e1f31655-c3b2-450d-953f-e773407fc7ee",
   "metadata": {},
   "source": [
    "### 6. Please write a binary search function which searches an item in a sorted list. The function should return the index of element to be searched in the list."
   ]
  },
  {
   "cell_type": "code",
   "execution_count": 28,
   "id": "d04823dd-aa40-45a6-aa02-8cc42f070dcb",
   "metadata": {},
   "outputs": [
    {
     "name": "stdout",
     "output_type": "stream",
     "text": [
      "Element 11 is present at index 4\n"
     ]
    }
   ],
   "source": [
    "def binary_search(arr, low, high, x):\n",
    " \n",
    "    low = 0\n",
    "    high = len(arr)-1\n",
    "    \n",
    "    while low <= high:\n",
    "        mid = (low + high)//2\n",
    "        \n",
    "        if arr[mid] == x:\n",
    "            return mid\n",
    "        elif arr[mid] < x:\n",
    "            low = mid + 1\n",
    "        else:\n",
    "            high = mid - 1\n",
    "    \n",
    "    return -1\n",
    "\n",
    "arr_list = [2,5,7,9,11,34,70]\n",
    "x = 11\n",
    " \n",
    "result = binary_search(arr_list, 0, len(arr_list)-1, x)\n",
    " \n",
    "if result != -1:\n",
    "    print(f\"Element {x} is present at index\", str(result))\n",
    "else:\n",
    "    print(f\"Element {x} is not present in array\")"
   ]
  }
 ],
 "metadata": {
  "kernelspec": {
   "display_name": "Python 3 (ipykernel)",
   "language": "python",
   "name": "python3"
  },
  "language_info": {
   "codemirror_mode": {
    "name": "ipython",
    "version": 3
   },
   "file_extension": ".py",
   "mimetype": "text/x-python",
   "name": "python",
   "nbconvert_exporter": "python",
   "pygments_lexer": "ipython3",
   "version": "3.10.6"
  }
 },
 "nbformat": 4,
 "nbformat_minor": 5
}
