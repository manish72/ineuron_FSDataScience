{
 "cells": [
  {
   "attachments": {},
   "cell_type": "markdown",
   "id": "19d4f3bd",
   "metadata": {
    "id": "19d4f3bd"
   },
   "source": [
    "##### 1. What exactly is a feature? Give an example to illustrate your point ?"
   ]
  },
  {
   "attachments": {},
   "cell_type": "markdown",
   "id": "797d1cdb",
   "metadata": {
    "id": "797d1cdb"
   },
   "source": [
    "**Ans:** In machine learning, a feature is a measurable property or characteristic of a phenomenon. Features are usually numeric, but structural features such as strings and graphs are used in syntactic pattern recognition. The concept of \"feature\" is related to that of explanatory variable used in statistical techniques such as linear regression.\n",
    "\n",
    "For example, in a dataset of customer orders, a feature could be the customer's age, the customer's gender, or the customer's zip code. Features are used by machine learning algorithms to learn about the data and to make predictions.\n",
    "\n",
    "Here is an example of how features are used in machine learning. Let's say we have a dataset of customer orders and we want to build a machine learning model that can predict whether a customer will churn (cancel their subscription). We could use the following features to train our model:\n",
    "\n",
    "- Customer age\n",
    "- Customer gender\n",
    "- Customer zip code\n",
    "- Customer number of orders\n",
    "- Customer average order value\n",
    "\n",
    "Once our model is trained, we can use it to predict whether a new customer is likely to churn. For example, if a new customer is 25 years old, female, lives in a high-income zip code, and has placed 10 orders with an average order value of $100, our model might predict that they are unlikely to churn.\n",
    "\n",
    "Features are an important part of machine learning. By choosing the right features, we can improve the accuracy of our machine learning models."
   ]
  },
  {
   "attachments": {},
   "cell_type": "markdown",
   "id": "941bc9d9",
   "metadata": {
    "id": "941bc9d9"
   },
   "source": [
    "##### 2. What are the various circumstances in which feature construction is required ?"
   ]
  },
  {
   "attachments": {},
   "cell_type": "markdown",
   "id": "08f0d0e7",
   "metadata": {
    "id": "08f0d0e7"
   },
   "source": [
    "**Ans:** Feature construction is the process of creating new features from existing features in a dataset. It is often used in machine learning to improve the accuracy of models. There are many different circumstances in which feature construction is required. Some of the most common circumstances include:\n",
    "\n",
    "- **When the original features are not informative enough.** This can happen if the original features are not relevant to the target variable, or if they are not precise enough. For example, if you are trying to predict whether a customer will churn, the original features might not be detailed enough to capture all of the factors that might influence a customer's decision to churn.\n",
    "- **When the original features are correlated.** This can happen if the original features are measuring the same thing, or if they are measuring two things that are closely related. For example, if you are trying to predict whether a customer will buy a product, the original features might include the customer's income and the customer's age. However, income and age are correlated, so including both features in the model might not improve the accuracy of the model.\n",
    "- **When the original features are missing.** This can happen if the data was not collected properly, or if some of the data was lost. For example, if you are trying to predict whether a customer will default on a loan, the original features might include the customer's income and the customer's credit score. However, if some of the data is missing, you might not be able to include these features in the model.\n",
    "\n",
    "Feature construction can be a complex process, but it can be a valuable tool for improving the accuracy of machine learning models.\n",
    "\n",
    "Here are some of the most common methods of feature construction:\n",
    "\n",
    "**Feature extraction:** This is the process of creating new features from existing features by using statistical methods. For example, you could use feature extraction to create a new feature that represents the average of two existing features.\n",
    "**Feature transformation:** This is the process of changing the values of existing features to make them more useful for machine learning algorithms. For example, you could use feature transformation to normalize the values of features so that they have a similar scale.\n",
    "**Feature selection:** This is the process of selecting a subset of existing features that are most useful for machine learning algorithms. For example, you could use feature selection to select the features that are most correlated with the target variable.\n",
    "\n",
    "The best method of feature construction for a particular problem will depend on the specific data and the machine learning algorithm that is being used. However, in general, feature construction can be a valuable tool for improving the accuracy of machine learning models."
   ]
  },
  {
   "attachments": {},
   "cell_type": "markdown",
   "id": "3a53a7ce",
   "metadata": {
    "id": "3a53a7ce"
   },
   "source": [
    "##### 3. Describe how nominal variables are encoded ?"
   ]
  },
  {
   "attachments": {},
   "cell_type": "markdown",
   "id": "0b3b1d24",
   "metadata": {
    "id": "0b3b1d24"
   },
   "source": [
    "**Ans:** Nominal variables are encoded by assigning each category a unique integer value. This allows machine learning algorithms to understand the relationships between the different categories. There are two common ways to encode nominal variables:\n",
    "\n",
    "**Label encoding:** This is the simplest method of encoding nominal variables. Each category is assigned a unique integer value, starting from 0. \n",
    "\n",
    "**One-hot encoding:** This is a more complex method of encoding nominal variables. For each category, a new binary variable is created. The binary variable is set to 1 if the category is present, and 0 if it is not present. \n",
    "\n",
    "The choice of which method to use depends on the machine learning algorithm that is being used. Some algorithms, such as decision trees, can handle nominal variables directly. Other algorithms, such as support vector machines, require the nominal variables to be encoded.\n",
    "\n",
    "Here are some of the benefits of encoding nominal variables:\n",
    "\n",
    "- It allows machine learning algorithms to understand the relationships between the different categories.\n",
    "- It can improve the accuracy of machine learning models.\n",
    "- It can make the data more understandable to humans.\n",
    "\n",
    "Here are some of the drawbacks of encoding nominal variables:\n",
    "- It can increase the size of the dataset.\n",
    "- It can introduce bias into the data.\n",
    "- It can make the data less understandable to humans.\n",
    "- In general, encoding nominal variables is a good practice that can improve the accuracy of machine learning models. However, it is important to weigh the benefits and drawbacks of encoding before making a decision."
   ]
  },
  {
   "attachments": {},
   "cell_type": "markdown",
   "id": "c4de4555",
   "metadata": {
    "id": "c4de4555"
   },
   "source": [
    "##### 4. Describe how numeric features are converted to categorical features ?"
   ]
  },
  {
   "attachments": {},
   "cell_type": "markdown",
   "id": "7a2ce760",
   "metadata": {
    "id": "7a2ce760"
   },
   "source": [
    "**Ans:** Numeric Features can be converted to Categorical Features using Binning. Discretization: It is the process of transforming continuous variables into categorical variables by creating a set of intervals, which are contiguous, that span over the range of the variable’s values. It is also known as “Binning”, where the bin is an analogous name for an interval.\n",
    "\n",
    "Benefits of this method are:\n",
    "1. Handles the Outliers in a better way.\n",
    "2. Improves the value spread.\n",
    "3. Minimize the effects of small observation errors.\n",
    "\n",
    " ables.\n",
    "\n",
    " \n",
    "Techniques to Encode Numerical Columns:\n",
    "\n",
    "(a) Equal width binning: It is also known as “Uniform Binning” since the width of all the intervals is the same. The algorithm divides the data into N intervals of equal size. The width of intervals is:\n",
    "\n",
    "   w=(max-min)/N\n",
    "\n",
    "Therefore, the interval boundaries are:[min+w], [min+2w], [min+3w],..., [min+(N-1)w] where, min and max are the minimum and maximum value from the data respectively. This technique does not changes the spread of the data but does handle the outliers.\n",
    "\n",
    "(b) Equal frequency binning: It is also known as “Quantile Binning”. The algorithm divides the data into N groups where each group contains approximately the same number of values.\n",
    "\n",
    "Consider, we want 10 bins, that is each interval contains 10% of the total observations. Here the width of the interval need not necessarily be equal.\n",
    "Handles outliers better than the previous method and makes the value spread approximately uniform(each interval contains almost the same number of values).\n",
    "\n",
    "(c) K-means binning: This technique uses the clustering algorithm namely ” K-Means Algorithm”. This technique is mostly used when our data is in the form of clusters.\n"
   ]
  },
  {
   "attachments": {},
   "cell_type": "markdown",
   "id": "d6109820",
   "metadata": {
    "id": "d6109820"
   },
   "source": [
    "##### 5. Describe the feature selection wrapper approach. State the advantages and disadvantages of this approach ?"
   ]
  },
  {
   "attachments": {},
   "cell_type": "markdown",
   "id": "72de65b0",
   "metadata": {
    "id": "72de65b0"
   },
   "source": [
    "**Ans:** Wrapper methods measure the “usefulness” of features based on the classifier performance. In contrast, the filter methods pick up the intrinsic properties of the features (i.e., the “relevance” of the features) measured via univariate statistics instead of cross-validation performance.\n",
    "\n",
    "The wrapper classification algorithms with joint dimensionality reduction and classification can also be used but these methods have high computation cost, lower discriminative power. Moreover, these methods depend on the efficient selection of classifiers for obtaining high accuracy.\n",
    "\n",
    "**Most commonly used techniques under wrapper methods are:**\n",
    "\n",
    "1.**Forward selection**: In forward selection, we start with a null model and then start fitting the model with each individual feature one at a time and select the feature with the minimum p-value. Now fit a model with two features by trying combinations of the earlier selected feature with all other remaining features. Again select the feature with the minimum p-value. Now fit a model with three features by trying combinations of two previously selected features with other remaining features. Repeat this process until we have a set of selected features with a p-value of individual features less than the significance level.\n",
    "\n",
    "2.**Backward elimination**: In backward elimination, we start with the full model (including all the independent variables) and then remove the insignificant feature with the highest p-value(> significance level). This process repeats again and again until we have the final set of significant features\n",
    "\n",
    "3.**Bi-directional elimination(Stepwise Selection):** It is similar to forward selection but the difference is while adding a new feature it also checks the significance of already added features and if it finds any of the already selected features insignificant then it simply removes that particular feature through backward elimination. Hence, It is a combination of forward selection and backward elimination.\n",
    "\n",
    "\n",
    "\"\\\"![0_V0GyOt3LoDVfY7y5.png](https://editor.analyticsvidhya.com/uploads/46072IMAGE2.gif)\\\"\"\n",
    "\n"
   ]
  },
  {
   "attachments": {},
   "cell_type": "markdown",
   "id": "51584401",
   "metadata": {
    "id": "51584401"
   },
   "source": [
    "##### 6. When is a feature considered irrelevant? What can be said to quantify it ?"
   ]
  },
  {
   "attachments": {},
   "cell_type": "markdown",
   "id": "a2a92af6",
   "metadata": {
    "id": "a2a92af6"
   },
   "source": [
    "**Ans:** Features are considered relevant if they are either strongly or weakly relevant, and are considered irrelevant otherwise. \n",
    "\n",
    "Irrelevant features can never contribute to prediction accuracy, by definition. Also to quantify it we need to first check the list of features, There are three types of feature selection:\n",
    "\n",
    "- **Wrapper methods** (forward, backward, and stepwise selection)\n",
    "- **Filter methods** (ANOVA, Pearson correlation, variance thresholding)\n",
    "- **Embedded methods** (Lasso, Ridge, Decision Tree).\n",
    "\n",
    "p-value greater than 0.05 means that the feature is insignificant."
   ]
  },
  {
   "attachments": {},
   "cell_type": "markdown",
   "id": "3d21fc3f",
   "metadata": {
    "id": "3d21fc3f"
   },
   "source": [
    "##### 7. When is a function considered redundant? What criteria are used to identify features that could be redundant ?"
   ]
  },
  {
   "attachments": {},
   "cell_type": "markdown",
   "id": "8d0ce42e",
   "metadata": {
    "id": "8d0ce42e"
   },
   "source": [
    "**Ans:** If two features `{X1, X2}` are highly correlated, then the two features become redundant features since they have same information in terms of correlation measure. In other words, the correlation measure provides statistical association between any given a pair of features. \n",
    "\n",
    "Minimum redundancy feature selection is an algorithm frequently used in a method to accurately identify characteristics of genes and phenotypes\n",
    "\n",
    "\"\\\"![0_V0GyOt3LoDVfY7y5.png](https://slideplayer.com/slide/4394644/14/images/3/Background+Relevance+between+features+Correlation+F-statistic.jpg)\\\"\"\n"
   ]
  },
  {
   "attachments": {},
   "cell_type": "markdown",
   "id": "7bd4a123",
   "metadata": {
    "id": "7bd4a123"
   },
   "source": [
    "##### 8. What are the various distance measurements used to determine feature similarity ?"
   ]
  },
  {
   "attachments": {},
   "cell_type": "markdown",
   "id": "ed81d5c4",
   "metadata": {
    "id": "ed81d5c4"
   },
   "source": [
    "**Ans:** Four of the most commonly used distance measures in machine learning are as follows: \n",
    "- Hamming Distance: Hamming distance calculates the distance between two binary vectors, also referred to as binary strings or bitstrings for short.\n",
    "\n",
    "- Euclidean Distance: Calculates the distance between two real-valued vectors.\n",
    "- Manhattan Distance: Also called the Taxicab distance or the City Block distance, calculates the distance between two real-valued vectors.\n",
    "\n",
    "- Minkowski Distance: Minkowski distance calculates the distance between two real-valued vectors. It is a generalization of the Euclidean and Manhattan distance measures and adds a parameter, called the “order” or “p“, that allows different distance measures to be calculated.\n",
    "\n"
   ]
  },
  {
   "attachments": {},
   "cell_type": "markdown",
   "id": "e4d6004e",
   "metadata": {
    "id": "e4d6004e"
   },
   "source": [
    "##### 9. State difference between Euclidean and Manhattan distances ?"
   ]
  },
  {
   "attachments": {},
   "cell_type": "markdown",
   "id": "a39944ba",
   "metadata": {
    "id": "a39944ba"
   },
   "source": [
    "**Ans:** Euclidean & Hamming distances are used to measure similarity or dissimilarity between two sequences. Euclidean distance is extensively applied in analysis of convolutional codes and Trellis codes.\n",
    "\n",
    "Euclidean distance is the shortest path between source and destination which is a straight line as shown in Figure 1.3. but Manhattan distance is sum of all the real distances between source(s) and destination(d) and each distance are always the straight lines\n",
    "\n",
    "\"\\\"![0_V0GyOt3LoDVfY7y5.png](https://encrypted-tbn0.gstatic.com/images?q=tbn:ANd9GcQfHj0UiFFvu4iz6l4sjinKw11BtBgjpAjiTw&usqp=CAU)\\\"\"\n"
   ]
  },
  {
   "attachments": {},
   "cell_type": "markdown",
   "id": "d8a5cfd2",
   "metadata": {
    "id": "d8a5cfd2"
   },
   "source": [
    "##### 10. Distinguish between feature transformation and feature selection ?"
   ]
  },
  {
   "attachments": {
    "image.png": {
     "image/png": "[encoded data removed]"
    }
   },
   "cell_type": "markdown",
   "id": "722dfcff",
   "metadata": {
    "id": "722dfcff"
   },
   "source": [
    "**Ans:** Feature transformation and feature selection are two important techniques used in machine learning to improve the performance of machine learning models.\n",
    "\n",
    "Feature transformation is the process of changing the values of features in a dataset in order to make them more useful for machine learning algorithms. This can be done by rescaling, normalizing, or converting features to different data types. Feature transformation can help to improve the accuracy of machine learning models by making the features more linearly separable and by reducing the impact of outliers.\n",
    "\n",
    "Feature selection is the process of selecting a subset of features from a dataset in order to improve the performance of machine learning models. This can be done by using statistical methods to rank features based on their importance or by using machine learning algorithms to select features that are most predictive of the target variable. Feature selection can help to improve the accuracy of machine learning models by reducing the number of features that the model has to learn, which can make the model more generalizable to new data.\n",
    "\n",
    "The main difference between feature transformation and feature selection is that feature transformation changes the values of features, while feature selection removes features from the dataset. Feature transformation can be used in conjunction with feature selection to improve the performance of machine learning models.\\\n",
    "\n",
    "![Differences](attachment:image.png)"
   ]
  },
  {
   "attachments": {},
   "cell_type": "markdown",
   "id": "9a0be4b3",
   "metadata": {},
   "source": []
  }
 ],
 "metadata": {
  "colab": {
   "collapsed_sections": [],
   "name": "ML_Assignment_08.ipynb",
   "provenance": []
  },
  "kernelspec": {
   "display_name": "Python 3 (ipykernel)",
   "language": "python",
   "name": "python3"
  },
  "language_info": {
   "codemirror_mode": {
    "name": "ipython",
    "version": 3
   },
   "file_extension": ".py",
   "mimetype": "text/x-python",
   "name": "python",
   "nbconvert_exporter": "python",
   "pygments_lexer": "ipython3",
   "version": "3.9.13"
  }
 },
 "nbformat": 4,
 "nbformat_minor": 5
}
