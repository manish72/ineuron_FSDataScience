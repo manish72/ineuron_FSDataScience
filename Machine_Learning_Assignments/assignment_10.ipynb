{
 "cells": [
  {
   "attachments": {},
   "cell_type": "markdown",
   "id": "111120c6",
   "metadata": {
    "id": "111120c6"
   },
   "source": [
    "##### 1.\tDefine the Bayesian interpretation of probability."
   ]
  },
  {
   "attachments": {},
   "cell_type": "markdown",
   "id": "96067912",
   "metadata": {
    "id": "96067912"
   },
   "source": [
    "**Ans:** Bayesian probability is the study of subjective probabilities or belief in an outcome, compared to the frequentist approach where probabilities are based purely on the past occurrence of the event. A Bayesian Network captures the joint probabilities of the events represented by the model.\n",
    "\n",
    "\"\\\"![0_V0GyOt3LoDVfY7y5.png](https://www.freecodecamp.org/news/content/images/2020/07/Screenshot-2020-07-19-at-22.58.48.png)\""
   ]
  },
  {
   "attachments": {},
   "cell_type": "markdown",
   "id": "4ae857d4",
   "metadata": {
    "id": "4ae857d4"
   },
   "source": [
    "##### 2.\tDefine probability of a union of two events with equation."
   ]
  },
  {
   "attachments": {},
   "cell_type": "markdown",
   "id": "271b4fe5",
   "metadata": {
    "id": "271b4fe5"
   },
   "source": [
    "**Ans:** The general probability addition rule for the union of two events states that **`P(A∪B)=P(A)+P(B)−P(A∩B)`**, where **`A∩B`** is the intersection of the two sets."
   ]
  },
  {
   "attachments": {},
   "cell_type": "markdown",
   "id": "c981ac1e",
   "metadata": {
    "id": "c981ac1e"
   },
   "source": [
    "##### 3.\tWhat is joint probability? What is its formula?"
   ]
  },
  {
   "attachments": {},
   "cell_type": "markdown",
   "id": "ee9e368a",
   "metadata": {
    "id": "ee9e368a"
   },
   "source": [
    "**Ans:** Probabilities are combined using multiplication, therefore the joint probability of independent events is calculated as the probability of event A multiplied by the probability of event B. This can be stated formally as follows: \n",
    "\n",
    "Joint Probability: **`P(A and B) = P(A)*P(B)`**"
   ]
  },
  {
   "attachments": {},
   "cell_type": "markdown",
   "id": "07ab2a64",
   "metadata": {
    "id": "07ab2a64"
   },
   "source": [
    "##### 4.\tWhat is chain rule of probability?"
   ]
  },
  {
   "attachments": {},
   "cell_type": "markdown",
   "id": "a76ade99",
   "metadata": {
    "id": "a76ade99"
   },
   "source": [
    "**Ans:** The chain rule of probability is a fundamental principle in probability theory that allows us to compute the joint probability of multiple random variables by decomposing it into a sequence of conditional probabilities. It is derived from the basic definition of conditional probability.\n",
    "\n",
    "The chain rule states that for a sequence of random variables X₁, X₂, ..., Xₙ, the joint probability distribution can be expressed as the product of conditional probabilities:\n",
    "\n",
    "P(X₁, X₂, ..., Xₙ) = P(X₁) × P(X₂|X₁) × P(X₃|X₁, X₂) × ... × P(Xₙ|X₁, X₂, ..., Xₙ₋₁)\n",
    "\n",
    "In other words, the probability of observing a particular combination of values for all the random variables can be calculated by multiplying the probability of the first variable, and the conditional probability of each subsequent variable given the values of the previous variables.\\\n",
    "\n",
    "\\\"![0_V0GyOt3LoDVfY7y5.png](https://encrypted-tbn0.gstatic.com/images?q=tbn:ANd9GcT0pXb3agkE7DnDyM2_YsoMtAmGPRg_iqWq6IKTc8PH44L_8JtsPDGSmqphdaXvEVwbdXg&usqp=CAU)\"\n",
    "\n"
   ]
  },
  {
   "attachments": {},
   "cell_type": "markdown",
   "id": "0be2162e",
   "metadata": {
    "id": "0be2162e"
   },
   "source": [
    "##### 5.\tWhat is conditional probability means? What is the formula of it?"
   ]
  },
  {
   "attachments": {},
   "cell_type": "markdown",
   "id": "75b5268a",
   "metadata": {
    "id": "75b5268a"
   },
   "source": [
    "**Ans:** Conditional probability is defined as the likelihood of an event or outcome occurring, based on the occurrence of a previous event or outcome. \n",
    "\n",
    "Conditional probability is calculated by multiplying the probability of the preceding event by the updated probability of the succeeding, or conditional, event.\n",
    "\n",
    "Let's take a real-life example. Probability of selling a TV on a given normal day may be only 30%. But if we consider that given day is Diwali, then there are much more chances of selling a TV. The conditional Probability of selling a TV on a day given that Day is Diwali might be 70%.\n",
    "\n",
    "\"\\\"![0_V0GyOt3LoDVfY7y5.png](https://media.geeksforgeeks.org/wp-content/uploads/20211215115830/venndiag2.jpg)\"\n"
   ]
  },
  {
   "attachments": {},
   "cell_type": "markdown",
   "id": "a96163dd",
   "metadata": {
    "id": "a96163dd"
   },
   "source": [
    "##### 6.\tWhat are continuous random variables?"
   ]
  },
  {
   "attachments": {},
   "cell_type": "markdown",
   "id": "1f7183c9",
   "metadata": {
    "id": "1f7183c9"
   },
   "source": [
    "**Ans:** A continuous random variable X takes all values in a given interval of numbers. ▪ The probability distribution of a continuous random variable is shown by a density curve. ▪ The probability that X is between an interval of numbers is the area under the density curve between the interval endpoints.\n",
    "\n",
    "\"\\\"![0_V0GyOt3LoDVfY7y5.png](https://miro.medium.com/max/1400/1*F-SGtrtRoFzduw9QHEV7Jg.png)\"\n"
   ]
  },
  {
   "attachments": {},
   "cell_type": "markdown",
   "id": "6b3b649e",
   "metadata": {
    "id": "6b3b649e"
   },
   "source": [
    "##### 7.\tWhat are Bernoulli distributions? What is the formula of it?"
   ]
  },
  {
   "attachments": {},
   "cell_type": "markdown",
   "id": "f59d2c66",
   "metadata": {
    "id": "f59d2c66"
   },
   "source": [
    "**Ans:** A Bernoulli distribution is a discrete probability distribution for a Bernoulli trial — a random experiment that has only two outcomes (usually called a `Succes` or a `Failure`).The expected value for a random variable, X.\n",
    "\n",
    "For a Bernoulli distribution is: `E[X] = p`.For example, if `p = 0.04`, then `E[X] = 0.4`\n",
    "\n",
    "\"\\\"![0_V0GyOt3LoDVfY7y5.png](https://i.stack.imgur.com/HOPN9.png)\"\n"
   ]
  },
  {
   "attachments": {},
   "cell_type": "markdown",
   "id": "54020cf8",
   "metadata": {
    "id": "54020cf8"
   },
   "source": [
    "##### 8.\tWhat is binomial distribution? What is the formula?"
   ]
  },
  {
   "attachments": {},
   "cell_type": "markdown",
   "id": "14b5a4e6",
   "metadata": {
    "id": "14b5a4e6"
   },
   "source": [
    "**Ans:** The binomial is a type of distribution that has two possible outcomes (the prefix “bi” means two, or twice).For example, a coin toss has only two possible outcomes: heads or tails and taking a test could have two possible outcomes: pass or fail. \n",
    "\n",
    "A Binomial Distribution shows either (S)uccess or (F)ailure.\n",
    "\n",
    "\"\\\"![0_V0GyOt3LoDVfY7y5.png](https://miro.medium.com/max/518/1*URLjU8geccnWQatuZQzC8Q.png)\"\n"
   ]
  },
  {
   "attachments": {},
   "cell_type": "markdown",
   "id": "9db681d1",
   "metadata": {
    "id": "9db681d1"
   },
   "source": [
    "##### 9.\tWhat is Poisson distribution? What is the formula?"
   ]
  },
  {
   "attachments": {},
   "cell_type": "markdown",
   "id": "05536168",
   "metadata": {
    "id": "05536168"
   },
   "source": [
    "**Ans:** A Poisson distribution is defined as a discrete frequency distribution that gives the probability of the number of independent events that occur in the fixed time.\n",
    "\n",
    "In statistics, a Poisson distribution is a probability distribution that is used to show how many times an event is likely to occur over a specified period. ... The Poisson distribution is a discrete function, meaning that the variable can only take specific values in a (potentially infinite) list.\n",
    "\n",
    "\n",
    "\"\\\"![0_V0GyOt3LoDVfY7y5.png](data:image/png;base64,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)\"\n"
   ]
  },
  {
   "attachments": {},
   "cell_type": "markdown",
   "id": "5b686929",
   "metadata": {
    "id": "5b686929"
   },
   "source": [
    "##### 10. Define covariance ?"
   ]
  },
  {
   "attachments": {},
   "cell_type": "markdown",
   "id": "5eafa674",
   "metadata": {
    "id": "5eafa674"
   },
   "source": [
    "**Ans:** Covariance is a measure of how much two random variables vary together. It's similar to variance, but where variance tells you how a single variable varies, co variance tells you how two variables vary together.\n",
    "\n",
    "\"\\\"![0_V0GyOt3LoDVfY7y5.png](https://cdn.educba.com/academy/wp-content/uploads/2019/05/Covariance-Formula.jpg)\"\n"
   ]
  },
  {
   "attachments": {},
   "cell_type": "markdown",
   "id": "3e636eaf",
   "metadata": {
    "id": "3e636eaf"
   },
   "source": [
    "##### 11. Define correlation ?"
   ]
  },
  {
   "attachments": {},
   "cell_type": "markdown",
   "id": "07b07384",
   "metadata": {
    "id": "07b07384"
   },
   "source": [
    "**Ans:** Correlation explains how one or more variables are related to each other. These variables can be input data features which have been used to forecast our target variable. It's a bi-variate analysis measure which describes the association between different variables.\n",
    "\n",
    "\"\\\"![0_V0GyOt3LoDVfY7y5.png](https://cdn.corporatefinanceinstitute.com/assets/correlation1.png)\""
   ]
  },
  {
   "attachments": {},
   "cell_type": "markdown",
   "id": "64feb7de",
   "metadata": {
    "id": "64feb7de"
   },
   "source": [
    "##### 12. Define sampling with replacement. Give example."
   ]
  },
  {
   "attachments": {},
   "cell_type": "markdown",
   "id": "3a910c7c",
   "metadata": {
    "id": "3a910c7c"
   },
   "source": [
    "**Ans:** If you sample with replacement, you would choose one person's name, put that person's name back in the hat, and then choose another name. The possibilities for your two-name sample are: John, John. John, Jack."
   ]
  },
  {
   "attachments": {},
   "cell_type": "markdown",
   "id": "bcec9c51",
   "metadata": {
    "id": "bcec9c51"
   },
   "source": [
    "##### 13. What is sampling without replacement? Give example."
   ]
  },
  {
   "attachments": {},
   "cell_type": "markdown",
   "id": "6746764b",
   "metadata": {
    "id": "6746764b"
   },
   "source": [
    "**Ans:** Sampling without replacement is a sampling method where each selected item is removed from the population, and subsequent selections are made from the remaining items. In other words, once an item is selected, it is not available for selection again.\n",
    "\n",
    "An example of sampling without replacement can be selecting a committee from a group of individuals. Suppose there are 10 people, and you want to form a committee of 3 members. If you use sampling without replacement, the process would be as follows:\n",
    "\n",
    "- Initially, all 10 individuals are available for selection.\n",
    "- You randomly select one person from the group to be the first member of the committee.\n",
    "- After selecting the first member, you now have 9 remaining individuals to choose from.\n",
    "- Next, you randomly select another person from the remaining 9 individuals to be the second member of the committee.\n",
    "- Once the second member is selected, there are 8 individuals left for the final selection.\n",
    "- Finally, you randomly choose the last person from the remaining 8 individuals to complete the committee.\n",
    "\n",
    "In this example, each selection reduces the available pool of individuals for subsequent selections. Sampling without replacement ensures that each selected member is unique within the committee, and no individual can be chosen more than once.\n",
    "\n",
    "Sampling without replacement is commonly used in various scenarios, such as surveys, experimental design, and random sampling techniques, where it is necessary to avoid duplication and ensure that each selected item is distinct from the others."
   ]
  },
  {
   "attachments": {},
   "cell_type": "markdown",
   "id": "5830b034",
   "metadata": {
    "id": "5830b034"
   },
   "source": [
    "##### 14.What is hypothesis? Give example."
   ]
  },
  {
   "attachments": {},
   "cell_type": "markdown",
   "id": "c8ba0028",
   "metadata": {
    "id": "c8ba0028"
   },
   "source": [
    "**Ans:** A hypothesis is a proposed explanation for a phenomenon. For a hypothesis to be a scientific hypothesis, the scientific method requires that one can test it. Scientists generally base scientific hypotheses on previous observations that cannot satisfactorily be explained with the available scientific theories. Even though the words \"hypothesis\" and \"theory\" are often used synonymously, a scientific hypothesis is not the same as a scientific theory. A working hypothesis is a provisionally accepted hypothesis proposed for further research, in a process beginning with an educated guess or thought.\n",
    "\n",
    "Some examples of hypotheses:\n",
    "\n",
    "- The hypothesis that smoking causes cancer was first proposed in the early 1900s.\n",
    "- The hypothesis that the Earth is round was first proposed by ancient Greek philosophers.\n",
    "- The hypothesis that the universe is expanding was first proposed by Edwin Hubble in the 1920s.\n",
    "- Hypotheses are important in science because they provide a way to test our understanding of the world. By testing hypotheses, we can learn more about how the world works and improve our scientific theories.\n",
    "\n",
    "Some of the steps involved in testing a hypothesis:\n",
    "\n",
    "- **State the hypothesis:** The first step is to clearly state the hypothesis. This should be done in a way that is specific, testable, and falsifiable.\n",
    "- **Gather data:** The next step is to gather data that can be used to test the hypothesis. This data can be collected through experiments, observations, or surveys.\n",
    "- **Analyze the data:** Once the data has been gathered, it needs to be analyzed to see if it supports or refutes the hypothesis.\n",
    "- **Draw a conclusion:** Based on the analysis of the data, a conclusion can be drawn about whether or not the hypothesis is supported. If the hypothesis is not supported, then it may need to be revised or discarded.\n",
    "Testing hypotheses is an important part of the scientific method. It allows us to learn more about the world and improve our understanding of how it works."
   ]
  },
  {
   "attachments": {},
   "cell_type": "markdown",
   "id": "7c8bd4f7",
   "metadata": {},
   "source": []
  }
 ],
 "metadata": {
  "colab": {
   "collapsed_sections": [],
   "name": "ML_Assignment_10.ipynb",
   "provenance": []
  },
  "kernelspec": {
   "display_name": "Python 3 (ipykernel)",
   "language": "python",
   "name": "python3"
  },
  "language_info": {
   "codemirror_mode": {
    "name": "ipython",
    "version": 3
   },
   "file_extension": ".py",
   "mimetype": "text/x-python",
   "name": "python",
   "nbconvert_exporter": "python",
   "pygments_lexer": "ipython3",
   "version": "3.9.13"
  }
 },
 "nbformat": 4,
 "nbformat_minor": 5
}
