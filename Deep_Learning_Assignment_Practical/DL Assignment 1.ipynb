{
  "cells": [
    {
      "cell_type": "markdown",
      "id": "8b7f1fab-9a0d-4e7f-894a-76e99ca08edc",
      "metadata": {
        "id": "8b7f1fab-9a0d-4e7f-894a-76e99ca08edc"
      },
      "source": [
        "**Objective: -** Predict Next Sequence\n",
        "To start with deep learning, the very basic project that you can build is to\n",
        "predict the next digit in a sequence.\n",
        "\n",
        "**Dataset: -** Create a sequence like a list of odd numbers and then build a model\n",
        "and train it to predict the next digit in the sequence.\n",
        "\n",
        "**Task: -** A simple neural network with 2 layers would be sufficient to build the\n",
        "model."
      ]
    },
    {
      "cell_type": "code",
      "execution_count": null,
      "id": "9e0bb8ce-96a6-42ff-8c8d-30b23e93bb3f",
      "metadata": {
        "tags": [],
        "id": "9e0bb8ce-96a6-42ff-8c8d-30b23e93bb3f"
      },
      "outputs": [],
      "source": [
        "import numpy as np\n",
        "from tensorflow import keras\n",
        "from tensorflow.keras.models import Sequential\n",
        "from tensorflow.keras.layers import Dense"
      ]
    },
    {
      "cell_type": "code",
      "execution_count": null,
      "id": "634c9ab2-e0ba-405b-af7f-958cb03564c8",
      "metadata": {
        "tags": [],
        "id": "634c9ab2-e0ba-405b-af7f-958cb03564c8"
      },
      "outputs": [],
      "source": [
        "# Create a sequence of odd numbers\n",
        "data = np.array([1, 3, 5, 7, 9, 11, 13, 15, 17, 19])"
      ]
    },
    {
      "cell_type": "code",
      "execution_count": null,
      "id": "6c8849f7-d5dd-4a31-8a3a-241de8d40ae6",
      "metadata": {
        "tags": [],
        "id": "6c8849f7-d5dd-4a31-8a3a-241de8d40ae6"
      },
      "outputs": [],
      "source": [
        "# Split the data into input (X) and output (y) variables\n",
        "X = data[:-1]\n",
        "y = data[1:]"
      ]
    },
    {
      "cell_type": "code",
      "execution_count": null,
      "id": "e5419b7d-304b-4d10-91e5-ef6d4eba2dcf",
      "metadata": {
        "tags": [],
        "id": "e5419b7d-304b-4d10-91e5-ef6d4eba2dcf"
      },
      "outputs": [],
      "source": [
        "# Define the model\n",
        "model = Sequential()\n",
        "model.add(Dense(2, input_dim=1))\n",
        "model.add(Dense(1))\n",
        "model.compile(loss='mean_squared_error', optimizer='adam')"
      ]
    },
    {
      "cell_type": "code",
      "execution_count": null,
      "id": "07120b71-70a1-4d42-8529-76bebb71cd24",
      "metadata": {
        "tags": [],
        "colab": {
          "base_uri": "https://localhost:8080/"
        },
        "id": "07120b71-70a1-4d42-8529-76bebb71cd24",
        "outputId": "0955a1e0-9cc6-4959-a467-99cbfa1ba572"
      },
      "outputs": [
        {
          "output_type": "execute_result",
          "data": {
            "text/plain": [
              "<keras.src.callbacks.History at 0x79036a590640>"
            ]
          },
          "metadata": {},
          "execution_count": 5
        }
      ],
      "source": [
        "# Fit the model to the data\n",
        "model.fit(X, y, epochs=2000, verbose=0)"
      ]
    },
    {
      "cell_type": "code",
      "execution_count": 9,
      "id": "8ad04607-800a-46b3-b4bd-02fd2242f73c",
      "metadata": {
        "tags": [],
        "colab": {
          "base_uri": "https://localhost:8080/"
        },
        "id": "8ad04607-800a-46b3-b4bd-02fd2242f73c",
        "outputId": "95fcbf56-5c5b-4979-9dce-8e75df480258"
      },
      "outputs": [
        {
          "output_type": "stream",
          "name": "stdout",
          "text": [
            "1/1 [==============================] - 0s 17ms/step\n",
            "Predicted: 21.580753\n"
          ]
        }
      ],
      "source": [
        "# Make a prediction for the next digit in the sequence\n",
        "x_input = np.array([19])\n",
        "x_input = x_input.reshape((1, 1))\n",
        "yhat = model.predict(x_input)\n",
        "print('Predicted:', yhat[0][0])"
      ]
    }
  ],
  "metadata": {
    "kernelspec": {
      "display_name": "Python 3",
      "name": "python3"
    },
    "language_info": {
      "codemirror_mode": {
        "name": "ipython",
        "version": 3
      },
      "file_extension": ".py",
      "mimetype": "text/x-python",
      "name": "python",
      "nbconvert_exporter": "python",
      "pygments_lexer": "ipython3",
      "version": "3.11.1"
    },
    "colab": {
      "provenance": [],
      "gpuType": "T4"
    },
    "accelerator": "GPU"
  },
  "nbformat": 4,
  "nbformat_minor": 5
}