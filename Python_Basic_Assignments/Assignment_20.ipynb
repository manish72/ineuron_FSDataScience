{
 "cells": [
  {
   "cell_type": "markdown",
   "id": "445eea20-7e71-43eb-890b-69f7259381a2",
   "metadata": {},
   "source": [
    "### 1. Set the variable test1 to the string 'This is a test of the emergency text system,' and save test1 to a file named test.txt."
   ]
  },
  {
   "cell_type": "code",
   "execution_count": null,
   "id": "515eaebe",
   "metadata": {},
   "outputs": [],
   "source": [
    "test1 = 'This is a test of the emergency text system,'\n",
    "\n",
    "with open('test.txt','w') as f:\n",
    "    f.write(test1)\n",
    "    print(\"test.txt file is created and content is added\")"
   ]
  },
  {
   "cell_type": "markdown",
   "id": "a7e975f3-23d1-41df-ac29-8ae0476fd2ee",
   "metadata": {},
   "source": [
    "### 2. Read the contents of the file test.txt into the variable test2. Is there a difference between test 1 and test 2?"
   ]
  },
  {
   "cell_type": "code",
   "execution_count": null,
   "id": "10ec0433-8097-43bf-a88f-a5b04839565f",
   "metadata": {},
   "outputs": [],
   "source": [
    "with open('test.txt','r') as f:\n",
    "    test2 = f.read()\n",
    "    print(test2)\n",
    "# Ans: content is same but their individual address are different"
   ]
  },
  {
   "cell_type": "markdown",
   "id": "111d7a69-36cf-4549-b61d-8044b1c706ea",
   "metadata": {},
   "source": [
    "### 3. Create a CSV file called books.csv by using these lines:"
   ]
  },
  {
   "cell_type": "code",
   "execution_count": null,
   "id": "b5e867bc-eddc-4c72-a975-fd155cff22a5",
   "metadata": {},
   "outputs": [],
   "source": [
    "import csv\n",
    "\n",
    "nested_list = [['title','author','year'],['The Weirdstone of Brisingamen','Alan Garner',1960],['Perdido Street Station','China Miéville',2000],['Thud!','Terry Pratchett',2005],['The Spellman Files','Lisa Lutz',2007],['Small Gods','Terry Pratchett',1992]]\n",
    "\n",
    "with open('books.csv','w') as csvfile:\n",
    "    csvwriter = csv.writer(csvfile) \n",
    "    csvwriter.writerows(nested_list)"
   ]
  },
  {
   "cell_type": "markdown",
   "id": "d983a9b4-1631-4ece-8b26-ca7537059e3b",
   "metadata": {},
   "source": [
    "### 4. Use the sqlite3 module to create a SQLite database called books.db, and a table called books with these fields: title (text), author (text), and year (integer)."
   ]
  },
  {
   "cell_type": "code",
   "execution_count": null,
   "id": "b5997f64-6235-40b2-b454-9c91e290dcca",
   "metadata": {},
   "outputs": [],
   "source": [
    "import sqlite3\n",
    "\n",
    "con = sqlite3.connect(\"books.db\")\n",
    "cur = con.cursor()\n",
    "\n",
    "cur.execute(\"CREATE TABLE books(title VARCHAR(50), author VARCHAR(10), year INTEGER)\")\n",
    "con.commit()\n",
    "con.close()"
   ]
  },
  {
   "cell_type": "markdown",
   "id": "895400b7-c5dc-486e-b092-b52bdd8f2b69",
   "metadata": {},
   "source": [
    "### 5. Read books.csv and insert its data into the book table."
   ]
  },
  {
   "cell_type": "code",
   "execution_count": null,
   "id": "c9e1e551-b514-4982-83b5-f9465a72e8fe",
   "metadata": {},
   "outputs": [],
   "source": [
    "import csv\n",
    "import sqlite3\n",
    "\n",
    "con = sqlite3.connect(\"books.db\")\n",
    "cur = con.cursor()\n",
    "\n",
    "with open('books.csv','r') as file:\n",
    "    csvreader = csv.reader(file, delimiter=',')\n",
    "    next(csvreader)\n",
    "    for i in csvreader:\n",
    "        row = \"INSERT INTO books VALUES ('%s','%s',%d)\" %(i[0],i[1],int(i[2]))\n",
    "        cur.execute(row)\n",
    "        con.commit()\n",
    "con.close()"
   ]
  },
  {
   "cell_type": "markdown",
   "id": "30bcd625-d014-45ef-a691-0750b4d9f93d",
   "metadata": {},
   "source": [
    "### 6. Select and print the title column from the book table in alphabetical order."
   ]
  },
  {
   "cell_type": "code",
   "execution_count": null,
   "id": "abd4fcd3-0308-4ff3-a35c-32a2b76e1d0b",
   "metadata": {},
   "outputs": [],
   "source": [
    "import csv\n",
    "import sqlite3\n",
    "\n",
    "con = sqlite3.connect(\"books.db\")\n",
    "cur = con.cursor()\n",
    "\n",
    "cur.execute('SELECT title from books')\n",
    "title_list = sorted([i[0] for i in cur])\n",
    "\n",
    "for i in title_list:\n",
    "    print(i)"
   ]
  },
  {
   "cell_type": "markdown",
   "id": "f55cf8a0-79a2-4507-be8f-99ba0d1e9228",
   "metadata": {},
   "source": [
    "### 7. From the book table, select and print all columns in the order of publication."
   ]
  },
  {
   "cell_type": "code",
   "execution_count": null,
   "id": "f41477fc-ab2a-4c54-888b-5eb7a98e8926",
   "metadata": {},
   "outputs": [],
   "source": [
    "import csv\n",
    "import sqlite3\n",
    "\n",
    "con = sqlite3.connect(\"books.db\")\n",
    "cur = con.cursor()\n",
    "\n",
    "cur.execute('SELECT * from books')\n",
    "\n",
    "for i in cur:\n",
    "    print(i)"
   ]
  },
  {
   "cell_type": "markdown",
   "id": "cc948c2c-c4bf-4d7a-ae76-caa56726e932",
   "metadata": {},
   "source": [
    "### 8. Use the sqlalchemy module to connect to the sqlite3 database books.db that you just made in exercise 6."
   ]
  },
  {
   "cell_type": "code",
   "execution_count": null,
   "id": "3af48098-1668-437a-9f26-11c94ec8e268",
   "metadata": {},
   "outputs": [],
   "source": [
    "import sqlalchemy as db\n",
    "\n",
    "engine = db.create_engine(\"sqlite:///books.db\")\n",
    "rows = engine.execute('select * from books')\n",
    "for i in rows:\n",
    "    print(i)"
   ]
  },
  {
   "cell_type": "markdown",
   "id": "8659c2b5-1a49-48bc-8013-a7cead62d9f3",
   "metadata": {},
   "source": [
    "### 9. Install the Redis server and the Python redis library (pip install redis) on your computer. Create a Redis hash called test with the fields count (1) and name ('Fester Bestertester'). Print all the fields for test."
   ]
  },
  {
   "cell_type": "code",
   "execution_count": null,
   "id": "66743dee-7054-4c13-9abf-771285276431",
   "metadata": {},
   "outputs": [],
   "source": [
    "pip install redis"
   ]
  },
  {
   "cell_type": "code",
   "execution_count": null,
   "id": "6d4adf02-e4d4-4a7a-988a-57ed834b91da",
   "metadata": {},
   "outputs": [],
   "source": [
    "import redis\n",
    "\n",
    "r = redis.Redis(host='localhost', port=6379, db=0)\n",
    "r.delete('test')\n",
    "\n",
    "result = r.hmset(\"test\", {\n",
    "  \"count\": 1,\n",
    "  \"name\": 'Fester Bestertester'\n",
    "})\n",
    "r.hgetall(\"test\")"
   ]
  },
  {
   "cell_type": "markdown",
   "id": "b19a5204-bec2-4cdf-b5a1-b26f50f8c90a",
   "metadata": {},
   "source": [
    "### 10. Increment the count field of test and print it."
   ]
  },
  {
   "cell_type": "code",
   "execution_count": null,
   "id": "1faf7ac2-4cd9-4880-a406-56594bc95f23",
   "metadata": {},
   "outputs": [],
   "source": [
    "r.hincrby(\"test\",\"count\",1)"
   ]
  },
  {
   "cell_type": "code",
   "execution_count": null,
   "id": "0ca3af8c-69c8-44e4-b089-2dc2797e2a90",
   "metadata": {},
   "outputs": [],
   "source": []
  }
 ],
 "metadata": {
  "kernelspec": {
   "display_name": "Python 3 (ipykernel)",
   "language": "python",
   "name": "python3"
  },
  "language_info": {
   "codemirror_mode": {
    "name": "ipython",
    "version": 3
   },
   "file_extension": ".py",
   "mimetype": "text/x-python",
   "name": "python",
   "nbconvert_exporter": "python",
   "pygments_lexer": "ipython3",
   "version": "3.9.13"
  }
 },
 "nbformat": 4,
 "nbformat_minor": 5
}
