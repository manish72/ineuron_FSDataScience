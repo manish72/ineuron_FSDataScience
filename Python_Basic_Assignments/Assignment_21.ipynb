{
 "cells": [
  {
   "cell_type": "markdown",
   "id": "be5ac2f0-fa18-4f2e-bb84-91c0fb2ec18d",
   "metadata": {},
   "source": [
    "### 1. Add the current date to the text file today.txt as a string."
   ]
  },
  {
   "cell_type": "code",
   "execution_count": 10,
   "id": "90663077-a014-4600-8133-f33fe350049a",
   "metadata": {},
   "outputs": [],
   "source": [
    "import datetime\n",
    "from datetime import date\n",
    "with open('today.txt','w') as file:    \n",
    "    file.write(str(date.today().isoformat()))"
   ]
  },
  {
   "cell_type": "markdown",
   "id": "03bdd258-41bd-4484-b3a4-b5bb9f560a35",
   "metadata": {},
   "source": [
    "### 2. Read the text file today.txt into the string today_string"
   ]
  },
  {
   "cell_type": "code",
   "execution_count": 11,
   "id": "81fde0ff-4acb-4683-a554-56e9c8337a2c",
   "metadata": {},
   "outputs": [
    {
     "name": "stdout",
     "output_type": "stream",
     "text": [
      "2023-02-22\n"
     ]
    }
   ],
   "source": [
    "with open('today.txt','r') as file:\n",
    "    today_string = file.read()\n",
    "    print(today_string)"
   ]
  },
  {
   "cell_type": "markdown",
   "id": "2d07d3d7-3de3-4c7a-9b14-d8cb0c7983fc",
   "metadata": {},
   "source": [
    "### 3. Parse the date from today_string."
   ]
  },
  {
   "cell_type": "code",
   "execution_count": 13,
   "id": "a7dcad49-21a9-465f-b0ea-55b11714e3fb",
   "metadata": {},
   "outputs": [
    {
     "data": {
      "text/plain": [
       "datetime.datetime(2023, 2, 22, 0, 0)"
      ]
     },
     "execution_count": 13,
     "metadata": {},
     "output_type": "execute_result"
    }
   ],
   "source": [
    "from datetime import datetime\n",
    "\n",
    "format = '%Y-%m-%d'\n",
    "datetime.strptime(today_string,format)"
   ]
  },
  {
   "cell_type": "markdown",
   "id": "19aab79b-c714-4e41-9772-0988a9830f83",
   "metadata": {},
   "source": [
    "### 4. List the files in your current directory"
   ]
  },
  {
   "cell_type": "code",
   "execution_count": 14,
   "id": "dede3dc1-cf83-4d0c-a303-040ec962e769",
   "metadata": {},
   "outputs": [
    {
     "data": {
      "text/plain": [
       "['Assignment_18.ipynb',\n",
       " 'test.txt',\n",
       " 'zoo.py',\n",
       " 'Assignment_21.ipynb',\n",
       " 'Assignment_20.ipynb',\n",
       " 'Assignment_23.ipynb',\n",
       " 'Assignment22.ipynb',\n",
       " 'Assignment_19.ipynb',\n",
       " 'Assignment_16.ipynb',\n",
       " 'Assignment15.ipynb',\n",
       " '__pycache__',\n",
       " 'books.db',\n",
       " 'Assignment_17.ipynb',\n",
       " '.ipynb_checkpoints',\n",
       " 'today.txt',\n",
       " 'books.csv']"
      ]
     },
     "execution_count": 14,
     "metadata": {},
     "output_type": "execute_result"
    }
   ],
   "source": [
    "import os\n",
    "\n",
    "os.listdir()"
   ]
  },
  {
   "cell_type": "markdown",
   "id": "b4683131-fd4f-4bbb-adab-b8e0b338bbd8",
   "metadata": {},
   "source": [
    "### 5. Create a list of all of the files in your parent directory (minimum five files should be available)."
   ]
  },
  {
   "cell_type": "code",
   "execution_count": 16,
   "id": "88a2fa19-3c2f-4263-8471-5fb8ad21de49",
   "metadata": {},
   "outputs": [],
   "source": [
    "for i in range(1,6):\n",
    "    with open('test'+str(i)+'.txt','w') as f:\n",
    "        pass"
   ]
  },
  {
   "cell_type": "markdown",
   "id": "401b7126-b53a-4245-8626-bbe3cec7dddd",
   "metadata": {},
   "source": [
    "### 6. Use multiprocessing to create three separate processes. Make each one wait a random number of seconds between one and five, print the current time, and then exit."
   ]
  },
  {
   "cell_type": "code",
   "execution_count": 31,
   "id": "d0d66a64-207c-4113-83dd-3359fbd9d38e",
   "metadata": {},
   "outputs": [
    {
     "name": "stdout",
     "output_type": "stream",
     "text": [
      "Waited 5 seconds, now time is 2023-02-22 11:29:43.352316\n",
      "Waited 1 seconds, now time is 2023-02-22 11:29:43.357766\n",
      "Waited 2 seconds, now time is 2023-02-22 11:29:43.365020\n"
     ]
    }
   ],
   "source": [
    "import multiprocessing\n",
    "from datetime import datetime\n",
    "import random \n",
    "\n",
    "def test1(seconds):\n",
    "    print(f\"Waited {seconds} seconds, now time is {datetime.utcnow()}\")\n",
    "    \n",
    "def test2(seconds):\n",
    "    print(f\"Waited {seconds} seconds, now time is {datetime.utcnow()}\")\n",
    "    \n",
    "def test3(seconds):\n",
    "    print(f\"Waited {seconds} seconds, now time is {datetime.utcnow()}\")\n",
    "    \n",
    "if __name__ == '__main__': \n",
    "        seconds = random.randint(1,5)\n",
    "        proc = multiprocessing.Process(target=test1, args=(seconds,))\n",
    "        proc.start()\n",
    "        \n",
    "        seconds = random.randint(1,5)\n",
    "        proc = multiprocessing.Process(target=test2, args=(seconds,))\n",
    "        proc.start()\n",
    "        \n",
    "        seconds = random.randint(1,5)\n",
    "        proc = multiprocessing.Process(target=test2, args=(seconds,))\n",
    "        proc.start()"
   ]
  },
  {
   "cell_type": "markdown",
   "id": "9e332c1f-8e38-4376-8890-0ca87050e1c7",
   "metadata": {},
   "source": [
    "### 7. Create a date object of your day of birth."
   ]
  },
  {
   "cell_type": "code",
   "execution_count": 44,
   "id": "5cd7611a-331d-4c6f-b615-9399f594abad",
   "metadata": {},
   "outputs": [],
   "source": [
    "from datetime import datetime\n",
    "\n",
    "birthdate = datetime(1999,7,30)"
   ]
  },
  {
   "cell_type": "code",
   "execution_count": 45,
   "id": "291b06f2-d396-4845-ac5a-0a8d48cf941b",
   "metadata": {},
   "outputs": [
    {
     "data": {
      "text/plain": [
       "datetime.datetime(1999, 7, 30, 0, 0)"
      ]
     },
     "execution_count": 45,
     "metadata": {},
     "output_type": "execute_result"
    }
   ],
   "source": [
    "birthdate"
   ]
  },
  {
   "cell_type": "markdown",
   "id": "019416c4-9591-4404-ad92-a0688a82873a",
   "metadata": {},
   "source": [
    "### 8. What day of the week was your day of birth?"
   ]
  },
  {
   "cell_type": "code",
   "execution_count": 47,
   "id": "392d0e46-cd8b-400b-8340-52a244cc9c66",
   "metadata": {},
   "outputs": [
    {
     "data": {
      "text/plain": [
       "4"
      ]
     },
     "execution_count": 47,
     "metadata": {},
     "output_type": "execute_result"
    }
   ],
   "source": [
    "birthdate.weekday()"
   ]
  },
  {
   "cell_type": "markdown",
   "id": "50e524a7-0499-49fe-8d6f-e51c2f41933a",
   "metadata": {},
   "source": [
    "### 9. When will you be (or when were you) 10,000 days old?"
   ]
  },
  {
   "cell_type": "code",
   "execution_count": 48,
   "id": "5dccb176-f78a-4591-a1de-2a79bb5ae338",
   "metadata": {},
   "outputs": [
    {
     "name": "stdout",
     "output_type": "stream",
     "text": [
      "2026-12-15 00:00:00\n"
     ]
    }
   ],
   "source": [
    "from datetime import timedelta\n",
    "\n",
    "future_date = birthdate + timedelta(days=10000)\n",
    "print(future_date)"
   ]
  }
 ],
 "metadata": {
  "kernelspec": {
   "display_name": "Python 3 (ipykernel)",
   "language": "python",
   "name": "python3"
  },
  "language_info": {
   "codemirror_mode": {
    "name": "ipython",
    "version": 3
   },
   "file_extension": ".py",
   "mimetype": "text/x-python",
   "name": "python",
   "nbconvert_exporter": "python",
   "pygments_lexer": "ipython3",
   "version": "3.10.6"
  }
 },
 "nbformat": 4,
 "nbformat_minor": 5
}
