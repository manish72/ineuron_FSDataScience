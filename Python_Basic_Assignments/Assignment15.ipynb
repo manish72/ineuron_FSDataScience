{
 "cells": [
  {
   "cell_type": "markdown",
   "id": "8306b524-453a-4ce1-b558-b38211e455fa",
   "metadata": {},
   "source": [
    "### 1. How many seconds are in an hour? Use the interactive interpreter as a calculator and multiply the number of seconds in a minute (60) by the number of minutes in an hour (also 60)."
   ]
  },
  {
   "cell_type": "code",
   "execution_count": 1,
   "id": "90f00922-b08d-4689-8b5c-d97f63384cf3",
   "metadata": {},
   "outputs": [
    {
     "data": {
      "text/plain": [
       "3600"
      ]
     },
     "execution_count": 1,
     "metadata": {},
     "output_type": "execute_result"
    }
   ],
   "source": [
    "60 * 60"
   ]
  },
  {
   "cell_type": "markdown",
   "id": "5cbc7c76-189f-4ee7-b171-7ce5a9373ba5",
   "metadata": {},
   "source": [
    "### 2. Assign the result from the previous task (seconds in an hour) to a variable called seconds_per_hour."
   ]
  },
  {
   "cell_type": "code",
   "execution_count": 2,
   "id": "f193bbe2-5bcb-40f7-b372-c15b0ad38666",
   "metadata": {},
   "outputs": [],
   "source": [
    "seconds_per_hour = 60 * 60"
   ]
  },
  {
   "cell_type": "markdown",
   "id": "fb64f871-0cfc-4225-a43f-2a965dcfb505",
   "metadata": {},
   "source": [
    "### 3. How many seconds do you think there are in a day? Make use of the variables seconds per hour and minutes per hour."
   ]
  },
  {
   "cell_type": "code",
   "execution_count": 3,
   "id": "30c11107-679b-448a-992a-408b5a2cc093",
   "metadata": {},
   "outputs": [
    {
     "data": {
      "text/plain": [
       "86400"
      ]
     },
     "execution_count": 3,
     "metadata": {},
     "output_type": "execute_result"
    }
   ],
   "source": [
    "seconds_per_hour * 24"
   ]
  },
  {
   "cell_type": "markdown",
   "id": "e6a1162e-7552-45f1-9168-162d1dd18cad",
   "metadata": {},
   "source": [
    "### 4. Calculate seconds per day again, but this time save the result in a variable called seconds_per_day"
   ]
  },
  {
   "cell_type": "code",
   "execution_count": 4,
   "id": "502ad3ed-8fb8-4f44-9768-8b5f9254b8a5",
   "metadata": {},
   "outputs": [],
   "source": [
    "seconds_per_day = seconds_per_hour * 24"
   ]
  },
  {
   "cell_type": "markdown",
   "id": "d1aa4bb6-206c-44c2-83b9-f421d871a1d4",
   "metadata": {},
   "source": [
    "### 5. Divide seconds_per_day by seconds_per_hour. Use floating-point (/) division."
   ]
  },
  {
   "cell_type": "code",
   "execution_count": 5,
   "id": "25fd6f04-7e3c-4f39-a67a-f49e9aa0ea4f",
   "metadata": {},
   "outputs": [
    {
     "data": {
      "text/plain": [
       "24.0"
      ]
     },
     "execution_count": 5,
     "metadata": {},
     "output_type": "execute_result"
    }
   ],
   "source": [
    "seconds_per_day / seconds_per_hour"
   ]
  },
  {
   "cell_type": "markdown",
   "id": "40523e35-daf4-49cc-9a0b-a23cff568c98",
   "metadata": {},
   "source": [
    "### 6. Divide seconds_per_day by seconds_per_hour, using integer (//) division. Did this number agree with the floating-point value from the previous question, aside from the final .0?"
   ]
  },
  {
   "cell_type": "code",
   "execution_count": 6,
   "id": "041fedc1-d154-4f7e-89a4-b6820c2b63f3",
   "metadata": {},
   "outputs": [
    {
     "data": {
      "text/plain": [
       "24"
      ]
     },
     "execution_count": 6,
     "metadata": {},
     "output_type": "execute_result"
    }
   ],
   "source": [
    "# YES this number agrees\n",
    "seconds_per_day // seconds_per_hour"
   ]
  },
  {
   "cell_type": "markdown",
   "id": "21ea3a26-bdde-40ed-99eb-c62e215874e2",
   "metadata": {},
   "source": [
    "### 7. Write a generator, genPrimes, that returns the sequence of prime numbers on successive calls to its next() method: 2, 3, 5, 7, 11, ..."
   ]
  },
  {
   "cell_type": "code",
   "execution_count": 7,
   "id": "5f968224-b9d4-422b-87b4-069482919c54",
   "metadata": {},
   "outputs": [
    {
     "name": "stdout",
     "output_type": "stream",
     "text": [
      "2\n",
      "3\n",
      "5\n",
      "7\n",
      "11\n"
     ]
    }
   ],
   "source": [
    "def genPrimes():\n",
    "    n = 0\n",
    "    while True:\n",
    "        if n == 2 or n == 3 :\n",
    "            yield n\n",
    "        elif ((n-1)%6 == 0 or (n+1)%6 == 0) and n !=1:\n",
    "            yield n\n",
    "        n = n+1\n",
    "        \n",
    "output = genPrimes()\n",
    "for ele in range(5):\n",
    "    print(next(output))"
   ]
  },
  {
   "cell_type": "code",
   "execution_count": null,
   "id": "97892713-8aa8-494b-b692-482fdf877f37",
   "metadata": {},
   "outputs": [],
   "source": []
  }
 ],
 "metadata": {
  "kernelspec": {
   "display_name": "Python 3 (ipykernel)",
   "language": "python",
   "name": "python3"
  },
  "language_info": {
   "codemirror_mode": {
    "name": "ipython",
    "version": 3
   },
   "file_extension": ".py",
   "mimetype": "text/x-python",
   "name": "python",
   "nbconvert_exporter": "python",
   "pygments_lexer": "ipython3",
   "version": "3.10.6"
  }
 },
 "nbformat": 4,
 "nbformat_minor": 5
}
