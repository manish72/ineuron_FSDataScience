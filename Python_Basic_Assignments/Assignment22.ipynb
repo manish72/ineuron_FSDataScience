{
 "cells": [
  {
   "cell_type": "raw",
   "id": "c723409e-7af9-425f-ba62-6cae7a123d34",
   "metadata": {},
   "source": [
    "Q. What is the result of the code, and explain?\n",
    "\n",
    ">>> X = 'iNeuron'\n",
    ">>> def func(): print(X)\n",
    "\n",
    ">>> func()"
   ]
  },
  {
   "cell_type": "code",
   "execution_count": 2,
   "id": "bca89a55-44d5-459f-a832-1d2f5bd78e8b",
   "metadata": {},
   "outputs": [
    {
     "name": "stdout",
     "output_type": "stream",
     "text": [
      "iNeuron\n"
     ]
    }
   ],
   "source": [
    "X = 'iNeuron'\n",
    "def func(): \n",
    "    print(X)\n",
    "\n",
    "func()"
   ]
  },
  {
   "cell_type": "code",
   "execution_count": 6,
   "id": "9a7485f2-965c-4984-8ba0-509d21da9557",
   "metadata": {},
   "outputs": [],
   "source": [
    "# Ans: prints output as 'iNeuron'.\n",
    "# execution first x is declared(default x will be global) with value 'iNeuron' and func() will be invoked and prints the value of x"
   ]
  },
  {
   "cell_type": "raw",
   "id": "772eafac-02e5-4196-9386-5e43c2de8f89",
   "metadata": {},
   "source": [
    "Q. What is the result of the code, and explain?\n",
    "\n",
    ">>> X = 'iNeuron' >>> def func(): X = 'NI!'\n",
    "\n",
    ">>> func() >>> print(X)"
   ]
  },
  {
   "cell_type": "code",
   "execution_count": 5,
   "id": "346b703c-a884-4b2d-ab7c-516863096a53",
   "metadata": {},
   "outputs": [
    {
     "name": "stdout",
     "output_type": "stream",
     "text": [
      "iNeuron\n"
     ]
    }
   ],
   "source": [
    "X = 'iNeuron' \n",
    "def func(): \n",
    "    X = 'NI!'\n",
    "\n",
    "func()\n",
    "print(X)"
   ]
  },
  {
   "cell_type": "code",
   "execution_count": 7,
   "id": "334f8c6b-a47f-4d37-a95f-ea50c08129c9",
   "metadata": {},
   "outputs": [],
   "source": [
    "#Ans. The global variables are access in side the functions in python. But we can not access function variable out side function.\n",
    "#Since x is global variable we are able to print it out side of the function solution = 'iNeuron'"
   ]
  },
  {
   "cell_type": "raw",
   "id": "158a0942-aac3-45fa-a6c8-ba0d6610e0ce",
   "metadata": {},
   "source": [
    "Q. What does this code print, and why?\n",
    "\n",
    ">>> X = 'iNeuron' >>> def func(): X = 'NI' print(X)\n",
    "\n",
    ">>> func() >>> print(X)"
   ]
  },
  {
   "cell_type": "code",
   "execution_count": 8,
   "id": "da0b3001-0f44-4da1-9052-9b68b822b450",
   "metadata": {},
   "outputs": [
    {
     "name": "stdout",
     "output_type": "stream",
     "text": [
      "NI\n",
      "iNeuron\n"
     ]
    }
   ],
   "source": [
    "X = 'iNeuron'\n",
    "def func(): \n",
    "    X = 'NI'\n",
    "    print(X)\n",
    "\n",
    "func()\n",
    "print(X)"
   ]
  },
  {
   "cell_type": "code",
   "execution_count": 9,
   "id": "52cf1123-c600-4f8a-abb1-e4f6fa1f518e",
   "metadata": {},
   "outputs": [],
   "source": [
    "#Ans. The global variables are access in side the functions in python. But we can not access function variable out side function.\n",
    "# X is updated with 'NI' which is local to function and its immutable. its name space is with in the function \n",
    "# solution is 'NI!', 'iNeuron'"
   ]
  },
  {
   "cell_type": "raw",
   "id": "4f72581c-4cd9-4ad9-83e6-7bc19f11fc86",
   "metadata": {},
   "source": [
    "Q. What output does this code produce? Why?\n",
    "\n",
    ">>> X = 'iNeuron' >>> def func(): global X X = 'NI'\n",
    "\n",
    ">>> func() >>> print(X)"
   ]
  },
  {
   "cell_type": "code",
   "execution_count": 11,
   "id": "f104d174-30df-452c-a6bc-5f8c3d5221f5",
   "metadata": {},
   "outputs": [
    {
     "name": "stdout",
     "output_type": "stream",
     "text": [
      "NI\n",
      "NI\n"
     ]
    }
   ],
   "source": [
    "X = 'iNeuron'\n",
    "def func():\n",
    "    global X \n",
    "    X = 'NI'\n",
    "    print(X)\n",
    "\n",
    "func()\n",
    "print(X)"
   ]
  },
  {
   "cell_type": "code",
   "execution_count": 13,
   "id": "d6b32279-20ee-4d0a-91f8-6729dc6f1bf2",
   "metadata": {},
   "outputs": [],
   "source": [
    "# Ans. since the X in side function is made Global, it will be accesible out side of the function too. Now X will have new value.\n",
    "# Solution : 'NI!', 'NI!'"
   ]
  },
  {
   "cell_type": "raw",
   "id": "8550719f-a421-4502-832e-0544d327fa24",
   "metadata": {},
   "source": [
    "Q. What about this code—what’s the output, and why?\n",
    "\n",
    ">>> X = 'iNeuron' >>> def func(): X = 'NI' def nested(): print(X) nested()\n",
    "\n",
    ">>> func() >>> X"
   ]
  },
  {
   "cell_type": "code",
   "execution_count": 17,
   "id": "9dff3131-b37e-40a6-803f-b5c5d9cc7c1f",
   "metadata": {},
   "outputs": [
    {
     "name": "stdout",
     "output_type": "stream",
     "text": [
      "NI\n",
      "iNeuron\n"
     ]
    }
   ],
   "source": [
    "X = 'iNeuron'\n",
    "def func():\n",
    "    X = 'NI'\n",
    "    def nested():\n",
    "        print(X)    \n",
    "    nested()\n",
    "func()\n",
    "print(X)"
   ]
  },
  {
   "cell_type": "code",
   "execution_count": 18,
   "id": "9f901444-df87-4e84-b945-1335a486c6ad",
   "metadata": {},
   "outputs": [],
   "source": [
    "#Ans. the nested() function will print 'NI', Since, nested function is available in func() method, where X = 'NI' is local to nested function\n",
    "#Solution : 'iNeuron'"
   ]
  },
  {
   "cell_type": "raw",
   "id": "75cd635c-713a-4b79-a0fa-970c53c9cecb",
   "metadata": {},
   "source": [
    "6. How about this code: what is its output in Python 3, and explain?"
   ]
  },
  {
   "cell_type": "code",
   "execution_count": 19,
   "id": "10115307-b047-418f-9ad5-09e944c89cd3",
   "metadata": {},
   "outputs": [
    {
     "name": "stdout",
     "output_type": "stream",
     "text": [
      "spam\n"
     ]
    }
   ],
   "source": [
    "def func():\n",
    "    X = 'NI'\n",
    "    def nested():\n",
    "        nonlocal X\n",
    "        X = 'spam'\n",
    "    nested()\n",
    "    print(X)\n",
    "\n",
    "func()"
   ]
  },
  {
   "cell_type": "code",
   "execution_count": 20,
   "id": "d97ba1b5-0425-4618-a632-47c812639b1f",
   "metadata": {},
   "outputs": [],
   "source": [
    "# Nonlocal variables are used in nested functions whose local scope is not defined. \n",
    "# This means that the variable can be neither in the local nor the global scope. it print the updated value from nested function\n",
    "# Sol : 'spam'"
   ]
  }
 ],
 "metadata": {
  "kernelspec": {
   "display_name": "Python 3 (ipykernel)",
   "language": "python",
   "name": "python3"
  },
  "language_info": {
   "codemirror_mode": {
    "name": "ipython",
    "version": 3
   },
   "file_extension": ".py",
   "mimetype": "text/x-python",
   "name": "python",
   "nbconvert_exporter": "python",
   "pygments_lexer": "ipython3",
   "version": "3.10.6"
  }
 },
 "nbformat": 4,
 "nbformat_minor": 5
}
